{
 "cells": [
  {
   "cell_type": "markdown",
   "metadata": {
    "id": "FvYDy9apGRlt"
   },
   "source": [
    "# House Prices - Advanced Regression Techniques\n",
    "\n",
    "Description\n",
    "Start here if...\n",
    "You have some experience with R or Python and machine learning basics. This is a perfect competition for data science students who have completed an online course in machine learning and are looking to expand their skill set before trying a featured competition. \n",
    "\n",
    "💡Getting Started Notebook\n",
    "To get started quickly, feel free to take advantage of this starter notebook.\n",
    "\n",
    "### Competition Description\n",
    "\n",
    "\n",
    "Ask a home buyer to describe their dream house, and they probably won't begin with the height of the basement ceiling or the proximity to an east-west railroad. But this playground competition's dataset proves that much more influences price negotiations than the number of bedrooms or a white-picket fence.\n",
    "\n",
    "With 79 explanatory variables describing (almost) every aspect of residential homes in Ames, Iowa, this competition challenges you to predict the final price of each home.\n",
    "\n",
    "Practice Skills\n",
    "Creative feature engineering \n",
    "Advanced regression techniques like random forest and gradient boosting\n",
    "Acknowledgments\n",
    "The Ames Housing dataset was compiled by Dean De Cock for use in data science education. It's an incredible alternative for data scientists looking for a modernized and expanded version of the often cited Boston Housing dataset. \n",
    "\n",
    "Photo by Tom Thain on Unsplash."
   ]
  },
  {
   "cell_type": "markdown",
   "metadata": {
    "id": "jj1P1kTmGRlv"
   },
   "source": [
    "## Imports and Lab Setup\n",
    "\n"
   ]
  },
  {
   "cell_type": "code",
   "execution_count": 31,
   "metadata": {
    "id": "xuHD2EOxGRlv"
   },
   "outputs": [],
   "source": [
    "# for array computations and loading data\n",
    "import numpy as np\n",
    "import pandas as pd\n",
    "# for building linear regression models and preparing data\n",
    "from sklearn.linear_model import LinearRegression\n",
    "from sklearn.preprocessing import StandardScaler, PolynomialFeatures\n",
    "from sklearn.model_selection import train_test_split\n",
    "from sklearn.metrics import mean_squared_error\n",
    "\n",
    "# for building and training neural networks\n",
    "import tensorflow as tf\n",
    "\n",
    "# reduce display precision on numpy arrays\n",
    "np.set_printoptions(precision=2)\n",
    "\n",
    "# suppress warnings\n",
    "tf.get_logger().setLevel('ERROR')\n",
    "tf.autograph.set_verbosity(0)\n",
    "\n",
    "%matplotlib widget\n",
    "import matplotlib.pyplot as plt\n",
    "\n",
    "\n",
    "from sklearn.linear_model import Ridge"
   ]
  },
  {
   "cell_type": "markdown",
   "metadata": {},
   "source": [
    "# Data Input"
   ]
  },
  {
   "cell_type": "code",
   "execution_count": 2,
   "metadata": {},
   "outputs": [],
   "source": [
    "# df=pd.read_csv('data//train.csv')\n",
    "df=pd.read_csv('data//df_num_removed_2.csv')"
   ]
  },
  {
   "cell_type": "code",
   "execution_count": 3,
   "metadata": {},
   "outputs": [
    {
     "data": {
      "text/html": [
       "<div>\n",
       "<style scoped>\n",
       "    .dataframe tbody tr th:only-of-type {\n",
       "        vertical-align: middle;\n",
       "    }\n",
       "\n",
       "    .dataframe tbody tr th {\n",
       "        vertical-align: top;\n",
       "    }\n",
       "\n",
       "    .dataframe thead th {\n",
       "        text-align: right;\n",
       "    }\n",
       "</style>\n",
       "<table border=\"1\" class=\"dataframe\">\n",
       "  <thead>\n",
       "    <tr style=\"text-align: right;\">\n",
       "      <th></th>\n",
       "      <th>MSSubClass</th>\n",
       "      <th>OverallQual</th>\n",
       "      <th>OverallCond</th>\n",
       "      <th>BsmtFinSF1</th>\n",
       "      <th>BsmtFinSF2</th>\n",
       "      <th>BsmtUnfSF</th>\n",
       "      <th>TotalBsmtSF</th>\n",
       "      <th>1stFlrSF</th>\n",
       "      <th>2ndFlrSF</th>\n",
       "      <th>LowQualFinSF</th>\n",
       "      <th>...</th>\n",
       "      <th>GarageArea</th>\n",
       "      <th>WoodDeckSF</th>\n",
       "      <th>OpenPorchSF</th>\n",
       "      <th>EnclosedPorch</th>\n",
       "      <th>3SsnPorch</th>\n",
       "      <th>ScreenPorch</th>\n",
       "      <th>PoolArea</th>\n",
       "      <th>MiscVal</th>\n",
       "      <th>MoSold</th>\n",
       "      <th>SalePrice</th>\n",
       "    </tr>\n",
       "  </thead>\n",
       "  <tbody>\n",
       "    <tr>\n",
       "      <th>0</th>\n",
       "      <td>60</td>\n",
       "      <td>7</td>\n",
       "      <td>5</td>\n",
       "      <td>706</td>\n",
       "      <td>0</td>\n",
       "      <td>150</td>\n",
       "      <td>856</td>\n",
       "      <td>856</td>\n",
       "      <td>854</td>\n",
       "      <td>0</td>\n",
       "      <td>...</td>\n",
       "      <td>548</td>\n",
       "      <td>0</td>\n",
       "      <td>61</td>\n",
       "      <td>0</td>\n",
       "      <td>0</td>\n",
       "      <td>0</td>\n",
       "      <td>0</td>\n",
       "      <td>0</td>\n",
       "      <td>2</td>\n",
       "      <td>208500</td>\n",
       "    </tr>\n",
       "    <tr>\n",
       "      <th>1</th>\n",
       "      <td>20</td>\n",
       "      <td>6</td>\n",
       "      <td>8</td>\n",
       "      <td>978</td>\n",
       "      <td>0</td>\n",
       "      <td>284</td>\n",
       "      <td>1262</td>\n",
       "      <td>1262</td>\n",
       "      <td>0</td>\n",
       "      <td>0</td>\n",
       "      <td>...</td>\n",
       "      <td>460</td>\n",
       "      <td>298</td>\n",
       "      <td>0</td>\n",
       "      <td>0</td>\n",
       "      <td>0</td>\n",
       "      <td>0</td>\n",
       "      <td>0</td>\n",
       "      <td>0</td>\n",
       "      <td>5</td>\n",
       "      <td>181500</td>\n",
       "    </tr>\n",
       "    <tr>\n",
       "      <th>2</th>\n",
       "      <td>60</td>\n",
       "      <td>7</td>\n",
       "      <td>5</td>\n",
       "      <td>486</td>\n",
       "      <td>0</td>\n",
       "      <td>434</td>\n",
       "      <td>920</td>\n",
       "      <td>920</td>\n",
       "      <td>866</td>\n",
       "      <td>0</td>\n",
       "      <td>...</td>\n",
       "      <td>608</td>\n",
       "      <td>0</td>\n",
       "      <td>42</td>\n",
       "      <td>0</td>\n",
       "      <td>0</td>\n",
       "      <td>0</td>\n",
       "      <td>0</td>\n",
       "      <td>0</td>\n",
       "      <td>9</td>\n",
       "      <td>223500</td>\n",
       "    </tr>\n",
       "    <tr>\n",
       "      <th>3</th>\n",
       "      <td>70</td>\n",
       "      <td>7</td>\n",
       "      <td>5</td>\n",
       "      <td>216</td>\n",
       "      <td>0</td>\n",
       "      <td>540</td>\n",
       "      <td>756</td>\n",
       "      <td>961</td>\n",
       "      <td>756</td>\n",
       "      <td>0</td>\n",
       "      <td>...</td>\n",
       "      <td>642</td>\n",
       "      <td>0</td>\n",
       "      <td>35</td>\n",
       "      <td>272</td>\n",
       "      <td>0</td>\n",
       "      <td>0</td>\n",
       "      <td>0</td>\n",
       "      <td>0</td>\n",
       "      <td>2</td>\n",
       "      <td>140000</td>\n",
       "    </tr>\n",
       "    <tr>\n",
       "      <th>4</th>\n",
       "      <td>60</td>\n",
       "      <td>8</td>\n",
       "      <td>5</td>\n",
       "      <td>655</td>\n",
       "      <td>0</td>\n",
       "      <td>490</td>\n",
       "      <td>1145</td>\n",
       "      <td>1145</td>\n",
       "      <td>1053</td>\n",
       "      <td>0</td>\n",
       "      <td>...</td>\n",
       "      <td>836</td>\n",
       "      <td>192</td>\n",
       "      <td>84</td>\n",
       "      <td>0</td>\n",
       "      <td>0</td>\n",
       "      <td>0</td>\n",
       "      <td>0</td>\n",
       "      <td>0</td>\n",
       "      <td>12</td>\n",
       "      <td>250000</td>\n",
       "    </tr>\n",
       "  </tbody>\n",
       "</table>\n",
       "<p>5 rows × 30 columns</p>\n",
       "</div>"
      ],
      "text/plain": [
       "   MSSubClass  OverallQual  OverallCond  BsmtFinSF1  BsmtFinSF2  BsmtUnfSF  \\\n",
       "0          60            7            5         706           0        150   \n",
       "1          20            6            8         978           0        284   \n",
       "2          60            7            5         486           0        434   \n",
       "3          70            7            5         216           0        540   \n",
       "4          60            8            5         655           0        490   \n",
       "\n",
       "   TotalBsmtSF  1stFlrSF  2ndFlrSF  LowQualFinSF  ...  GarageArea  WoodDeckSF  \\\n",
       "0          856       856       854             0  ...         548           0   \n",
       "1         1262      1262         0             0  ...         460         298   \n",
       "2          920       920       866             0  ...         608           0   \n",
       "3          756       961       756             0  ...         642           0   \n",
       "4         1145      1145      1053             0  ...         836         192   \n",
       "\n",
       "   OpenPorchSF  EnclosedPorch  3SsnPorch  ScreenPorch  PoolArea  MiscVal  \\\n",
       "0           61              0          0            0         0        0   \n",
       "1            0              0          0            0         0        0   \n",
       "2           42              0          0            0         0        0   \n",
       "3           35            272          0            0         0        0   \n",
       "4           84              0          0            0         0        0   \n",
       "\n",
       "   MoSold  SalePrice  \n",
       "0       2     208500  \n",
       "1       5     181500  \n",
       "2       9     223500  \n",
       "3       2     140000  \n",
       "4      12     250000  \n",
       "\n",
       "[5 rows x 30 columns]"
      ]
     },
     "execution_count": 3,
     "metadata": {},
     "output_type": "execute_result"
    }
   ],
   "source": [
    "df.head()"
   ]
  },
  {
   "cell_type": "code",
   "execution_count": 4,
   "metadata": {},
   "outputs": [
    {
     "name": "stdout",
     "output_type": "stream",
     "text": [
      "<class 'pandas.core.frame.DataFrame'>\n",
      "RangeIndex: 1460 entries, 0 to 1459\n",
      "Data columns (total 30 columns):\n",
      " #   Column         Non-Null Count  Dtype\n",
      "---  ------         --------------  -----\n",
      " 0   MSSubClass     1460 non-null   int64\n",
      " 1   OverallQual    1460 non-null   int64\n",
      " 2   OverallCond    1460 non-null   int64\n",
      " 3   BsmtFinSF1     1460 non-null   int64\n",
      " 4   BsmtFinSF2     1460 non-null   int64\n",
      " 5   BsmtUnfSF      1460 non-null   int64\n",
      " 6   TotalBsmtSF    1460 non-null   int64\n",
      " 7   1stFlrSF       1460 non-null   int64\n",
      " 8   2ndFlrSF       1460 non-null   int64\n",
      " 9   LowQualFinSF   1460 non-null   int64\n",
      " 10  GrLivArea      1460 non-null   int64\n",
      " 11  BsmtFullBath   1460 non-null   int64\n",
      " 12  BsmtHalfBath   1460 non-null   int64\n",
      " 13  FullBath       1460 non-null   int64\n",
      " 14  HalfBath       1460 non-null   int64\n",
      " 15  BedroomAbvGr   1460 non-null   int64\n",
      " 16  KitchenAbvGr   1460 non-null   int64\n",
      " 17  TotRmsAbvGrd   1460 non-null   int64\n",
      " 18  Fireplaces     1460 non-null   int64\n",
      " 19  GarageCars     1460 non-null   int64\n",
      " 20  GarageArea     1460 non-null   int64\n",
      " 21  WoodDeckSF     1460 non-null   int64\n",
      " 22  OpenPorchSF    1460 non-null   int64\n",
      " 23  EnclosedPorch  1460 non-null   int64\n",
      " 24  3SsnPorch      1460 non-null   int64\n",
      " 25  ScreenPorch    1460 non-null   int64\n",
      " 26  PoolArea       1460 non-null   int64\n",
      " 27  MiscVal        1460 non-null   int64\n",
      " 28  MoSold         1460 non-null   int64\n",
      " 29  SalePrice      1460 non-null   int64\n",
      "dtypes: int64(30)\n",
      "memory usage: 342.3 KB\n"
     ]
    }
   ],
   "source": [
    "df.info()"
   ]
  },
  {
   "cell_type": "code",
   "execution_count": 5,
   "metadata": {},
   "outputs": [
    {
     "data": {
      "text/html": [
       "<div>\n",
       "<style scoped>\n",
       "    .dataframe tbody tr th:only-of-type {\n",
       "        vertical-align: middle;\n",
       "    }\n",
       "\n",
       "    .dataframe tbody tr th {\n",
       "        vertical-align: top;\n",
       "    }\n",
       "\n",
       "    .dataframe thead th {\n",
       "        text-align: right;\n",
       "    }\n",
       "</style>\n",
       "<table border=\"1\" class=\"dataframe\">\n",
       "  <thead>\n",
       "    <tr style=\"text-align: right;\">\n",
       "      <th></th>\n",
       "      <th>Id</th>\n",
       "      <th>MSSubClass</th>\n",
       "      <th>LotFrontage</th>\n",
       "      <th>LotArea</th>\n",
       "      <th>OverallQual</th>\n",
       "      <th>OverallCond</th>\n",
       "      <th>YearBuilt</th>\n",
       "      <th>YearRemodAdd</th>\n",
       "      <th>MasVnrArea</th>\n",
       "      <th>BsmtFinSF1</th>\n",
       "      <th>...</th>\n",
       "      <th>WoodDeckSF</th>\n",
       "      <th>OpenPorchSF</th>\n",
       "      <th>EnclosedPorch</th>\n",
       "      <th>3SsnPorch</th>\n",
       "      <th>ScreenPorch</th>\n",
       "      <th>PoolArea</th>\n",
       "      <th>MiscVal</th>\n",
       "      <th>MoSold</th>\n",
       "      <th>YrSold</th>\n",
       "      <th>SalePrice</th>\n",
       "    </tr>\n",
       "  </thead>\n",
       "  <tbody>\n",
       "    <tr>\n",
       "      <th>0</th>\n",
       "      <td>1</td>\n",
       "      <td>60</td>\n",
       "      <td>65.0</td>\n",
       "      <td>8450</td>\n",
       "      <td>7</td>\n",
       "      <td>5</td>\n",
       "      <td>2003</td>\n",
       "      <td>2003</td>\n",
       "      <td>196.0</td>\n",
       "      <td>706</td>\n",
       "      <td>...</td>\n",
       "      <td>0</td>\n",
       "      <td>61</td>\n",
       "      <td>0</td>\n",
       "      <td>0</td>\n",
       "      <td>0</td>\n",
       "      <td>0</td>\n",
       "      <td>0</td>\n",
       "      <td>2</td>\n",
       "      <td>2008</td>\n",
       "      <td>208500</td>\n",
       "    </tr>\n",
       "    <tr>\n",
       "      <th>1</th>\n",
       "      <td>2</td>\n",
       "      <td>20</td>\n",
       "      <td>80.0</td>\n",
       "      <td>9600</td>\n",
       "      <td>6</td>\n",
       "      <td>8</td>\n",
       "      <td>1976</td>\n",
       "      <td>1976</td>\n",
       "      <td>0.0</td>\n",
       "      <td>978</td>\n",
       "      <td>...</td>\n",
       "      <td>298</td>\n",
       "      <td>0</td>\n",
       "      <td>0</td>\n",
       "      <td>0</td>\n",
       "      <td>0</td>\n",
       "      <td>0</td>\n",
       "      <td>0</td>\n",
       "      <td>5</td>\n",
       "      <td>2007</td>\n",
       "      <td>181500</td>\n",
       "    </tr>\n",
       "    <tr>\n",
       "      <th>2</th>\n",
       "      <td>3</td>\n",
       "      <td>60</td>\n",
       "      <td>68.0</td>\n",
       "      <td>11250</td>\n",
       "      <td>7</td>\n",
       "      <td>5</td>\n",
       "      <td>2001</td>\n",
       "      <td>2002</td>\n",
       "      <td>162.0</td>\n",
       "      <td>486</td>\n",
       "      <td>...</td>\n",
       "      <td>0</td>\n",
       "      <td>42</td>\n",
       "      <td>0</td>\n",
       "      <td>0</td>\n",
       "      <td>0</td>\n",
       "      <td>0</td>\n",
       "      <td>0</td>\n",
       "      <td>9</td>\n",
       "      <td>2008</td>\n",
       "      <td>223500</td>\n",
       "    </tr>\n",
       "    <tr>\n",
       "      <th>3</th>\n",
       "      <td>4</td>\n",
       "      <td>70</td>\n",
       "      <td>60.0</td>\n",
       "      <td>9550</td>\n",
       "      <td>7</td>\n",
       "      <td>5</td>\n",
       "      <td>1915</td>\n",
       "      <td>1970</td>\n",
       "      <td>0.0</td>\n",
       "      <td>216</td>\n",
       "      <td>...</td>\n",
       "      <td>0</td>\n",
       "      <td>35</td>\n",
       "      <td>272</td>\n",
       "      <td>0</td>\n",
       "      <td>0</td>\n",
       "      <td>0</td>\n",
       "      <td>0</td>\n",
       "      <td>2</td>\n",
       "      <td>2006</td>\n",
       "      <td>140000</td>\n",
       "    </tr>\n",
       "    <tr>\n",
       "      <th>4</th>\n",
       "      <td>5</td>\n",
       "      <td>60</td>\n",
       "      <td>84.0</td>\n",
       "      <td>14260</td>\n",
       "      <td>8</td>\n",
       "      <td>5</td>\n",
       "      <td>2000</td>\n",
       "      <td>2000</td>\n",
       "      <td>350.0</td>\n",
       "      <td>655</td>\n",
       "      <td>...</td>\n",
       "      <td>192</td>\n",
       "      <td>84</td>\n",
       "      <td>0</td>\n",
       "      <td>0</td>\n",
       "      <td>0</td>\n",
       "      <td>0</td>\n",
       "      <td>0</td>\n",
       "      <td>12</td>\n",
       "      <td>2008</td>\n",
       "      <td>250000</td>\n",
       "    </tr>\n",
       "  </tbody>\n",
       "</table>\n",
       "<p>5 rows × 38 columns</p>\n",
       "</div>"
      ],
      "text/plain": [
       "   Id  MSSubClass  LotFrontage  LotArea  OverallQual  OverallCond  YearBuilt  \\\n",
       "0   1          60         65.0     8450            7            5       2003   \n",
       "1   2          20         80.0     9600            6            8       1976   \n",
       "2   3          60         68.0    11250            7            5       2001   \n",
       "3   4          70         60.0     9550            7            5       1915   \n",
       "4   5          60         84.0    14260            8            5       2000   \n",
       "\n",
       "   YearRemodAdd  MasVnrArea  BsmtFinSF1  ...  WoodDeckSF  OpenPorchSF  \\\n",
       "0          2003       196.0         706  ...           0           61   \n",
       "1          1976         0.0         978  ...         298            0   \n",
       "2          2002       162.0         486  ...           0           42   \n",
       "3          1970         0.0         216  ...           0           35   \n",
       "4          2000       350.0         655  ...         192           84   \n",
       "\n",
       "   EnclosedPorch  3SsnPorch  ScreenPorch  PoolArea  MiscVal  MoSold  YrSold  \\\n",
       "0              0          0            0         0        0       2    2008   \n",
       "1              0          0            0         0        0       5    2007   \n",
       "2              0          0            0         0        0       9    2008   \n",
       "3            272          0            0         0        0       2    2006   \n",
       "4              0          0            0         0        0      12    2008   \n",
       "\n",
       "   SalePrice  \n",
       "0     208500  \n",
       "1     181500  \n",
       "2     223500  \n",
       "3     140000  \n",
       "4     250000  \n",
       "\n",
       "[5 rows x 38 columns]"
      ]
     },
     "execution_count": 5,
     "metadata": {},
     "output_type": "execute_result"
    }
   ],
   "source": [
    "df_num = df.select_dtypes(include = ['float64', 'int64'])\n",
    "df_num.head()"
   ]
  },
  {
   "cell_type": "code",
   "execution_count": 6,
   "metadata": {},
   "outputs": [
    {
     "name": "stdout",
     "output_type": "stream",
     "text": [
      "Total number of NaN values in the DataFrame: 348\n"
     ]
    }
   ],
   "source": [
    "# Count the number of NaN values in the entire DataFrame\n",
    "num_nan_in_df = df_num.isna().sum().sum()\n",
    "print(f'Total number of NaN values in the DataFrame: {num_nan_in_df}')"
   ]
  },
  {
   "cell_type": "code",
   "execution_count": 7,
   "metadata": {},
   "outputs": [],
   "source": [
    "# Replace NaNs with the mean of the column:\n",
    "#df_num_filled = df_num.fillna(df_num.mean())"
   ]
  },
  {
   "cell_type": "code",
   "execution_count": 8,
   "metadata": {},
   "outputs": [],
   "source": [
    "# Remove cloumn with NaN values\n",
    "\n",
    "df_num_removed = df_num.dropna(axis=1)"
   ]
  },
  {
   "cell_type": "code",
   "execution_count": 9,
   "metadata": {},
   "outputs": [
    {
     "name": "stdout",
     "output_type": "stream",
     "text": [
      "Total number of NaN values in the DataFrame: 0\n"
     ]
    }
   ],
   "source": [
    "# Count the number of NaN values in the entire DataFrame\n",
    "num_nan_in_df = df_num_removed.isna().sum().sum()\n",
    "print(f'Total number of NaN values in the DataFrame: {num_nan_in_df}')"
   ]
  },
  {
   "cell_type": "code",
   "execution_count": 10,
   "metadata": {},
   "outputs": [
    {
     "name": "stdout",
     "output_type": "stream",
     "text": [
      "<class 'pandas.core.frame.DataFrame'>\n",
      "RangeIndex: 1460 entries, 0 to 1459\n",
      "Data columns (total 35 columns):\n",
      " #   Column         Non-Null Count  Dtype\n",
      "---  ------         --------------  -----\n",
      " 0   Id             1460 non-null   int64\n",
      " 1   MSSubClass     1460 non-null   int64\n",
      " 2   LotArea        1460 non-null   int64\n",
      " 3   OverallQual    1460 non-null   int64\n",
      " 4   OverallCond    1460 non-null   int64\n",
      " 5   YearBuilt      1460 non-null   int64\n",
      " 6   YearRemodAdd   1460 non-null   int64\n",
      " 7   BsmtFinSF1     1460 non-null   int64\n",
      " 8   BsmtFinSF2     1460 non-null   int64\n",
      " 9   BsmtUnfSF      1460 non-null   int64\n",
      " 10  TotalBsmtSF    1460 non-null   int64\n",
      " 11  1stFlrSF       1460 non-null   int64\n",
      " 12  2ndFlrSF       1460 non-null   int64\n",
      " 13  LowQualFinSF   1460 non-null   int64\n",
      " 14  GrLivArea      1460 non-null   int64\n",
      " 15  BsmtFullBath   1460 non-null   int64\n",
      " 16  BsmtHalfBath   1460 non-null   int64\n",
      " 17  FullBath       1460 non-null   int64\n",
      " 18  HalfBath       1460 non-null   int64\n",
      " 19  BedroomAbvGr   1460 non-null   int64\n",
      " 20  KitchenAbvGr   1460 non-null   int64\n",
      " 21  TotRmsAbvGrd   1460 non-null   int64\n",
      " 22  Fireplaces     1460 non-null   int64\n",
      " 23  GarageCars     1460 non-null   int64\n",
      " 24  GarageArea     1460 non-null   int64\n",
      " 25  WoodDeckSF     1460 non-null   int64\n",
      " 26  OpenPorchSF    1460 non-null   int64\n",
      " 27  EnclosedPorch  1460 non-null   int64\n",
      " 28  3SsnPorch      1460 non-null   int64\n",
      " 29  ScreenPorch    1460 non-null   int64\n",
      " 30  PoolArea       1460 non-null   int64\n",
      " 31  MiscVal        1460 non-null   int64\n",
      " 32  MoSold         1460 non-null   int64\n",
      " 33  YrSold         1460 non-null   int64\n",
      " 34  SalePrice      1460 non-null   int64\n",
      "dtypes: int64(35)\n",
      "memory usage: 399.3 KB\n"
     ]
    }
   ],
   "source": [
    "df_num_removed.info()"
   ]
  },
  {
   "cell_type": "code",
   "execution_count": 9,
   "metadata": {},
   "outputs": [
    {
     "ename": "NameError",
     "evalue": "name 'df_num_removed' is not defined",
     "output_type": "error",
     "traceback": [
      "\u001b[1;31m---------------------------------------------------------------------------\u001b[0m",
      "\u001b[1;31mNameError\u001b[0m                                 Traceback (most recent call last)",
      "Cell \u001b[1;32mIn[9], line 1\u001b[0m\n\u001b[1;32m----> 1\u001b[0m df_num_removed\u001b[38;5;241m.\u001b[39mto_csv(\u001b[38;5;124m'\u001b[39m\u001b[38;5;124mdf_num_removed.csv\u001b[39m\u001b[38;5;124m'\u001b[39m, index\u001b[38;5;241m=\u001b[39m\u001b[38;5;28;01mFalse\u001b[39;00m)\n",
      "\u001b[1;31mNameError\u001b[0m: name 'df_num_removed' is not defined"
     ]
    }
   ],
   "source": [
    "df_num_removed.to_csv('df_num_removed.csv', index=False)"
   ]
  },
  {
   "cell_type": "code",
   "execution_count": 5,
   "metadata": {},
   "outputs": [],
   "source": [
    "x = np.array(df.iloc[:, :-2])\n",
    "y = np.array(df['SalePrice'])\t\n"
   ]
  },
  {
   "cell_type": "code",
   "execution_count": 11,
   "metadata": {},
   "outputs": [
    {
     "data": {
      "text/plain": [
       "(1460, 28)"
      ]
     },
     "execution_count": 11,
     "metadata": {},
     "output_type": "execute_result"
    }
   ],
   "source": [
    "x.shape"
   ]
  },
  {
   "cell_type": "code",
   "execution_count": 49,
   "metadata": {},
   "outputs": [
    {
     "data": {
      "text/plain": [
       "(1460,)"
      ]
     },
     "execution_count": 49,
     "metadata": {},
     "output_type": "execute_result"
    }
   ],
   "source": [
    "y.shape"
   ]
  },
  {
   "cell_type": "code",
   "execution_count": 6,
   "metadata": {},
   "outputs": [
    {
     "name": "stdout",
     "output_type": "stream",
     "text": [
      "[[  60    7    5  706    0  150  856  856  854    0 1710    1    0    2\n",
      "     1    3    1    8    0    2  548    0   61    0    0    0    0    0]\n",
      " [  20    6    8  978    0  284 1262 1262    0    0 1262    0    1    2\n",
      "     0    3    1    6    1    2  460  298    0    0    0    0    0    0]\n",
      " [  60    7    5  486    0  434  920  920  866    0 1786    1    0    2\n",
      "     1    3    1    6    1    2  608    0   42    0    0    0    0    0]\n",
      " [  70    7    5  216    0  540  756  961  756    0 1717    1    0    1\n",
      "     0    3    1    7    1    3  642    0   35  272    0    0    0    0]\n",
      " [  60    8    5  655    0  490 1145 1145 1053    0 2198    1    0    2\n",
      "     1    4    1    9    1    3  836  192   84    0    0    0    0    0]]\n",
      "[208500 181500 223500 140000 250000]\n"
     ]
    }
   ],
   "source": [
    "print(x[:5])\n",
    "print(y[:5])"
   ]
  },
  {
   "cell_type": "code",
   "execution_count": 7,
   "metadata": {},
   "outputs": [
    {
     "data": {
      "text/plain": [
       "array([[208500],\n",
       "       [181500],\n",
       "       [223500],\n",
       "       ...,\n",
       "       [266500],\n",
       "       [142125],\n",
       "       [147500]], dtype=int64)"
      ]
     },
     "execution_count": 7,
     "metadata": {},
     "output_type": "execute_result"
    }
   ],
   "source": [
    "x.reshape(-1, 1)\n",
    "y.reshape(-1, 1)"
   ]
  },
  {
   "cell_type": "code",
   "execution_count": 52,
   "metadata": {},
   "outputs": [
    {
     "name": "stdout",
     "output_type": "stream",
     "text": [
      "1460\n",
      "1460\n"
     ]
    }
   ],
   "source": [
    "print(len(x))\n",
    "print(len(y))"
   ]
  },
  {
   "cell_type": "markdown",
   "metadata": {
    "id": "WbZdSoJHGRly"
   },
   "source": [
    "## Split the dataset into training, cross validation, and test sets\n",
    "\n",
    "\n",
    "\n",
    "\n"
   ]
  },
  {
   "cell_type": "code",
   "execution_count": 8,
   "metadata": {
    "colab": {
     "base_uri": "https://localhost:8080/"
    },
    "id": "22JKPjmjGRly",
    "outputId": "6f02748d-e8ef-4243-d7ff-a206be7e66f5"
   },
   "outputs": [
    {
     "name": "stdout",
     "output_type": "stream",
     "text": [
      "the shape of the training set (input) is: (876, 28)\n",
      "the shape of the training set (target) is: (876,)\n",
      "\n",
      "the shape of the cross validation set (input) is: (292, 28)\n",
      "the shape of the cross validation set (target) is: (292,)\n",
      "\n",
      "the shape of the test set (input) is: (292, 28)\n",
      "the shape of the test set (target) is: (292,)\n"
     ]
    }
   ],
   "source": [
    "# Get 60% of the dataset as the training set. Put the remaining 40% in temporary variables: x_ and y_.\n",
    "x_train, x_, y_train, y_ = train_test_split(x, y, test_size=0.40, random_state=1)\n",
    "\n",
    "# Split the 40% subset above into two: one half for cross validation and the other for the test set\n",
    "x_cv, x_test, y_cv, y_test = train_test_split(x_, y_, test_size=0.50, random_state=1)\n",
    "\n",
    "# Delete temporary variables\n",
    "del x_, y_\n",
    "\n",
    "print(f\"the shape of the training set (input) is: {x_train.shape}\")\n",
    "print(f\"the shape of the training set (target) is: {y_train.shape}\\n\")\n",
    "print(f\"the shape of the cross validation set (input) is: {x_cv.shape}\")\n",
    "print(f\"the shape of the cross validation set (target) is: {y_cv.shape}\\n\")\n",
    "print(f\"the shape of the test set (input) is: {x_test.shape}\")\n",
    "print(f\"the shape of the test set (target) is: {y_test.shape}\")"
   ]
  },
  {
   "cell_type": "markdown",
   "metadata": {},
   "source": [
    "## Plotting data"
   ]
  },
  {
   "cell_type": "code",
   "execution_count": 14,
   "metadata": {},
   "outputs": [
    {
     "data": {
      "text/plain": [
       "'\"\\nfrom sklearn import dummy, metrics\\n\\n# Assume y is your target variable\\ny_mean = np.mean(y)\\n\\n# Create a dummy regressor that will always predict the mean\\ndummy_regr = dummy.DummyRegressor(strategy=\"mean\")\\ndummy_regr.fit(x, y)\\n\\n# Now you can use dummy_regr.predict(X) to get the baseline predictions\\ny_pred_baseline = dummy_regr.predict(x)\\n\\n# And you can calculate the baseline error, for example using Mean Squared Error\\nmse_baseline = metrics.mean_squared_error(y, y_pred_baseline)\\n\\n'"
      ]
     },
     "execution_count": 14,
     "metadata": {},
     "output_type": "execute_result"
    }
   ],
   "source": [
    "\"\"\"\"\n",
    "from sklearn import dummy, metrics\n",
    "\n",
    "# Assume y is your target variable\n",
    "y_mean = np.mean(y)\n",
    "\n",
    "# Create a dummy regressor that will always predict the mean\n",
    "dummy_regr = dummy.DummyRegressor(strategy=\"mean\")\n",
    "dummy_regr.fit(x, y)\n",
    "\n",
    "# Now you can use dummy_regr.predict(X) to get the baseline predictions\n",
    "y_pred_baseline = dummy_regr.predict(x)\n",
    "\n",
    "# And you can calculate the baseline error, for example using Mean Squared Error\n",
    "mse_baseline = metrics.mean_squared_error(y, y_pred_baseline)\n",
    "\n",
    "\"\"\""
   ]
  },
  {
   "cell_type": "code",
   "execution_count": 20,
   "metadata": {},
   "outputs": [
    {
     "data": {
      "text/plain": [
       "'\\nfig, ax = plt.subplots(1,1,figsize=(4,4))\\nax.plot(x, y_pred_baseline, \"--\", color = \"orangered\", label=\"y_ideal\", lw=1)\\nax.set_title(\"Training, CV, Test\",fontsize = 14)\\nax.set_xlabel(\"x\")\\nax.set_ylabel(\"y\")\\n\\nax.scatter(x_train, y_train, color = \"red\",           label=\"train\")\\nax.scatter(x_cv, y_cv,       color = dlc[\"dlorange\"], label=\"cv\")\\nax.scatter(x_test, y_test,   color = dlc[\"dlblue\"],   label=\"test\")\\nax.legend(loc=\\'upper left\\')\\nplt.show()\\n\\n'"
      ]
     },
     "execution_count": 20,
     "metadata": {},
     "output_type": "execute_result"
    }
   ],
   "source": [
    "\n",
    "\"\"\"\n",
    "fig, ax = plt.subplots(1,1,figsize=(4,4))\n",
    "ax.plot(x, y_pred_baseline, \"--\", color = \"orangered\", label=\"y_ideal\", lw=1)\n",
    "ax.set_title(\"Training, CV, Test\",fontsize = 14)\n",
    "ax.set_xlabel(\"x\")\n",
    "ax.set_ylabel(\"y\")\n",
    "\n",
    "ax.scatter(x_train, y_train, color = \"red\",           label=\"train\")\n",
    "ax.scatter(x_cv, y_cv,       color = dlc[\"dlorange\"], label=\"cv\")\n",
    "ax.scatter(x_test, y_test,   color = dlc[\"dlblue\"],   label=\"test\")\n",
    "ax.legend(loc='upper left')\n",
    "plt.show()\n",
    "\n",
    "\"\"\""
   ]
  },
  {
   "cell_type": "markdown",
   "metadata": {
    "id": "Ayr22PeEGRly"
   },
   "source": [
    "## Fit a linear model\n"
   ]
  },
  {
   "cell_type": "code",
   "execution_count": 9,
   "metadata": {
    "colab": {
     "base_uri": "https://localhost:8080/",
     "height": 295
    },
    "id": "QlJ7eQ0TGRlz",
    "outputId": "ed899629-4c5e-468d-d5c8-a4b3349bd62a"
   },
   "outputs": [],
   "source": [
    "# Initialize the class\n",
    "scaler_linear = StandardScaler()\n",
    "\n",
    "# Compute the mean and standard deviation of the training set then transform it\n",
    "X_train_scaled = scaler_linear.fit_transform(x_train)\n",
    "X_cv_scaled = scaler_linear.fit_transform(x_cv)\n",
    "X_test_scaled = scaler_linear.fit_transform(x_test)\n"
   ]
  },
  {
   "cell_type": "markdown",
   "metadata": {
    "id": "vzDw7PcJGRlz"
   },
   "source": [
    "### Train the model\n",
    "\n"
   ]
  },
  {
   "cell_type": "code",
   "execution_count": 10,
   "metadata": {
    "colab": {
     "base_uri": "https://localhost:8080/"
    },
    "id": "DIol3uTkGRlz",
    "outputId": "283e5e1c-9aff-41bb-c2d3-6977861d63bd"
   },
   "outputs": [
    {
     "data": {
      "text/html": [
       "<style>#sk-container-id-1 {color: black;background-color: white;}#sk-container-id-1 pre{padding: 0;}#sk-container-id-1 div.sk-toggleable {background-color: white;}#sk-container-id-1 label.sk-toggleable__label {cursor: pointer;display: block;width: 100%;margin-bottom: 0;padding: 0.3em;box-sizing: border-box;text-align: center;}#sk-container-id-1 label.sk-toggleable__label-arrow:before {content: \"▸\";float: left;margin-right: 0.25em;color: #696969;}#sk-container-id-1 label.sk-toggleable__label-arrow:hover:before {color: black;}#sk-container-id-1 div.sk-estimator:hover label.sk-toggleable__label-arrow:before {color: black;}#sk-container-id-1 div.sk-toggleable__content {max-height: 0;max-width: 0;overflow: hidden;text-align: left;background-color: #f0f8ff;}#sk-container-id-1 div.sk-toggleable__content pre {margin: 0.2em;color: black;border-radius: 0.25em;background-color: #f0f8ff;}#sk-container-id-1 input.sk-toggleable__control:checked~div.sk-toggleable__content {max-height: 200px;max-width: 100%;overflow: auto;}#sk-container-id-1 input.sk-toggleable__control:checked~label.sk-toggleable__label-arrow:before {content: \"▾\";}#sk-container-id-1 div.sk-estimator input.sk-toggleable__control:checked~label.sk-toggleable__label {background-color: #d4ebff;}#sk-container-id-1 div.sk-label input.sk-toggleable__control:checked~label.sk-toggleable__label {background-color: #d4ebff;}#sk-container-id-1 input.sk-hidden--visually {border: 0;clip: rect(1px 1px 1px 1px);clip: rect(1px, 1px, 1px, 1px);height: 1px;margin: -1px;overflow: hidden;padding: 0;position: absolute;width: 1px;}#sk-container-id-1 div.sk-estimator {font-family: monospace;background-color: #f0f8ff;border: 1px dotted black;border-radius: 0.25em;box-sizing: border-box;margin-bottom: 0.5em;}#sk-container-id-1 div.sk-estimator:hover {background-color: #d4ebff;}#sk-container-id-1 div.sk-parallel-item::after {content: \"\";width: 100%;border-bottom: 1px solid gray;flex-grow: 1;}#sk-container-id-1 div.sk-label:hover label.sk-toggleable__label {background-color: #d4ebff;}#sk-container-id-1 div.sk-serial::before {content: \"\";position: absolute;border-left: 1px solid gray;box-sizing: border-box;top: 0;bottom: 0;left: 50%;z-index: 0;}#sk-container-id-1 div.sk-serial {display: flex;flex-direction: column;align-items: center;background-color: white;padding-right: 0.2em;padding-left: 0.2em;position: relative;}#sk-container-id-1 div.sk-item {position: relative;z-index: 1;}#sk-container-id-1 div.sk-parallel {display: flex;align-items: stretch;justify-content: center;background-color: white;position: relative;}#sk-container-id-1 div.sk-item::before, #sk-container-id-1 div.sk-parallel-item::before {content: \"\";position: absolute;border-left: 1px solid gray;box-sizing: border-box;top: 0;bottom: 0;left: 50%;z-index: -1;}#sk-container-id-1 div.sk-parallel-item {display: flex;flex-direction: column;z-index: 1;position: relative;background-color: white;}#sk-container-id-1 div.sk-parallel-item:first-child::after {align-self: flex-end;width: 50%;}#sk-container-id-1 div.sk-parallel-item:last-child::after {align-self: flex-start;width: 50%;}#sk-container-id-1 div.sk-parallel-item:only-child::after {width: 0;}#sk-container-id-1 div.sk-dashed-wrapped {border: 1px dashed gray;margin: 0 0.4em 0.5em 0.4em;box-sizing: border-box;padding-bottom: 0.4em;background-color: white;}#sk-container-id-1 div.sk-label label {font-family: monospace;font-weight: bold;display: inline-block;line-height: 1.2em;}#sk-container-id-1 div.sk-label-container {text-align: center;}#sk-container-id-1 div.sk-container {/* jupyter's `normalize.less` sets `[hidden] { display: none; }` but bootstrap.min.css set `[hidden] { display: none !important; }` so we also need the `!important` here to be able to override the default hidden behavior on the sphinx rendered scikit-learn.org. See: https://github.com/scikit-learn/scikit-learn/issues/21755 */display: inline-block !important;position: relative;}#sk-container-id-1 div.sk-text-repr-fallback {display: none;}</style><div id=\"sk-container-id-1\" class=\"sk-top-container\"><div class=\"sk-text-repr-fallback\"><pre>LinearRegression()</pre><b>In a Jupyter environment, please rerun this cell to show the HTML representation or trust the notebook. <br />On GitHub, the HTML representation is unable to render, please try loading this page with nbviewer.org.</b></div><div class=\"sk-container\" hidden><div class=\"sk-item\"><div class=\"sk-estimator sk-toggleable\"><input class=\"sk-toggleable__control sk-hidden--visually\" id=\"sk-estimator-id-1\" type=\"checkbox\" checked><label for=\"sk-estimator-id-1\" class=\"sk-toggleable__label sk-toggleable__label-arrow\">LinearRegression</label><div class=\"sk-toggleable__content\"><pre>LinearRegression()</pre></div></div></div></div></div>"
      ],
      "text/plain": [
       "LinearRegression()"
      ]
     },
     "execution_count": 10,
     "metadata": {},
     "output_type": "execute_result"
    }
   ],
   "source": [
    "# Initialize the class\n",
    "linear_model = LinearRegression()\n",
    "\n",
    "# Train the model\n",
    "linear_model.fit(X_train_scaled, y_train )"
   ]
  },
  {
   "cell_type": "code",
   "execution_count": 17,
   "metadata": {},
   "outputs": [
    {
     "data": {
      "text/plain": [
       "array([[-0.88,  1.38,  0.36, ..., -0.28, -0.06, -0.09],\n",
       "       [-0.88, -1.58,  0.36, ..., -0.28, -0.06, -0.09],\n",
       "       [-0.88, -0.1 ,  1.26, ..., -0.28, -0.06, -0.09],\n",
       "       ...,\n",
       "       [ 0.31, -0.1 ,  1.26, ..., -0.28, -0.06, -0.09],\n",
       "       [ 2.45, -0.1 , -2.36, ..., -0.28, -0.06, -0.09],\n",
       "       [-0.64, -2.32, -1.46, ..., -0.28, -0.06,  0.81]])"
      ]
     },
     "execution_count": 17,
     "metadata": {},
     "output_type": "execute_result"
    }
   ],
   "source": [
    "X_train_scaled"
   ]
  },
  {
   "cell_type": "code",
   "execution_count": 57,
   "metadata": {},
   "outputs": [
    {
     "data": {
      "text/plain": [
       "array([[ 0.05, -0.07, -0.44, ..., -0.21, -0.08, -0.17],\n",
       "       [ 1.43,  0.63, -0.44, ...,  4.75, -0.08, -0.17],\n",
       "       [ 1.43,  0.63, -0.44, ..., -0.21, -0.08, -0.17],\n",
       "       ...,\n",
       "       [ 0.05,  1.33, -0.44, ..., -0.21, -0.08, -0.17],\n",
       "       [ 0.74, -0.77, -0.44, ..., -0.21, -0.08, -0.17],\n",
       "       [-0.63, -1.47,  1.39, ..., -0.21, -0.08, -0.17]])"
      ]
     },
     "execution_count": 57,
     "metadata": {},
     "output_type": "execute_result"
    }
   ],
   "source": [
    "X_cv_scaled"
   ]
  },
  {
   "cell_type": "markdown",
   "metadata": {
    "id": "x8LW5leOGRlz"
   },
   "source": [
    "### Evaluate the Model\n"
   ]
  },
  {
   "cell_type": "code",
   "execution_count": 11,
   "metadata": {
    "colab": {
     "base_uri": "https://localhost:8080/"
    },
    "id": "xmuskcDhfy8z",
    "outputId": "10bb7e65-1723-4ab6-8bbf-f800e8777474"
   },
   "outputs": [
    {
     "name": "stdout",
     "output_type": "stream",
     "text": [
      "training MSE (using sklearn function): 574514894.1641624\n"
     ]
    }
   ],
   "source": [
    "# Feed the scaled training set and get the predictions\n",
    "yhat = linear_model.predict(X_train_scaled)\n",
    "\n",
    "# Use scikit-learn's utility function and divide by 2\n",
    "print(f\"training MSE (using sklearn function): {mean_squared_error(y_train, yhat) / 2}\")\n",
    "\n",
    "# for-loop implementation\n",
    "total_squared_error = 0\n"
   ]
  },
  {
   "cell_type": "code",
   "execution_count": 12,
   "metadata": {
    "colab": {
     "base_uri": "https://localhost:8080/"
    },
    "id": "JJQbmq70GRl0",
    "outputId": "7b75d664-7cf0-4a27-c79c-3236857f444b"
   },
   "outputs": [
    {
     "name": "stdout",
     "output_type": "stream",
     "text": [
      "Cross validation MSE: 8.653465945017704e+30\n"
     ]
    }
   ],
   "source": [
    "\n",
    "# Feed the scaled cross validation set\n",
    "yhat = linear_model.predict(X_cv_scaled)\n",
    "\n",
    "# Use scikit-learn's utility function and divide by 2\n",
    "print(f\"Cross validation MSE: {mean_squared_error(y_cv, yhat) / 2}\")\n"
   ]
  },
  {
   "cell_type": "markdown",
   "metadata": {
    "id": "BZtb_blcGRl0"
   },
   "source": [
    "## Adding Polynomial Features"
   ]
  },
  {
   "cell_type": "markdown",
   "metadata": {},
   "source": []
  },
  {
   "cell_type": "markdown",
   "metadata": {},
   "source": [
    "### choosing degree and lambda (regulation)"
   ]
  },
  {
   "cell_type": "code",
   "execution_count": 13,
   "metadata": {},
   "outputs": [],
   "source": [
    "# Function to plot the training and cross validation errors \n",
    "def plot_train_cv_mses(range, train, cv, title):\n",
    "    plt.figure(figsize=(10, 5))\n",
    "    plt.plot(range, train, label='Train MSE')\n",
    "    plt.plot(range, cv, label='CV MSE')\n",
    "    plt.legend()\n",
    "    plt.xlabel('Range')\n",
    "    plt.ylabel('MSE')\n",
    "    plt.ylim(0, 1e10)\n",
    "    plt.xscale('log')  # This is to make the lambda range more readable\n",
    "    plt.title(title)\n",
    "    plt.show()"
   ]
  },
  {
   "cell_type": "code",
   "execution_count": 17,
   "metadata": {},
   "outputs": [
    {
     "data": {
      "application/vnd.jupyter.widget-view+json": {
       "model_id": "79d413c3da0449988c65fd248c06595a",
       "version_major": 2,
       "version_minor": 0
      },
      "image/png": "[encoded data removed]",
      "text/html": [
       "\n",
       "            <div style=\"display: inline-block;\">\n",
       "                <div class=\"jupyter-widgets widget-label\" style=\"text-align: center;\">\n",
       "                    Figure\n",
       "                </div>\n",
       "                <img src='data:image/png;base64,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' width=1000.0/>\n",
       "            </div>\n",
       "        "
      ],
      "text/plain": [
       "Canvas(toolbar=Toolbar(toolitems=[('Home', 'Reset original view', 'home', 'home'), ('Back', 'Back to previous …"
      ]
     },
     "metadata": {},
     "output_type": "display_data"
    },
    {
     "name": "stdout",
     "output_type": "stream",
     "text": [
      "The optimal lambda for degree value 1 regularization is: 100.0\n",
      "The minimum cross validation MSE for degree value 1 is: 1120012415.8904498\n"
     ]
    },
    {
     "data": {
      "application/vnd.jupyter.widget-view+json": {
       "model_id": "4cff9fd990be48ab9e09ba7351a5507b",
       "version_major": 2,
       "version_minor": 0
      },
      "image/png": "[encoded data removed]",
      "text/html": [
       "\n",
       "            <div style=\"display: inline-block;\">\n",
       "                <div class=\"jupyter-widgets widget-label\" style=\"text-align: center;\">\n",
       "                    Figure\n",
       "                </div>\n",
       "                <img src='data:image/png;base64,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' width=1000.0/>\n",
       "            </div>\n",
       "        "
      ],
      "text/plain": [
       "Canvas(toolbar=Toolbar(toolitems=[('Home', 'Reset original view', 'home', 'home'), ('Back', 'Back to previous …"
      ]
     },
     "metadata": {},
     "output_type": "display_data"
    },
    {
     "name": "stdout",
     "output_type": "stream",
     "text": [
      "The optimal lambda for degree value 2 regularization is: 10.0\n",
      "The minimum cross validation MSE for degree value 2 is: 417539929.4845713\n"
     ]
    },
    {
     "name": "stderr",
     "output_type": "stream",
     "text": [
      "c:\\Users\\sasin\\anaconda3\\Lib\\site-packages\\sklearn\\linear_model\\_ridge.py:253: LinAlgWarning: Ill-conditioned matrix (rcond=1.78884e-17): result may not be accurate.\n",
      "  dual_coef = linalg.solve(K, y, assume_a=\"pos\", overwrite_a=False)\n",
      "c:\\Users\\sasin\\anaconda3\\Lib\\site-packages\\sklearn\\linear_model\\_ridge.py:255: UserWarning: Singular matrix in solving dual problem. Using least-squares solution instead.\n",
      "  warnings.warn(\n"
     ]
    },
    {
     "data": {
      "application/vnd.jupyter.widget-view+json": {
       "model_id": "2883fdd6dd2b45358b6e4fa28791e4b9",
       "version_major": 2,
       "version_minor": 0
      },
      "image/png": "[encoded data removed]",
      "text/html": [
       "\n",
       "            <div style=\"display: inline-block;\">\n",
       "                <div class=\"jupyter-widgets widget-label\" style=\"text-align: center;\">\n",
       "                    Figure\n",
       "                </div>\n",
       "                <img src='data:image/png;base64,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' width=1000.0/>\n",
       "            </div>\n",
       "        "
      ],
      "text/plain": [
       "Canvas(toolbar=Toolbar(toolitems=[('Home', 'Reset original view', 'home', 'home'), ('Back', 'Back to previous …"
      ]
     },
     "metadata": {},
     "output_type": "display_data"
    },
    {
     "name": "stdout",
     "output_type": "stream",
     "text": [
      "The optimal lambda for degree value 3 regularization is: 100.0\n",
      "The minimum cross validation MSE for degree value 3 is: 355727092.00200164\n"
     ]
    },
    {
     "name": "stderr",
     "output_type": "stream",
     "text": [
      "c:\\Users\\sasin\\anaconda3\\Lib\\site-packages\\sklearn\\linear_model\\_ridge.py:253: LinAlgWarning: Ill-conditioned matrix (rcond=3.08296e-18): result may not be accurate.\n",
      "  dual_coef = linalg.solve(K, y, assume_a=\"pos\", overwrite_a=False)\n",
      "c:\\Users\\sasin\\anaconda3\\Lib\\site-packages\\sklearn\\linear_model\\_ridge.py:253: LinAlgWarning: Ill-conditioned matrix (rcond=2.36344e-17): result may not be accurate.\n",
      "  dual_coef = linalg.solve(K, y, assume_a=\"pos\", overwrite_a=False)\n",
      "c:\\Users\\sasin\\anaconda3\\Lib\\site-packages\\sklearn\\linear_model\\_ridge.py:255: UserWarning: Singular matrix in solving dual problem. Using least-squares solution instead.\n",
      "  warnings.warn(\n"
     ]
    },
    {
     "data": {
      "application/vnd.jupyter.widget-view+json": {
       "model_id": "7a95b8bca0e344dabfe97d4df80b678b",
       "version_major": 2,
       "version_minor": 0
      },
      "image/png": "[encoded data removed]",
      "text/html": [
       "\n",
       "            <div style=\"display: inline-block;\">\n",
       "                <div class=\"jupyter-widgets widget-label\" style=\"text-align: center;\">\n",
       "                    Figure\n",
       "                </div>\n",
       "                <img src='data:image/png;base64,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' width=1000.0/>\n",
       "            </div>\n",
       "        "
      ],
      "text/plain": [
       "Canvas(toolbar=Toolbar(toolitems=[('Home', 'Reset original view', 'home', 'home'), ('Back', 'Back to previous …"
      ]
     },
     "metadata": {},
     "output_type": "display_data"
    },
    {
     "name": "stdout",
     "output_type": "stream",
     "text": [
      "The optimal lambda for degree value 4 regularization is: 10000.0\n",
      "The minimum cross validation MSE for degree value 4 is: 605809588.0343039\n",
      "The optimal degree for regularization is: 3\n",
      "The lambda for the optimal degree is: 100.0\n"
     ]
    }
   ],
   "source": [
    "# Initialize lists to save the errors, models, and feature transforms\n",
    "lambda_range = np.array([1e-10, 1e-9, 1e-8, 1e-7, 1e-6, 1e-5, 1e-4, 1e-3,1e-2, 1e-1, 0.0, 1e1, 1e2, 1e3, 1e4, 1e5, 1e6, 1e7, 1e8, 1e9, 1e10])\n",
    "train_mses_mses = []\n",
    "cv_mses_mses = []\n",
    "num_steps = len(lambda_range)\n",
    "optimal_lambdas = []\n",
    "degrees = []\n",
    "maxdegree = 4\n",
    "# Function to plot the training and cross validation errors \n",
    "def plot_train_cv_mses(range, train, cv, title):\n",
    "    plt.figure(figsize=(10, 5))\n",
    "    plt.plot(range, train, label='Train MSE')\n",
    "    plt.plot(range, cv, label='CV MSE')\n",
    "    plt.legend()\n",
    "    plt.xlabel('Range')\n",
    "    plt.ylabel('MSE')\n",
    "    plt.ylim(0, 1e10)\n",
    "    plt.xscale('log')  # This is to make the lambda range more readable\n",
    "    plt.title(title)\n",
    "    plt.show()\n",
    "\n",
    "\n",
    "# Loop over 10 times. Each adding one more degree of polynomial higher than the last.\n",
    "for degree in range(1,maxdegree+1):\n",
    "\n",
    "    train_mses = []\n",
    "    cv_mses = []\n",
    "    models = []\n",
    "    polys = []\n",
    "    scalers = []\n",
    "    optimal_degree = degree\n",
    "    for i in range(num_steps):\n",
    "    \n",
    "        lambda_ = lambda_range[i]\n",
    "\n",
    "        # Add polynomial features to the training set\n",
    "        poly = PolynomialFeatures(optimal_degree, include_bias=False)\n",
    "        X_train_mapped = poly.fit_transform(x_train)\n",
    "    \n",
    "        # Scale the training set\n",
    "        scaler_poly = StandardScaler()\n",
    "        X_train_mapped_scaled = scaler_poly.fit_transform(X_train_mapped)\n",
    "    \n",
    "        # Create and train the model\n",
    "        model = Ridge(alpha=lambda_)\n",
    "        model.fit(X_train_mapped_scaled, y_train )\n",
    "    \n",
    "        # Compute the training MSE\n",
    "        yhat = model.predict(X_train_mapped_scaled)\n",
    "        train_mse = mean_squared_error(y_train, yhat) / 2\n",
    "        train_mses.append(train_mse)\n",
    "    \n",
    "        # Add polynomial features and scale the cross validation set\n",
    "        X_cv_mapped = poly.transform(x_cv)\n",
    "        X_cv_mapped_scaled = scaler_poly.transform(X_cv_mapped)\n",
    "    \n",
    "        # Compute the cross validation MSE\n",
    "        yhat = model.predict(X_cv_mapped_scaled)\n",
    "        cv_mse = mean_squared_error(y_cv, yhat) / 2\n",
    "        cv_mses.append(cv_mse)\n",
    "\n",
    "    plot_train_cv_mses(lambda_range, train_mses, cv_mses, 'Training and Cross Validation Errors')\n",
    "    plt.xlabel('Lambda')\n",
    "    # Find the index of the smallest cross-validation MSE\n",
    "    optimal_lambda_index_for_degree = np.argmin(cv_mses)\n",
    "\n",
    "    # Find the optimal lambda using the index\n",
    "    optimal_lambda_for_degree = lambda_range[optimal_lambda_index_for_degree]\n",
    "\n",
    "    print(f\"The optimal lambda for degree value {degree} regularization is: {optimal_lambda_for_degree}\")\n",
    "    print(f\"The minimum cross validation MSE for degree value {degree} is: {cv_mses[optimal_lambda_index_for_degree]}\")\n",
    "\n",
    "    cv_mses_mses.append(cv_mses[optimal_lambda_index_for_degree])\n",
    "    train_mses_mses.append(train_mses[optimal_lambda_index_for_degree]) \n",
    "    optimal_lambdas.append(optimal_lambda_for_degree)\n",
    "    degrees.append(degree)\n",
    "    \n",
    "optimal_degree_index = np.argmin(cv_mses_mses)\n",
    "optimal_degree = degrees[optimal_degree_index]\n",
    "\n",
    "print(f\"The optimal degree for regularization is: {optimal_degree}\")\n",
    "print(f\"The lambda for the optimal degree is: {optimal_lambdas[optimal_degree_index]}\")\n"
   ]
  },
  {
   "cell_type": "code",
   "execution_count": 18,
   "metadata": {},
   "outputs": [
    {
     "name": "stdout",
     "output_type": "stream",
     "text": [
      "[581520174.8575681, 199171729.8487028, 123816337.82597974, 208532409.17976874]\n",
      "[1120012415.8904498, 417539929.4845713, 355727092.00200164, 605809588.0343039]\n"
     ]
    }
   ],
   "source": [
    "print(train_mses_mses)\n",
    "print(cv_mses_mses)"
   ]
  },
  {
   "cell_type": "code",
   "execution_count": 19,
   "metadata": {},
   "outputs": [
    {
     "data": {
      "application/vnd.jupyter.widget-view+json": {
       "model_id": "86567755cbe34a26a701ec292be0c642",
       "version_major": 2,
       "version_minor": 0
      },
      "image/png": "[encoded data removed]",
      "text/html": [
       "\n",
       "            <div style=\"display: inline-block;\">\n",
       "                <div class=\"jupyter-widgets widget-label\" style=\"text-align: center;\">\n",
       "                    Figure\n",
       "                </div>\n",
       "                <img src='data:image/png;base64,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' width=1000.0/>\n",
       "            </div>\n",
       "        "
      ],
      "text/plain": [
       "Canvas(toolbar=Toolbar(toolitems=[('Home', 'Reset original view', 'home', 'home'), ('Back', 'Back to previous …"
      ]
     },
     "metadata": {},
     "output_type": "display_data"
    }
   ],
   "source": [
    "\n",
    "plot_train_cv_mses(degrees, train_mses_mses, cv_mses_mses, 'Training and Cross Validation Errors')"
   ]
  },
  {
   "cell_type": "markdown",
   "metadata": {},
   "source": [
    "## Accuracey test"
   ]
  },
  {
   "cell_type": "code",
   "execution_count": 79,
   "metadata": {},
   "outputs": [],
   "source": [
    "lambda_= 100\n",
    "optimal_degree = 3"
   ]
  },
  {
   "cell_type": "code",
   "execution_count": 74,
   "metadata": {},
   "outputs": [
    {
     "data": {
      "text/html": [
       "<style>#sk-container-id-4 {color: black;background-color: white;}#sk-container-id-4 pre{padding: 0;}#sk-container-id-4 div.sk-toggleable {background-color: white;}#sk-container-id-4 label.sk-toggleable__label {cursor: pointer;display: block;width: 100%;margin-bottom: 0;padding: 0.3em;box-sizing: border-box;text-align: center;}#sk-container-id-4 label.sk-toggleable__label-arrow:before {content: \"▸\";float: left;margin-right: 0.25em;color: #696969;}#sk-container-id-4 label.sk-toggleable__label-arrow:hover:before {color: black;}#sk-container-id-4 div.sk-estimator:hover label.sk-toggleable__label-arrow:before {color: black;}#sk-container-id-4 div.sk-toggleable__content {max-height: 0;max-width: 0;overflow: hidden;text-align: left;background-color: #f0f8ff;}#sk-container-id-4 div.sk-toggleable__content pre {margin: 0.2em;color: black;border-radius: 0.25em;background-color: #f0f8ff;}#sk-container-id-4 input.sk-toggleable__control:checked~div.sk-toggleable__content {max-height: 200px;max-width: 100%;overflow: auto;}#sk-container-id-4 input.sk-toggleable__control:checked~label.sk-toggleable__label-arrow:before {content: \"▾\";}#sk-container-id-4 div.sk-estimator input.sk-toggleable__control:checked~label.sk-toggleable__label {background-color: #d4ebff;}#sk-container-id-4 div.sk-label input.sk-toggleable__control:checked~label.sk-toggleable__label {background-color: #d4ebff;}#sk-container-id-4 input.sk-hidden--visually {border: 0;clip: rect(1px 1px 1px 1px);clip: rect(1px, 1px, 1px, 1px);height: 1px;margin: -1px;overflow: hidden;padding: 0;position: absolute;width: 1px;}#sk-container-id-4 div.sk-estimator {font-family: monospace;background-color: #f0f8ff;border: 1px dotted black;border-radius: 0.25em;box-sizing: border-box;margin-bottom: 0.5em;}#sk-container-id-4 div.sk-estimator:hover {background-color: #d4ebff;}#sk-container-id-4 div.sk-parallel-item::after {content: \"\";width: 100%;border-bottom: 1px solid gray;flex-grow: 1;}#sk-container-id-4 div.sk-label:hover label.sk-toggleable__label {background-color: #d4ebff;}#sk-container-id-4 div.sk-serial::before {content: \"\";position: absolute;border-left: 1px solid gray;box-sizing: border-box;top: 0;bottom: 0;left: 50%;z-index: 0;}#sk-container-id-4 div.sk-serial {display: flex;flex-direction: column;align-items: center;background-color: white;padding-right: 0.2em;padding-left: 0.2em;position: relative;}#sk-container-id-4 div.sk-item {position: relative;z-index: 1;}#sk-container-id-4 div.sk-parallel {display: flex;align-items: stretch;justify-content: center;background-color: white;position: relative;}#sk-container-id-4 div.sk-item::before, #sk-container-id-4 div.sk-parallel-item::before {content: \"\";position: absolute;border-left: 1px solid gray;box-sizing: border-box;top: 0;bottom: 0;left: 50%;z-index: -1;}#sk-container-id-4 div.sk-parallel-item {display: flex;flex-direction: column;z-index: 1;position: relative;background-color: white;}#sk-container-id-4 div.sk-parallel-item:first-child::after {align-self: flex-end;width: 50%;}#sk-container-id-4 div.sk-parallel-item:last-child::after {align-self: flex-start;width: 50%;}#sk-container-id-4 div.sk-parallel-item:only-child::after {width: 0;}#sk-container-id-4 div.sk-dashed-wrapped {border: 1px dashed gray;margin: 0 0.4em 0.5em 0.4em;box-sizing: border-box;padding-bottom: 0.4em;background-color: white;}#sk-container-id-4 div.sk-label label {font-family: monospace;font-weight: bold;display: inline-block;line-height: 1.2em;}#sk-container-id-4 div.sk-label-container {text-align: center;}#sk-container-id-4 div.sk-container {/* jupyter's `normalize.less` sets `[hidden] { display: none; }` but bootstrap.min.css set `[hidden] { display: none !important; }` so we also need the `!important` here to be able to override the default hidden behavior on the sphinx rendered scikit-learn.org. See: https://github.com/scikit-learn/scikit-learn/issues/21755 */display: inline-block !important;position: relative;}#sk-container-id-4 div.sk-text-repr-fallback {display: none;}</style><div id=\"sk-container-id-4\" class=\"sk-top-container\"><div class=\"sk-text-repr-fallback\"><pre>Ridge(alpha=100.0)</pre><b>In a Jupyter environment, please rerun this cell to show the HTML representation or trust the notebook. <br />On GitHub, the HTML representation is unable to render, please try loading this page with nbviewer.org.</b></div><div class=\"sk-container\" hidden><div class=\"sk-item\"><div class=\"sk-estimator sk-toggleable\"><input class=\"sk-toggleable__control sk-hidden--visually\" id=\"sk-estimator-id-4\" type=\"checkbox\" checked><label for=\"sk-estimator-id-4\" class=\"sk-toggleable__label sk-toggleable__label-arrow\">Ridge</label><div class=\"sk-toggleable__content\"><pre>Ridge(alpha=100.0)</pre></div></div></div></div></div>"
      ],
      "text/plain": [
       "Ridge(alpha=100.0)"
      ]
     },
     "execution_count": 74,
     "metadata": {},
     "output_type": "execute_result"
    }
   ],
   "source": [
    "lambda_ = float(lambda_)\n",
    "degree = int(optimal_degree)\n",
    "poly = PolynomialFeatures(degree, include_bias=False)\n",
    "X_train_mapped = poly.fit_transform(x_train)\n",
    "X_cv_mapped = poly.transform(x_cv)\n",
    "X_test_mapped = poly.transform(x_test)\n",
    "\n",
    "# Scale the features using the z-score\n",
    "scaler = StandardScaler()\n",
    "X_train_mapped_scaled = scaler.fit_transform(X_train_mapped)\n",
    "X_cv_mapped_scaled = scaler.transform(X_cv_mapped)\n",
    "X_test_mapped_scaled = scaler.transform(X_test_mapped)\n",
    "\n",
    "# Train the model\n",
    "model = Ridge(alpha=lambda_)\n",
    "model.fit(X_train_mapped_scaled, y_train)\n"
   ]
  },
  {
   "cell_type": "code",
   "execution_count": 60,
   "metadata": {},
   "outputs": [
    {
     "name": "stdout",
     "output_type": "stream",
     "text": [
      "Test MAE: 24114.953000\n",
      "Test MSE: 2225600981.504100\n",
      "Test R2 Score: 0.603088\n",
      "Model accuracy:  60.30879344537592\n"
     ]
    }
   ],
   "source": [
    "from sklearn.metrics import mean_absolute_error, mean_squared_error, r2_score\n",
    "\n",
    "# Predict the target values using the model\n",
    "yhat_test = model.predict(X_test_mapped_scaled)\n",
    "\n",
    "# Calculate the metrics\n",
    "\n",
    "mae_test = mean_absolute_error(y_test, yhat_test)\n",
    "mse_test = mean_squared_error(y_test, yhat_test)\n",
    "r2_test = r2_score(y_test, yhat_test)\n",
    "\n",
    "print('Test MAE: %f' % mae_test)\n",
    "print('Test MSE: %f' % mse_test)\n",
    "print('Test R2 Score: %f' % r2_test)\n",
    "\n",
    "print(\"Model accuracy: \", r2_test * 100)"
   ]
  },
  {
   "cell_type": "code",
   "execution_count": null,
   "metadata": {},
   "outputs": [],
   "source": []
  },
  {
   "cell_type": "markdown",
   "metadata": {
    "id": "m5uStJF3GRl2"
   },
   "source": [
    "## Neural Networks"
   ]
  },
  {
   "cell_type": "markdown",
   "metadata": {},
   "source": [
    "### Prepare the Data"
   ]
  },
  {
   "cell_type": "code",
   "execution_count": 24,
   "metadata": {
    "id": "-armALWpGRl2"
   },
   "outputs": [],
   "source": [
    "# Add polynomial features\n",
    "degree = int(optimal_degree)\n",
    "poly = PolynomialFeatures(degree, include_bias=False)\n",
    "X_train_mapped = poly.fit_transform(x_train)\n",
    "X_cv_mapped = poly.transform(x_cv)\n",
    "X_test_mapped = poly.transform(x_test)"
   ]
  },
  {
   "cell_type": "code",
   "execution_count": 26,
   "metadata": {
    "id": "hBn-0m0IGRl2"
   },
   "outputs": [],
   "source": [
    "# Scale the features using the z-score\n",
    "scaler = StandardScaler()\n",
    "X_train_mapped_scaled = scaler.fit_transform(X_train_mapped)\n",
    "X_cv_mapped_scaled = scaler.transform(X_cv_mapped)\n",
    "X_test_mapped_scaled = scaler.transform(X_test_mapped)"
   ]
  },
  {
   "cell_type": "markdown",
   "metadata": {},
   "source": [
    "### Build and train the models"
   ]
  },
  {
   "cell_type": "code",
   "execution_count": 29,
   "metadata": {},
   "outputs": [],
   "source": [
    "def build_models(lambda_):\n",
    "    \n",
    "    tf.random.set_seed(20)\n",
    "    \n",
    "    model_1 = Sequential(\n",
    "        [\n",
    "            Dense(25, activation = 'relu', kernel_regularizer=tf.keras.regularizers.l2(lambda_)),\n",
    "            Dense(15, activation = 'relu', kernel_regularizer=tf.keras.regularizers.l2(lambda_)),\n",
    "            Dense(1, activation = 'linear')\n",
    "        ],\n",
    "        name='model_1'\n",
    "    )\n",
    "\n",
    "    model_2 = Sequential(\n",
    "        [\n",
    "            Dense(20, activation = 'relu', kernel_regularizer=tf.keras.regularizers.l2(lambda_)),\n",
    "            Dense(12, activation = 'relu', kernel_regularizer=tf.keras.regularizers.l2(lambda_)),\n",
    "            Dense(12, activation = 'relu', kernel_regularizer=tf.keras.regularizers.l2(lambda_)),\n",
    "            Dense(20, activation = 'relu', kernel_regularizer=tf.keras.regularizers.l2(lambda_)),\n",
    "            Dense(1, activation = 'linear')\n",
    "        ],\n",
    "        name='model_2'\n",
    "    )\n",
    "    \n",
    "    model_3 = Sequential(\n",
    "        [\n",
    "            Dense(32, activation = 'relu', kernel_regularizer=tf.keras.regularizers.l2(lambda_)),\n",
    "            Dense(16, activation = 'relu', kernel_regularizer=tf.keras.regularizers.l2(lambda_)),\n",
    "            Dense(8, activation = 'relu', kernel_regularizer=tf.keras.regularizers.l2(lambda_)),\n",
    "            Dense(4, activation = 'relu', kernel_regularizer=tf.keras.regularizers.l2(lambda_)),\n",
    "            Dense(12, activation = 'relu', kernel_regularizer=tf.keras.regularizers.l2(lambda_)),\n",
    "            Dense(1, activation = 'linear')\n",
    "        ],\n",
    "        name='model_3'\n",
    "    )\n",
    "\n",
    "    model_list = [model_1, model_2, model_3]\n",
    "    \n",
    "    return model_list"
   ]
  },
  {
   "cell_type": "code",
   "execution_count": 90,
   "metadata": {},
   "outputs": [
    {
     "name": "stdout",
     "output_type": "stream",
     "text": [
      "Training model_1...\n",
      "Done!\n",
      "\n",
      "\u001b[1m28/28\u001b[0m \u001b[32m━━━━━━━━━━━━━━━━━━━━\u001b[0m\u001b[37m\u001b[0m \u001b[1m0s\u001b[0m 3ms/step\n",
      "\u001b[1m10/10\u001b[0m \u001b[32m━━━━━━━━━━━━━━━━━━━━\u001b[0m\u001b[37m\u001b[0m \u001b[1m0s\u001b[0m 2ms/step \n",
      "Training model_1...\n",
      "Done!\n",
      "\n",
      "\u001b[1m28/28\u001b[0m \u001b[32m━━━━━━━━━━━━━━━━━━━━\u001b[0m\u001b[37m\u001b[0m \u001b[1m0s\u001b[0m 5ms/step\n",
      "\u001b[1m10/10\u001b[0m \u001b[32m━━━━━━━━━━━━━━━━━━━━\u001b[0m\u001b[37m\u001b[0m \u001b[1m0s\u001b[0m 2ms/step \n",
      "Training model_1...\n",
      "Done!\n",
      "\n",
      "\u001b[1m28/28\u001b[0m \u001b[32m━━━━━━━━━━━━━━━━━━━━\u001b[0m\u001b[37m\u001b[0m \u001b[1m0s\u001b[0m 2ms/step\n",
      "\u001b[1m10/10\u001b[0m \u001b[32m━━━━━━━━━━━━━━━━━━━━\u001b[0m\u001b[37m\u001b[0m \u001b[1m0s\u001b[0m 2ms/step \n",
      "Training model_1...\n",
      "Done!\n",
      "\n",
      "\u001b[1m28/28\u001b[0m \u001b[32m━━━━━━━━━━━━━━━━━━━━\u001b[0m\u001b[37m\u001b[0m \u001b[1m0s\u001b[0m 2ms/step\n",
      "\u001b[1m10/10\u001b[0m \u001b[32m━━━━━━━━━━━━━━━━━━━━\u001b[0m\u001b[37m\u001b[0m \u001b[1m0s\u001b[0m 1ms/step \n",
      "Training model_1...\n",
      "Done!\n",
      "\n",
      "\u001b[1m28/28\u001b[0m \u001b[32m━━━━━━━━━━━━━━━━━━━━\u001b[0m\u001b[37m\u001b[0m \u001b[1m0s\u001b[0m 3ms/step\n",
      "\u001b[1m10/10\u001b[0m \u001b[32m━━━━━━━━━━━━━━━━━━━━\u001b[0m\u001b[37m\u001b[0m \u001b[1m0s\u001b[0m 1ms/step \n",
      "Training model_1...\n",
      "Done!\n",
      "\n",
      "\u001b[1m28/28\u001b[0m \u001b[32m━━━━━━━━━━━━━━━━━━━━\u001b[0m\u001b[37m\u001b[0m \u001b[1m0s\u001b[0m 2ms/step\n",
      "\u001b[1m10/10\u001b[0m \u001b[32m━━━━━━━━━━━━━━━━━━━━\u001b[0m\u001b[37m\u001b[0m \u001b[1m0s\u001b[0m 1ms/step \n",
      "Training model_1...\n",
      "Done!\n",
      "\n",
      "\u001b[1m28/28\u001b[0m \u001b[32m━━━━━━━━━━━━━━━━━━━━\u001b[0m\u001b[37m\u001b[0m \u001b[1m0s\u001b[0m 4ms/step\n",
      "\u001b[1m10/10\u001b[0m \u001b[32m━━━━━━━━━━━━━━━━━━━━\u001b[0m\u001b[37m\u001b[0m \u001b[1m0s\u001b[0m 2ms/step \n",
      "Training model_1...\n",
      "Done!\n",
      "\n",
      "\u001b[1m28/28\u001b[0m \u001b[32m━━━━━━━━━━━━━━━━━━━━\u001b[0m\u001b[37m\u001b[0m \u001b[1m0s\u001b[0m 4ms/step\n",
      "\u001b[1m10/10\u001b[0m \u001b[32m━━━━━━━━━━━━━━━━━━━━\u001b[0m\u001b[37m\u001b[0m \u001b[1m0s\u001b[0m 2ms/step \n",
      "Training model_1...\n",
      "Done!\n",
      "\n",
      "\u001b[1m28/28\u001b[0m \u001b[32m━━━━━━━━━━━━━━━━━━━━\u001b[0m\u001b[37m\u001b[0m \u001b[1m0s\u001b[0m 4ms/step\n",
      "\u001b[1m10/10\u001b[0m \u001b[32m━━━━━━━━━━━━━━━━━━━━\u001b[0m\u001b[37m\u001b[0m \u001b[1m0s\u001b[0m 2ms/step \n",
      "Training model_1...\n",
      "Done!\n",
      "\n",
      "\u001b[1m28/28\u001b[0m \u001b[32m━━━━━━━━━━━━━━━━━━━━\u001b[0m\u001b[37m\u001b[0m \u001b[1m0s\u001b[0m 4ms/step\n",
      "\u001b[1m10/10\u001b[0m \u001b[32m━━━━━━━━━━━━━━━━━━━━\u001b[0m\u001b[37m\u001b[0m \u001b[1m0s\u001b[0m 1ms/step \n",
      "Training model_1...\n",
      "Done!\n",
      "\n",
      "\u001b[1m28/28\u001b[0m \u001b[32m━━━━━━━━━━━━━━━━━━━━\u001b[0m\u001b[37m\u001b[0m \u001b[1m0s\u001b[0m 4ms/step\n",
      "\u001b[1m10/10\u001b[0m \u001b[32m━━━━━━━━━━━━━━━━━━━━\u001b[0m\u001b[37m\u001b[0m \u001b[1m0s\u001b[0m 2ms/step \n",
      "Training model_1...\n",
      "Done!\n",
      "\n",
      "\u001b[1m28/28\u001b[0m \u001b[32m━━━━━━━━━━━━━━━━━━━━\u001b[0m\u001b[37m\u001b[0m \u001b[1m0s\u001b[0m 3ms/step\n",
      "\u001b[1m10/10\u001b[0m \u001b[32m━━━━━━━━━━━━━━━━━━━━\u001b[0m\u001b[37m\u001b[0m \u001b[1m0s\u001b[0m 2ms/step \n",
      "Training model_1...\n",
      "Done!\n",
      "\n",
      "\u001b[1m28/28\u001b[0m \u001b[32m━━━━━━━━━━━━━━━━━━━━\u001b[0m\u001b[37m\u001b[0m \u001b[1m0s\u001b[0m 4ms/step\n",
      "\u001b[1m10/10\u001b[0m \u001b[32m━━━━━━━━━━━━━━━━━━━━\u001b[0m\u001b[37m\u001b[0m \u001b[1m0s\u001b[0m 2ms/step \n",
      "Training model_1...\n",
      "Done!\n",
      "\n",
      "\u001b[1m28/28\u001b[0m \u001b[32m━━━━━━━━━━━━━━━━━━━━\u001b[0m\u001b[37m\u001b[0m \u001b[1m0s\u001b[0m 4ms/step\n",
      "\u001b[1m10/10\u001b[0m \u001b[32m━━━━━━━━━━━━━━━━━━━━\u001b[0m\u001b[37m\u001b[0m \u001b[1m0s\u001b[0m 2ms/step \n",
      "Training model_1...\n",
      "Done!\n",
      "\n",
      "\u001b[1m28/28\u001b[0m \u001b[32m━━━━━━━━━━━━━━━━━━━━\u001b[0m\u001b[37m\u001b[0m \u001b[1m0s\u001b[0m 4ms/step\n",
      "\u001b[1m10/10\u001b[0m \u001b[32m━━━━━━━━━━━━━━━━━━━━\u001b[0m\u001b[37m\u001b[0m \u001b[1m0s\u001b[0m 2ms/step \n",
      "Training model_1...\n",
      "Done!\n",
      "\n",
      "\u001b[1m28/28\u001b[0m \u001b[32m━━━━━━━━━━━━━━━━━━━━\u001b[0m\u001b[37m\u001b[0m \u001b[1m0s\u001b[0m 4ms/step\n",
      "\u001b[1m10/10\u001b[0m \u001b[32m━━━━━━━━━━━━━━━━━━━━\u001b[0m\u001b[37m\u001b[0m \u001b[1m0s\u001b[0m 2ms/step \n",
      "Training model_1...\n",
      "Done!\n",
      "\n",
      "\u001b[1m28/28\u001b[0m \u001b[32m━━━━━━━━━━━━━━━━━━━━\u001b[0m\u001b[37m\u001b[0m \u001b[1m0s\u001b[0m 5ms/step\n",
      "\u001b[1m10/10\u001b[0m \u001b[32m━━━━━━━━━━━━━━━━━━━━\u001b[0m\u001b[37m\u001b[0m \u001b[1m0s\u001b[0m 2ms/step \n",
      "Training model_1...\n",
      "Done!\n",
      "\n",
      "\u001b[1m28/28\u001b[0m \u001b[32m━━━━━━━━━━━━━━━━━━━━\u001b[0m\u001b[37m\u001b[0m \u001b[1m0s\u001b[0m 4ms/step\n",
      "\u001b[1m10/10\u001b[0m \u001b[32m━━━━━━━━━━━━━━━━━━━━\u001b[0m\u001b[37m\u001b[0m \u001b[1m0s\u001b[0m 2ms/step \n",
      "Training model_1...\n",
      "Done!\n",
      "\n",
      "\u001b[1m28/28\u001b[0m \u001b[32m━━━━━━━━━━━━━━━━━━━━\u001b[0m\u001b[37m\u001b[0m \u001b[1m0s\u001b[0m 4ms/step\n",
      "\u001b[1m10/10\u001b[0m \u001b[32m━━━━━━━━━━━━━━━━━━━━\u001b[0m\u001b[37m\u001b[0m \u001b[1m0s\u001b[0m 2ms/step \n",
      "Training model_1...\n",
      "Done!\n",
      "\n",
      "\u001b[1m28/28\u001b[0m \u001b[32m━━━━━━━━━━━━━━━━━━━━\u001b[0m\u001b[37m\u001b[0m \u001b[1m0s\u001b[0m 4ms/step\n",
      "\u001b[1m10/10\u001b[0m \u001b[32m━━━━━━━━━━━━━━━━━━━━\u001b[0m\u001b[37m\u001b[0m \u001b[1m0s\u001b[0m 2ms/step \n",
      "Training model_1...\n",
      "Done!\n",
      "\n",
      "\u001b[1m28/28\u001b[0m \u001b[32m━━━━━━━━━━━━━━━━━━━━\u001b[0m\u001b[37m\u001b[0m \u001b[1m0s\u001b[0m 4ms/step\n",
      "\u001b[1m10/10\u001b[0m \u001b[32m━━━━━━━━━━━━━━━━━━━━\u001b[0m\u001b[37m\u001b[0m \u001b[1m0s\u001b[0m 2ms/step \n",
      "Training model_2...\n",
      "Done!\n",
      "\n",
      "\u001b[1m28/28\u001b[0m \u001b[32m━━━━━━━━━━━━━━━━━━━━\u001b[0m\u001b[37m\u001b[0m \u001b[1m0s\u001b[0m 5ms/step\n",
      "\u001b[1m10/10\u001b[0m \u001b[32m━━━━━━━━━━━━━━━━━━━━\u001b[0m\u001b[37m\u001b[0m \u001b[1m0s\u001b[0m 2ms/step \n",
      "Training model_2...\n",
      "Done!\n",
      "\n",
      "\u001b[1m28/28\u001b[0m \u001b[32m━━━━━━━━━━━━━━━━━━━━\u001b[0m\u001b[37m\u001b[0m \u001b[1m0s\u001b[0m 8ms/step\n",
      "\u001b[1m10/10\u001b[0m \u001b[32m━━━━━━━━━━━━━━━━━━━━\u001b[0m\u001b[37m\u001b[0m \u001b[1m0s\u001b[0m 2ms/step \n",
      "Training model_2...\n",
      "Done!\n",
      "\n",
      "\u001b[1m28/28\u001b[0m \u001b[32m━━━━━━━━━━━━━━━━━━━━\u001b[0m\u001b[37m\u001b[0m \u001b[1m0s\u001b[0m 5ms/step\n",
      "\u001b[1m10/10\u001b[0m \u001b[32m━━━━━━━━━━━━━━━━━━━━\u001b[0m\u001b[37m\u001b[0m \u001b[1m0s\u001b[0m 2ms/step \n",
      "Training model_2...\n",
      "Done!\n",
      "\n",
      "\u001b[1m28/28\u001b[0m \u001b[32m━━━━━━━━━━━━━━━━━━━━\u001b[0m\u001b[37m\u001b[0m \u001b[1m0s\u001b[0m 6ms/step\n",
      "\u001b[1m10/10\u001b[0m \u001b[32m━━━━━━━━━━━━━━━━━━━━\u001b[0m\u001b[37m\u001b[0m \u001b[1m0s\u001b[0m 2ms/step \n",
      "Training model_2...\n",
      "Done!\n",
      "\n",
      "\u001b[1m28/28\u001b[0m \u001b[32m━━━━━━━━━━━━━━━━━━━━\u001b[0m\u001b[37m\u001b[0m \u001b[1m0s\u001b[0m 6ms/step\n",
      "\u001b[1m10/10\u001b[0m \u001b[32m━━━━━━━━━━━━━━━━━━━━\u001b[0m\u001b[37m\u001b[0m \u001b[1m0s\u001b[0m 2ms/step \n",
      "Training model_2...\n",
      "Done!\n",
      "\n",
      "\u001b[1m28/28\u001b[0m \u001b[32m━━━━━━━━━━━━━━━━━━━━\u001b[0m\u001b[37m\u001b[0m \u001b[1m0s\u001b[0m 6ms/step\n",
      "\u001b[1m10/10\u001b[0m \u001b[32m━━━━━━━━━━━━━━━━━━━━\u001b[0m\u001b[37m\u001b[0m \u001b[1m0s\u001b[0m 3ms/step \n",
      "Training model_2...\n",
      "Done!\n",
      "\n",
      "\u001b[1m28/28\u001b[0m \u001b[32m━━━━━━━━━━━━━━━━━━━━\u001b[0m\u001b[37m\u001b[0m \u001b[1m0s\u001b[0m 6ms/step\n",
      "\u001b[1m10/10\u001b[0m \u001b[32m━━━━━━━━━━━━━━━━━━━━\u001b[0m\u001b[37m\u001b[0m \u001b[1m0s\u001b[0m 3ms/step \n",
      "Training model_2...\n",
      "Done!\n",
      "\n",
      "\u001b[1m28/28\u001b[0m \u001b[32m━━━━━━━━━━━━━━━━━━━━\u001b[0m\u001b[37m\u001b[0m \u001b[1m0s\u001b[0m 7ms/step\n",
      "\u001b[1m10/10\u001b[0m \u001b[32m━━━━━━━━━━━━━━━━━━━━\u001b[0m\u001b[37m\u001b[0m \u001b[1m0s\u001b[0m 2ms/step \n",
      "Training model_2...\n",
      "Done!\n",
      "\n",
      "\u001b[1m28/28\u001b[0m \u001b[32m━━━━━━━━━━━━━━━━━━━━\u001b[0m\u001b[37m\u001b[0m \u001b[1m0s\u001b[0m 6ms/step\n",
      "\u001b[1m10/10\u001b[0m \u001b[32m━━━━━━━━━━━━━━━━━━━━\u001b[0m\u001b[37m\u001b[0m \u001b[1m0s\u001b[0m 3ms/step \n",
      "Training model_2...\n",
      "Done!\n",
      "\n",
      "\u001b[1m28/28\u001b[0m \u001b[32m━━━━━━━━━━━━━━━━━━━━\u001b[0m\u001b[37m\u001b[0m \u001b[1m0s\u001b[0m 6ms/step\n",
      "\u001b[1m10/10\u001b[0m \u001b[32m━━━━━━━━━━━━━━━━━━━━\u001b[0m\u001b[37m\u001b[0m \u001b[1m0s\u001b[0m 2ms/step \n",
      "Training model_2...\n",
      "Done!\n",
      "\n",
      "\u001b[1m28/28\u001b[0m \u001b[32m━━━━━━━━━━━━━━━━━━━━\u001b[0m\u001b[37m\u001b[0m \u001b[1m0s\u001b[0m 6ms/step\n",
      "\u001b[1m10/10\u001b[0m \u001b[32m━━━━━━━━━━━━━━━━━━━━\u001b[0m\u001b[37m\u001b[0m \u001b[1m0s\u001b[0m 2ms/step \n",
      "Training model_2...\n",
      "Done!\n",
      "\n",
      "\u001b[1m28/28\u001b[0m \u001b[32m━━━━━━━━━━━━━━━━━━━━\u001b[0m\u001b[37m\u001b[0m \u001b[1m0s\u001b[0m 6ms/step\n",
      "\u001b[1m10/10\u001b[0m \u001b[32m━━━━━━━━━━━━━━━━━━━━\u001b[0m\u001b[37m\u001b[0m \u001b[1m0s\u001b[0m 2ms/step \n",
      "Training model_2...\n",
      "Done!\n",
      "\n",
      "\u001b[1m28/28\u001b[0m \u001b[32m━━━━━━━━━━━━━━━━━━━━\u001b[0m\u001b[37m\u001b[0m \u001b[1m2s\u001b[0m 52ms/step\n",
      "\u001b[1m10/10\u001b[0m \u001b[32m━━━━━━━━━━━━━━━━━━━━\u001b[0m\u001b[37m\u001b[0m \u001b[1m0s\u001b[0m 1ms/step \n",
      "Training model_2...\n",
      "Done!\n",
      "\n",
      "\u001b[1m28/28\u001b[0m \u001b[32m━━━━━━━━━━━━━━━━━━━━\u001b[0m\u001b[37m\u001b[0m \u001b[1m0s\u001b[0m 5ms/step\n",
      "\u001b[1m10/10\u001b[0m \u001b[32m━━━━━━━━━━━━━━━━━━━━\u001b[0m\u001b[37m\u001b[0m \u001b[1m0s\u001b[0m 2ms/step \n",
      "Training model_2...\n",
      "Done!\n",
      "\n",
      "\u001b[1m28/28\u001b[0m \u001b[32m━━━━━━━━━━━━━━━━━━━━\u001b[0m\u001b[37m\u001b[0m \u001b[1m0s\u001b[0m 5ms/step\n",
      "\u001b[1m10/10\u001b[0m \u001b[32m━━━━━━━━━━━━━━━━━━━━\u001b[0m\u001b[37m\u001b[0m \u001b[1m0s\u001b[0m 2ms/step \n",
      "Training model_2...\n",
      "Done!\n",
      "\n",
      "\u001b[1m28/28\u001b[0m \u001b[32m━━━━━━━━━━━━━━━━━━━━\u001b[0m\u001b[37m\u001b[0m \u001b[1m0s\u001b[0m 5ms/step\n",
      "\u001b[1m10/10\u001b[0m \u001b[32m━━━━━━━━━━━━━━━━━━━━\u001b[0m\u001b[37m\u001b[0m \u001b[1m0s\u001b[0m 2ms/step \n",
      "Training model_2...\n",
      "Done!\n",
      "\n",
      "\u001b[1m28/28\u001b[0m \u001b[32m━━━━━━━━━━━━━━━━━━━━\u001b[0m\u001b[37m\u001b[0m \u001b[1m0s\u001b[0m 5ms/step\n",
      "\u001b[1m10/10\u001b[0m \u001b[32m━━━━━━━━━━━━━━━━━━━━\u001b[0m\u001b[37m\u001b[0m \u001b[1m0s\u001b[0m 2ms/step \n",
      "Training model_2...\n",
      "Done!\n",
      "\n",
      "\u001b[1m28/28\u001b[0m \u001b[32m━━━━━━━━━━━━━━━━━━━━\u001b[0m\u001b[37m\u001b[0m \u001b[1m0s\u001b[0m 5ms/step\n",
      "\u001b[1m10/10\u001b[0m \u001b[32m━━━━━━━━━━━━━━━━━━━━\u001b[0m\u001b[37m\u001b[0m \u001b[1m0s\u001b[0m 2ms/step \n",
      "Training model_2...\n",
      "Done!\n",
      "\n",
      "\u001b[1m28/28\u001b[0m \u001b[32m━━━━━━━━━━━━━━━━━━━━\u001b[0m\u001b[37m\u001b[0m \u001b[1m0s\u001b[0m 9ms/step\n",
      "\u001b[1m10/10\u001b[0m \u001b[32m━━━━━━━━━━━━━━━━━━━━\u001b[0m\u001b[37m\u001b[0m \u001b[1m0s\u001b[0m 2ms/step \n",
      "Training model_2...\n",
      "Done!\n",
      "\n",
      "\u001b[1m28/28\u001b[0m \u001b[32m━━━━━━━━━━━━━━━━━━━━\u001b[0m\u001b[37m\u001b[0m \u001b[1m1s\u001b[0m 27ms/step\n",
      "\u001b[1m10/10\u001b[0m \u001b[32m━━━━━━━━━━━━━━━━━━━━\u001b[0m\u001b[37m\u001b[0m \u001b[1m0s\u001b[0m 3ms/step \n",
      "Training model_2...\n",
      "Done!\n",
      "\n",
      "\u001b[1m28/28\u001b[0m \u001b[32m━━━━━━━━━━━━━━━━━━━━\u001b[0m\u001b[37m\u001b[0m \u001b[1m0s\u001b[0m 6ms/step\n",
      "\u001b[1m10/10\u001b[0m \u001b[32m━━━━━━━━━━━━━━━━━━━━\u001b[0m\u001b[37m\u001b[0m \u001b[1m0s\u001b[0m 2ms/step \n",
      "Training model_3...\n",
      "Done!\n",
      "\n",
      "\u001b[1m28/28\u001b[0m \u001b[32m━━━━━━━━━━━━━━━━━━━━\u001b[0m\u001b[37m\u001b[0m \u001b[1m0s\u001b[0m 5ms/step\n",
      "\u001b[1m10/10\u001b[0m \u001b[32m━━━━━━━━━━━━━━━━━━━━\u001b[0m\u001b[37m\u001b[0m \u001b[1m0s\u001b[0m 0s/step  \n",
      "Training model_3...\n",
      "Done!\n",
      "\n",
      "\u001b[1m28/28\u001b[0m \u001b[32m━━━━━━━━━━━━━━━━━━━━\u001b[0m\u001b[37m\u001b[0m \u001b[1m0s\u001b[0m 8ms/step\n",
      "\u001b[1m10/10\u001b[0m \u001b[32m━━━━━━━━━━━━━━━━━━━━\u001b[0m\u001b[37m\u001b[0m \u001b[1m0s\u001b[0m 2ms/step \n",
      "Training model_3...\n",
      "Done!\n",
      "\n",
      "\u001b[1m28/28\u001b[0m \u001b[32m━━━━━━━━━━━━━━━━━━━━\u001b[0m\u001b[37m\u001b[0m \u001b[1m0s\u001b[0m 5ms/step\n",
      "\u001b[1m10/10\u001b[0m \u001b[32m━━━━━━━━━━━━━━━━━━━━\u001b[0m\u001b[37m\u001b[0m \u001b[1m0s\u001b[0m 2ms/step \n",
      "Training model_3...\n",
      "Done!\n",
      "\n",
      "\u001b[1m28/28\u001b[0m \u001b[32m━━━━━━━━━━━━━━━━━━━━\u001b[0m\u001b[37m\u001b[0m \u001b[1m0s\u001b[0m 6ms/step\n",
      "\u001b[1m10/10\u001b[0m \u001b[32m━━━━━━━━━━━━━━━━━━━━\u001b[0m\u001b[37m\u001b[0m \u001b[1m0s\u001b[0m 2ms/step \n",
      "Training model_3...\n",
      "Done!\n",
      "\n",
      "\u001b[1m28/28\u001b[0m \u001b[32m━━━━━━━━━━━━━━━━━━━━\u001b[0m\u001b[37m\u001b[0m \u001b[1m0s\u001b[0m 5ms/step\n",
      "\u001b[1m10/10\u001b[0m \u001b[32m━━━━━━━━━━━━━━━━━━━━\u001b[0m\u001b[37m\u001b[0m \u001b[1m0s\u001b[0m 4ms/step \n",
      "Training model_3...\n",
      "Done!\n",
      "\n",
      "\u001b[1m28/28\u001b[0m \u001b[32m━━━━━━━━━━━━━━━━━━━━\u001b[0m\u001b[37m\u001b[0m \u001b[1m0s\u001b[0m 8ms/step\n",
      "\u001b[1m10/10\u001b[0m \u001b[32m━━━━━━━━━━━━━━━━━━━━\u001b[0m\u001b[37m\u001b[0m \u001b[1m0s\u001b[0m 2ms/step \n",
      "Training model_3...\n",
      "Done!\n",
      "\n",
      "\u001b[1m28/28\u001b[0m \u001b[32m━━━━━━━━━━━━━━━━━━━━\u001b[0m\u001b[37m\u001b[0m \u001b[1m0s\u001b[0m 5ms/step\n",
      "\u001b[1m10/10\u001b[0m \u001b[32m━━━━━━━━━━━━━━━━━━━━\u001b[0m\u001b[37m\u001b[0m \u001b[1m0s\u001b[0m 2ms/step \n",
      "Training model_3...\n",
      "Done!\n",
      "\n",
      "\u001b[1m28/28\u001b[0m \u001b[32m━━━━━━━━━━━━━━━━━━━━\u001b[0m\u001b[37m\u001b[0m \u001b[1m0s\u001b[0m 6ms/step\n",
      "\u001b[1m10/10\u001b[0m \u001b[32m━━━━━━━━━━━━━━━━━━━━\u001b[0m\u001b[37m\u001b[0m \u001b[1m0s\u001b[0m 2ms/step \n",
      "Training model_3...\n",
      "Done!\n",
      "\n",
      "\u001b[1m28/28\u001b[0m \u001b[32m━━━━━━━━━━━━━━━━━━━━\u001b[0m\u001b[37m\u001b[0m \u001b[1m0s\u001b[0m 5ms/step\n",
      "\u001b[1m10/10\u001b[0m \u001b[32m━━━━━━━━━━━━━━━━━━━━\u001b[0m\u001b[37m\u001b[0m \u001b[1m0s\u001b[0m 2ms/step \n",
      "Training model_3...\n",
      "Done!\n",
      "\n",
      "\u001b[1m28/28\u001b[0m \u001b[32m━━━━━━━━━━━━━━━━━━━━\u001b[0m\u001b[37m\u001b[0m \u001b[1m0s\u001b[0m 5ms/step\n",
      "\u001b[1m10/10\u001b[0m \u001b[32m━━━━━━━━━━━━━━━━━━━━\u001b[0m\u001b[37m\u001b[0m \u001b[1m0s\u001b[0m 1ms/step \n",
      "Training model_3...\n",
      "Done!\n",
      "\n",
      "\u001b[1m28/28\u001b[0m \u001b[32m━━━━━━━━━━━━━━━━━━━━\u001b[0m\u001b[37m\u001b[0m \u001b[1m0s\u001b[0m 5ms/step\n",
      "\u001b[1m10/10\u001b[0m \u001b[32m━━━━━━━━━━━━━━━━━━━━\u001b[0m\u001b[37m\u001b[0m \u001b[1m0s\u001b[0m 2ms/step \n",
      "Training model_3...\n",
      "Done!\n",
      "\n",
      "\u001b[1m28/28\u001b[0m \u001b[32m━━━━━━━━━━━━━━━━━━━━\u001b[0m\u001b[37m\u001b[0m \u001b[1m0s\u001b[0m 5ms/step\n",
      "\u001b[1m10/10\u001b[0m \u001b[32m━━━━━━━━━━━━━━━━━━━━\u001b[0m\u001b[37m\u001b[0m \u001b[1m0s\u001b[0m 3ms/step \n",
      "Training model_3...\n",
      "Done!\n",
      "\n",
      "\u001b[1m28/28\u001b[0m \u001b[32m━━━━━━━━━━━━━━━━━━━━\u001b[0m\u001b[37m\u001b[0m \u001b[1m0s\u001b[0m 5ms/step\n",
      "\u001b[1m10/10\u001b[0m \u001b[32m━━━━━━━━━━━━━━━━━━━━\u001b[0m\u001b[37m\u001b[0m \u001b[1m0s\u001b[0m 1ms/step \n",
      "Training model_3...\n",
      "Done!\n",
      "\n",
      "\u001b[1m28/28\u001b[0m \u001b[32m━━━━━━━━━━━━━━━━━━━━\u001b[0m\u001b[37m\u001b[0m \u001b[1m0s\u001b[0m 6ms/step\n",
      "\u001b[1m10/10\u001b[0m \u001b[32m━━━━━━━━━━━━━━━━━━━━\u001b[0m\u001b[37m\u001b[0m \u001b[1m0s\u001b[0m 2ms/step \n",
      "Training model_3...\n",
      "Done!\n",
      "\n",
      "\u001b[1m28/28\u001b[0m \u001b[32m━━━━━━━━━━━━━━━━━━━━\u001b[0m\u001b[37m\u001b[0m \u001b[1m0s\u001b[0m 5ms/step\n",
      "\u001b[1m10/10\u001b[0m \u001b[32m━━━━━━━━━━━━━━━━━━━━\u001b[0m\u001b[37m\u001b[0m \u001b[1m0s\u001b[0m 0s/step  \n",
      "Training model_3...\n",
      "Done!\n",
      "\n",
      "\u001b[1m28/28\u001b[0m \u001b[32m━━━━━━━━━━━━━━━━━━━━\u001b[0m\u001b[37m\u001b[0m \u001b[1m0s\u001b[0m 4ms/step\n",
      "\u001b[1m10/10\u001b[0m \u001b[32m━━━━━━━━━━━━━━━━━━━━\u001b[0m\u001b[37m\u001b[0m \u001b[1m0s\u001b[0m 2ms/step \n",
      "Training model_3...\n",
      "Done!\n",
      "\n",
      "\u001b[1m28/28\u001b[0m \u001b[32m━━━━━━━━━━━━━━━━━━━━\u001b[0m\u001b[37m\u001b[0m \u001b[1m0s\u001b[0m 3ms/step\n",
      "\u001b[1m10/10\u001b[0m \u001b[32m━━━━━━━━━━━━━━━━━━━━\u001b[0m\u001b[37m\u001b[0m \u001b[1m0s\u001b[0m 3ms/step \n",
      "Training model_3...\n",
      "Done!\n",
      "\n",
      "\u001b[1m28/28\u001b[0m \u001b[32m━━━━━━━━━━━━━━━━━━━━\u001b[0m\u001b[37m\u001b[0m \u001b[1m0s\u001b[0m 4ms/step\n",
      "\u001b[1m10/10\u001b[0m \u001b[32m━━━━━━━━━━━━━━━━━━━━\u001b[0m\u001b[37m\u001b[0m \u001b[1m0s\u001b[0m 1ms/step \n",
      "Training model_3...\n",
      "Done!\n",
      "\n",
      "\u001b[1m28/28\u001b[0m \u001b[32m━━━━━━━━━━━━━━━━━━━━\u001b[0m\u001b[37m\u001b[0m \u001b[1m0s\u001b[0m 7ms/step\n",
      "\u001b[1m10/10\u001b[0m \u001b[32m━━━━━━━━━━━━━━━━━━━━\u001b[0m\u001b[37m\u001b[0m \u001b[1m0s\u001b[0m 2ms/step \n",
      "Training model_3...\n",
      "Done!\n",
      "\n",
      "\u001b[1m28/28\u001b[0m \u001b[32m━━━━━━━━━━━━━━━━━━━━\u001b[0m\u001b[37m\u001b[0m \u001b[1m0s\u001b[0m 4ms/step\n",
      "\u001b[1m10/10\u001b[0m \u001b[32m━━━━━━━━━━━━━━━━━━━━\u001b[0m\u001b[37m\u001b[0m \u001b[1m0s\u001b[0m 1ms/step \n",
      "Training model_3...\n",
      "Done!\n",
      "\n",
      "\u001b[1m28/28\u001b[0m \u001b[32m━━━━━━━━━━━━━━━━━━━━\u001b[0m\u001b[37m\u001b[0m \u001b[1m0s\u001b[0m 6ms/step\n",
      "\u001b[1m10/10\u001b[0m \u001b[32m━━━━━━━━━━━━━━━━━━━━\u001b[0m\u001b[37m\u001b[0m \u001b[1m0s\u001b[0m 1ms/step \n"
     ]
    }
   ],
   "source": [
    "from tensorflow.keras.models import Sequential\n",
    "from tensorflow.keras.layers import Dense\n",
    "\n",
    "# Initialize lists that will contain the errors for each model\n",
    "nn_train_mses_mses = []\n",
    "nn_cv_mses_mses = []\n",
    "nn_lambdas = []\n",
    "lambda_range = np.array([1e-10, 1e-9, 1e-8, 1e-7, 1e-6, 1e-5, 1e-4, 1e-3,1e-2, 1e-1, 0.0, 1e1, 1e2, 1e3, 1e4, 1e5, 1e6, 1e7, 1e8, 1e9, 1e10])\n",
    "# Build the models\n",
    "nn_models = build_models(lambda_)\n",
    "\n",
    "# Loop over the the models\n",
    "for model in nn_models:\n",
    "  \n",
    "\n",
    "  nn_cv_mses = []\n",
    "  nn_train_mses = []\n",
    "\n",
    "\n",
    "  for lambda_ in lambda_range:  \n",
    "    # Setup the loss and optimizer\n",
    "    model.compile(\n",
    "    loss='mse',\n",
    "    optimizer=tf.keras.optimizers.Adam(learning_rate=0.1),\n",
    "    )\n",
    "\n",
    "    print(f\"Training {model.name}...\")\n",
    "    \n",
    "    # Train the model\n",
    "    model.fit(\n",
    "        X_train_mapped_scaled, y_train,\n",
    "        epochs=300,\n",
    "        verbose=0\n",
    "    )\n",
    "    \n",
    "    print(\"Done!\\n\")\n",
    "\n",
    "    \n",
    "    # Record the training MSEs\n",
    "    yhat = model.predict(X_train_mapped_scaled)\n",
    "    train_mse = mean_squared_error(y_train, yhat) / 2\n",
    "    nn_train_mses.append(train_mse)\n",
    "    \n",
    "    # Record the cross validation MSEs \n",
    "    yhat = model.predict(X_cv_mapped_scaled)\n",
    "    cv_mse = mean_squared_error(y_cv, yhat) / 2\n",
    "    nn_cv_mses.append(cv_mse)\n",
    "\n",
    "  nn_train_mses_mses.append(nn_train_mses[np.argmin(nn_cv_mses)])\n",
    "  nn_cv_mses_mses.append(nn_cv_mses[np.argmin(nn_cv_mses)]) \n",
    "  nn_lambdas.append(lambda_range[np.argmin(nn_cv_mses)])"
   ]
  },
  {
   "cell_type": "code",
   "execution_count": 91,
   "metadata": {},
   "outputs": [
    {
     "name": "stdout",
     "output_type": "stream",
     "text": [
      "The optimal lambda for regularization is: [1e-06, 1e-09, 1e-09]\n",
      "The minimum cross validation MSE is: [1080995388.883571, 881812758.811181, 1049829334.2774591]\n",
      "The minimum training MSE is: [77975953.44570087, 76131446.58341376, 293063953.96040636]\n",
      "The optimal model is: model_2\n",
      "The optimal lambda is: 1e-09\n"
     ]
    }
   ],
   "source": [
    "print(f\"The optimal lambda for regularization is: {nn_lambdas}\")\n",
    "print(f\"The minimum cross validation MSE is: {nn_cv_mses_mses}\")\n",
    "print(f\"The minimum training MSE is: {nn_train_mses_mses}\")\n",
    "print(f\"The optimal model is: {nn_models[np.argmin(nn_cv_mses_mses)].name}\")\n",
    "print(f\"The optimal lambda is: {nn_lambdas[np.argmin(nn_cv_mses_mses)]}\")"
   ]
  },
  {
   "cell_type": "code",
   "execution_count": 92,
   "metadata": {},
   "outputs": [
    {
     "data": {
      "application/vnd.jupyter.widget-view+json": {
       "model_id": "a35831e9515d44c1a32d0f81fd3367db",
       "version_major": 2,
       "version_minor": 0
      },
      "image/png": "[encoded data removed]",
      "text/html": [
       "\n",
       "            <div style=\"display: inline-block;\">\n",
       "                <div class=\"jupyter-widgets widget-label\" style=\"text-align: center;\">\n",
       "                    Figure\n",
       "                </div>\n",
       "                <img src='data:image/png;base64,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' width=1000.0/>\n",
       "            </div>\n",
       "        "
      ],
      "text/plain": [
       "Canvas(toolbar=Toolbar(toolitems=[('Home', 'Reset original view', 'home', 'home'), ('Back', 'Back to previous …"
      ]
     },
     "metadata": {},
     "output_type": "display_data"
    }
   ],
   "source": [
    "models_range = range(1, len(nn_models) + 1)\n",
    "plot_train_cv_mses(models_range,nn_train_mses_mses, nn_cv_mses_mses,\"models\")"
   ]
  },
  {
   "cell_type": "code",
   "execution_count": null,
   "metadata": {},
   "outputs": [],
   "source": []
  },
  {
   "cell_type": "code",
   "execution_count": 109,
   "metadata": {},
   "outputs": [
    {
     "name": "stdout",
     "output_type": "stream",
     "text": [
      "Epoch 1/5\n",
      "\u001b[1m28/28\u001b[0m \u001b[32m━━━━━━━━━━━━━━━━━━━━\u001b[0m\u001b[37m\u001b[0m \u001b[1m3s\u001b[0m 3ms/step - loss: 39575523328.0000\n",
      "Epoch 2/5\n",
      "\u001b[1m28/28\u001b[0m \u001b[32m━━━━━━━━━━━━━━━━━━━━\u001b[0m\u001b[37m\u001b[0m \u001b[1m0s\u001b[0m 3ms/step - loss: 39562366976.0000\n",
      "Epoch 3/5\n",
      "\u001b[1m28/28\u001b[0m \u001b[32m━━━━━━━━━━━━━━━━━━━━\u001b[0m\u001b[37m\u001b[0m \u001b[1m0s\u001b[0m 3ms/step - loss: 39502471168.0000\n",
      "Epoch 4/5\n",
      "\u001b[1m28/28\u001b[0m \u001b[32m━━━━━━━━━━━━━━━━━━━━\u001b[0m\u001b[37m\u001b[0m \u001b[1m0s\u001b[0m 3ms/step - loss: 39274590208.0000\n",
      "Epoch 5/5\n",
      "\u001b[1m28/28\u001b[0m \u001b[32m━━━━━━━━━━━━━━━━━━━━\u001b[0m\u001b[37m\u001b[0m \u001b[1m0s\u001b[0m 3ms/step - loss: 38482169856.0000\n",
      "\u001b[1m10/10\u001b[0m \u001b[32m━━━━━━━━━━━━━━━━━━━━\u001b[0m\u001b[37m\u001b[0m \u001b[1m0s\u001b[0m 8ms/step\n",
      "Test MAE: 168890.377978\n",
      "Test MSE: 34530578336.654495\n",
      "Test R2 Score: -5.158158\n",
      "Model accuracy:  -515.8158306906087\n"
     ]
    }
   ],
   "source": [
    "from sklearn.metrics import mean_absolute_error, mean_squared_error, r2_score\n",
    "from tensorflow.keras.models import Sequential\n",
    "from tensorflow.keras.layers import Dense\n",
    "model_num = 2\n",
    "\n",
    "tf.random.set_seed(1234) # for consistent results\n",
    "model = Sequential(\n",
    "    [               \n",
    "        Dense(20, activation = 'relu', kernel_regularizer=tf.keras.regularizers.l2(lambda_)),\n",
    "        Dense(12, activation = 'relu', kernel_regularizer=tf.keras.regularizers.l2(lambda_)),\n",
    "        Dense(12, activation = 'relu', kernel_regularizer=tf.keras.regularizers.l2(lambda_)),\n",
    "        Dense(20, activation = 'relu', kernel_regularizer=tf.keras.regularizers.l2(lambda_)),\n",
    "        Dense(1, activation = 'linear') \n",
    "    ], name = \"my_model\" \n",
    ")\n",
    "\n",
    "model.compile(\n",
    "    loss='mse',\n",
    "    optimizer=tf.keras.optimizers.Adam(learning_rate=0.001),\n",
    ")\n",
    "\n",
    "model.fit(X_train_mapped_scaled, y_train, epochs=5)\n",
    "\n",
    "\n",
    "# Make predictions\n",
    "yhat_test = model.predict(X_test_mapped_scaled)\n",
    "test_mse = mean_squared_error(y_test, yhat_test) / 2\n",
    "\n",
    "\"\"\"\n",
    "print(f\"Selected Model: {model_num}\")\n",
    "print(f\"Training MSE: {nn_train_mses_mses[model_num-1]:.2f}\")\n",
    "print(f\"Cross Validation MSE: {nn_cv_mses_mses[model_num-1]:.2f}\")\n",
    "print(f\"Test MSE: {test_mse:.2f}\")\n",
    "\n",
    "\"\"\"\n",
    "mae_test = mean_absolute_error(y_test, yhat_test)\n",
    "mse_test = mean_squared_error(y_test, yhat_test)\n",
    "r2_test = r2_score(y_test, yhat_test)\n",
    "\n",
    "print('Test MAE: %f' % mae_test)\n",
    "print('Test MSE: %f' % mse_test)\n",
    "print('Test R2 Score: %f' % r2_test)\n",
    "\n",
    "print(\"Model accuracy: \", r2_test * 100)"
   ]
  },
  {
   "cell_type": "code",
   "execution_count": 92,
   "metadata": {},
   "outputs": [
    {
     "data": {
      "text/html": [
       "<div>\n",
       "<style scoped>\n",
       "    .dataframe tbody tr th:only-of-type {\n",
       "        vertical-align: middle;\n",
       "    }\n",
       "\n",
       "    .dataframe tbody tr th {\n",
       "        vertical-align: top;\n",
       "    }\n",
       "\n",
       "    .dataframe thead th {\n",
       "        text-align: right;\n",
       "    }\n",
       "</style>\n",
       "<table border=\"1\" class=\"dataframe\">\n",
       "  <thead>\n",
       "    <tr style=\"text-align: right;\">\n",
       "      <th></th>\n",
       "      <th>Id</th>\n",
       "      <th>MSSubClass</th>\n",
       "      <th>MSZoning</th>\n",
       "      <th>LotFrontage</th>\n",
       "      <th>LotArea</th>\n",
       "      <th>Street</th>\n",
       "      <th>Alley</th>\n",
       "      <th>LotShape</th>\n",
       "      <th>LandContour</th>\n",
       "      <th>Utilities</th>\n",
       "      <th>...</th>\n",
       "      <th>ScreenPorch</th>\n",
       "      <th>PoolArea</th>\n",
       "      <th>PoolQC</th>\n",
       "      <th>Fence</th>\n",
       "      <th>MiscFeature</th>\n",
       "      <th>MiscVal</th>\n",
       "      <th>MoSold</th>\n",
       "      <th>YrSold</th>\n",
       "      <th>SaleType</th>\n",
       "      <th>SaleCondition</th>\n",
       "    </tr>\n",
       "  </thead>\n",
       "  <tbody>\n",
       "    <tr>\n",
       "      <th>0</th>\n",
       "      <td>1461</td>\n",
       "      <td>20</td>\n",
       "      <td>RH</td>\n",
       "      <td>80.0</td>\n",
       "      <td>11622</td>\n",
       "      <td>Pave</td>\n",
       "      <td>NaN</td>\n",
       "      <td>Reg</td>\n",
       "      <td>Lvl</td>\n",
       "      <td>AllPub</td>\n",
       "      <td>...</td>\n",
       "      <td>120</td>\n",
       "      <td>0</td>\n",
       "      <td>NaN</td>\n",
       "      <td>MnPrv</td>\n",
       "      <td>NaN</td>\n",
       "      <td>0</td>\n",
       "      <td>6</td>\n",
       "      <td>2010</td>\n",
       "      <td>WD</td>\n",
       "      <td>Normal</td>\n",
       "    </tr>\n",
       "    <tr>\n",
       "      <th>1</th>\n",
       "      <td>1462</td>\n",
       "      <td>20</td>\n",
       "      <td>RL</td>\n",
       "      <td>81.0</td>\n",
       "      <td>14267</td>\n",
       "      <td>Pave</td>\n",
       "      <td>NaN</td>\n",
       "      <td>IR1</td>\n",
       "      <td>Lvl</td>\n",
       "      <td>AllPub</td>\n",
       "      <td>...</td>\n",
       "      <td>0</td>\n",
       "      <td>0</td>\n",
       "      <td>NaN</td>\n",
       "      <td>NaN</td>\n",
       "      <td>Gar2</td>\n",
       "      <td>12500</td>\n",
       "      <td>6</td>\n",
       "      <td>2010</td>\n",
       "      <td>WD</td>\n",
       "      <td>Normal</td>\n",
       "    </tr>\n",
       "    <tr>\n",
       "      <th>2</th>\n",
       "      <td>1463</td>\n",
       "      <td>60</td>\n",
       "      <td>RL</td>\n",
       "      <td>74.0</td>\n",
       "      <td>13830</td>\n",
       "      <td>Pave</td>\n",
       "      <td>NaN</td>\n",
       "      <td>IR1</td>\n",
       "      <td>Lvl</td>\n",
       "      <td>AllPub</td>\n",
       "      <td>...</td>\n",
       "      <td>0</td>\n",
       "      <td>0</td>\n",
       "      <td>NaN</td>\n",
       "      <td>MnPrv</td>\n",
       "      <td>NaN</td>\n",
       "      <td>0</td>\n",
       "      <td>3</td>\n",
       "      <td>2010</td>\n",
       "      <td>WD</td>\n",
       "      <td>Normal</td>\n",
       "    </tr>\n",
       "    <tr>\n",
       "      <th>3</th>\n",
       "      <td>1464</td>\n",
       "      <td>60</td>\n",
       "      <td>RL</td>\n",
       "      <td>78.0</td>\n",
       "      <td>9978</td>\n",
       "      <td>Pave</td>\n",
       "      <td>NaN</td>\n",
       "      <td>IR1</td>\n",
       "      <td>Lvl</td>\n",
       "      <td>AllPub</td>\n",
       "      <td>...</td>\n",
       "      <td>0</td>\n",
       "      <td>0</td>\n",
       "      <td>NaN</td>\n",
       "      <td>NaN</td>\n",
       "      <td>NaN</td>\n",
       "      <td>0</td>\n",
       "      <td>6</td>\n",
       "      <td>2010</td>\n",
       "      <td>WD</td>\n",
       "      <td>Normal</td>\n",
       "    </tr>\n",
       "    <tr>\n",
       "      <th>4</th>\n",
       "      <td>1465</td>\n",
       "      <td>120</td>\n",
       "      <td>RL</td>\n",
       "      <td>43.0</td>\n",
       "      <td>5005</td>\n",
       "      <td>Pave</td>\n",
       "      <td>NaN</td>\n",
       "      <td>IR1</td>\n",
       "      <td>HLS</td>\n",
       "      <td>AllPub</td>\n",
       "      <td>...</td>\n",
       "      <td>144</td>\n",
       "      <td>0</td>\n",
       "      <td>NaN</td>\n",
       "      <td>NaN</td>\n",
       "      <td>NaN</td>\n",
       "      <td>0</td>\n",
       "      <td>1</td>\n",
       "      <td>2010</td>\n",
       "      <td>WD</td>\n",
       "      <td>Normal</td>\n",
       "    </tr>\n",
       "  </tbody>\n",
       "</table>\n",
       "<p>5 rows × 80 columns</p>\n",
       "</div>"
      ],
      "text/plain": [
       "     Id  MSSubClass MSZoning  LotFrontage  LotArea Street Alley LotShape  \\\n",
       "0  1461          20       RH         80.0    11622   Pave   NaN      Reg   \n",
       "1  1462          20       RL         81.0    14267   Pave   NaN      IR1   \n",
       "2  1463          60       RL         74.0    13830   Pave   NaN      IR1   \n",
       "3  1464          60       RL         78.0     9978   Pave   NaN      IR1   \n",
       "4  1465         120       RL         43.0     5005   Pave   NaN      IR1   \n",
       "\n",
       "  LandContour Utilities  ... ScreenPorch PoolArea PoolQC  Fence MiscFeature  \\\n",
       "0         Lvl    AllPub  ...         120        0    NaN  MnPrv         NaN   \n",
       "1         Lvl    AllPub  ...           0        0    NaN    NaN        Gar2   \n",
       "2         Lvl    AllPub  ...           0        0    NaN  MnPrv         NaN   \n",
       "3         Lvl    AllPub  ...           0        0    NaN    NaN         NaN   \n",
       "4         HLS    AllPub  ...         144        0    NaN    NaN         NaN   \n",
       "\n",
       "  MiscVal MoSold  YrSold  SaleType  SaleCondition  \n",
       "0       0      6    2010        WD         Normal  \n",
       "1   12500      6    2010        WD         Normal  \n",
       "2       0      3    2010        WD         Normal  \n",
       "3       0      6    2010        WD         Normal  \n",
       "4       0      1    2010        WD         Normal  \n",
       "\n",
       "[5 rows x 80 columns]"
      ]
     },
     "execution_count": 92,
     "metadata": {},
     "output_type": "execute_result"
    }
   ],
   "source": [
    "df_test = pd.read_csv('data//test.csv')\n",
    "df_test.head()"
   ]
  },
  {
   "cell_type": "code",
   "execution_count": 93,
   "metadata": {},
   "outputs": [
    {
     "name": "stdout",
     "output_type": "stream",
     "text": [
      "Index(['MSSubClass', 'OverallQual', 'OverallCond', 'BsmtFinSF1', 'BsmtFinSF2',\n",
      "       'BsmtUnfSF', 'TotalBsmtSF', '1stFlrSF', '2ndFlrSF', 'LowQualFinSF',\n",
      "       'GrLivArea', 'BsmtFullBath', 'BsmtHalfBath', 'FullBath', 'HalfBath',\n",
      "       'BedroomAbvGr', 'KitchenAbvGr', 'TotRmsAbvGrd', 'Fireplaces',\n",
      "       'GarageCars', 'GarageArea', 'WoodDeckSF', 'OpenPorchSF',\n",
      "       'EnclosedPorch', '3SsnPorch', 'ScreenPorch', 'PoolArea', 'MiscVal',\n",
      "       'MoSold', 'SalePrice'],\n",
      "      dtype='object')\n"
     ]
    }
   ],
   "source": [
    "column_names = df.columns\n",
    "print(column_names)"
   ]
  },
  {
   "cell_type": "code",
   "execution_count": 97,
   "metadata": {},
   "outputs": [],
   "source": [
    "df_pred =df_test[column_names[:-2]]"
   ]
  },
  {
   "cell_type": "code",
   "execution_count": 95,
   "metadata": {},
   "outputs": [
    {
     "data": {
      "text/html": [
       "<div>\n",
       "<style scoped>\n",
       "    .dataframe tbody tr th:only-of-type {\n",
       "        vertical-align: middle;\n",
       "    }\n",
       "\n",
       "    .dataframe tbody tr th {\n",
       "        vertical-align: top;\n",
       "    }\n",
       "\n",
       "    .dataframe thead th {\n",
       "        text-align: right;\n",
       "    }\n",
       "</style>\n",
       "<table border=\"1\" class=\"dataframe\">\n",
       "  <thead>\n",
       "    <tr style=\"text-align: right;\">\n",
       "      <th></th>\n",
       "      <th>MSSubClass</th>\n",
       "      <th>OverallQual</th>\n",
       "      <th>OverallCond</th>\n",
       "      <th>BsmtFinSF1</th>\n",
       "      <th>BsmtFinSF2</th>\n",
       "      <th>BsmtUnfSF</th>\n",
       "      <th>TotalBsmtSF</th>\n",
       "      <th>1stFlrSF</th>\n",
       "      <th>2ndFlrSF</th>\n",
       "      <th>LowQualFinSF</th>\n",
       "      <th>...</th>\n",
       "      <th>Fireplaces</th>\n",
       "      <th>GarageCars</th>\n",
       "      <th>GarageArea</th>\n",
       "      <th>WoodDeckSF</th>\n",
       "      <th>OpenPorchSF</th>\n",
       "      <th>EnclosedPorch</th>\n",
       "      <th>3SsnPorch</th>\n",
       "      <th>ScreenPorch</th>\n",
       "      <th>PoolArea</th>\n",
       "      <th>MiscVal</th>\n",
       "    </tr>\n",
       "  </thead>\n",
       "  <tbody>\n",
       "    <tr>\n",
       "      <th>0</th>\n",
       "      <td>20</td>\n",
       "      <td>5</td>\n",
       "      <td>6</td>\n",
       "      <td>468.0</td>\n",
       "      <td>144.0</td>\n",
       "      <td>270.0</td>\n",
       "      <td>882.0</td>\n",
       "      <td>896</td>\n",
       "      <td>0</td>\n",
       "      <td>0</td>\n",
       "      <td>...</td>\n",
       "      <td>0</td>\n",
       "      <td>1.0</td>\n",
       "      <td>730.0</td>\n",
       "      <td>140</td>\n",
       "      <td>0</td>\n",
       "      <td>0</td>\n",
       "      <td>0</td>\n",
       "      <td>120</td>\n",
       "      <td>0</td>\n",
       "      <td>0</td>\n",
       "    </tr>\n",
       "    <tr>\n",
       "      <th>1</th>\n",
       "      <td>20</td>\n",
       "      <td>6</td>\n",
       "      <td>6</td>\n",
       "      <td>923.0</td>\n",
       "      <td>0.0</td>\n",
       "      <td>406.0</td>\n",
       "      <td>1329.0</td>\n",
       "      <td>1329</td>\n",
       "      <td>0</td>\n",
       "      <td>0</td>\n",
       "      <td>...</td>\n",
       "      <td>0</td>\n",
       "      <td>1.0</td>\n",
       "      <td>312.0</td>\n",
       "      <td>393</td>\n",
       "      <td>36</td>\n",
       "      <td>0</td>\n",
       "      <td>0</td>\n",
       "      <td>0</td>\n",
       "      <td>0</td>\n",
       "      <td>12500</td>\n",
       "    </tr>\n",
       "    <tr>\n",
       "      <th>2</th>\n",
       "      <td>60</td>\n",
       "      <td>5</td>\n",
       "      <td>5</td>\n",
       "      <td>791.0</td>\n",
       "      <td>0.0</td>\n",
       "      <td>137.0</td>\n",
       "      <td>928.0</td>\n",
       "      <td>928</td>\n",
       "      <td>701</td>\n",
       "      <td>0</td>\n",
       "      <td>...</td>\n",
       "      <td>1</td>\n",
       "      <td>2.0</td>\n",
       "      <td>482.0</td>\n",
       "      <td>212</td>\n",
       "      <td>34</td>\n",
       "      <td>0</td>\n",
       "      <td>0</td>\n",
       "      <td>0</td>\n",
       "      <td>0</td>\n",
       "      <td>0</td>\n",
       "    </tr>\n",
       "    <tr>\n",
       "      <th>3</th>\n",
       "      <td>60</td>\n",
       "      <td>6</td>\n",
       "      <td>6</td>\n",
       "      <td>602.0</td>\n",
       "      <td>0.0</td>\n",
       "      <td>324.0</td>\n",
       "      <td>926.0</td>\n",
       "      <td>926</td>\n",
       "      <td>678</td>\n",
       "      <td>0</td>\n",
       "      <td>...</td>\n",
       "      <td>1</td>\n",
       "      <td>2.0</td>\n",
       "      <td>470.0</td>\n",
       "      <td>360</td>\n",
       "      <td>36</td>\n",
       "      <td>0</td>\n",
       "      <td>0</td>\n",
       "      <td>0</td>\n",
       "      <td>0</td>\n",
       "      <td>0</td>\n",
       "    </tr>\n",
       "    <tr>\n",
       "      <th>4</th>\n",
       "      <td>120</td>\n",
       "      <td>8</td>\n",
       "      <td>5</td>\n",
       "      <td>263.0</td>\n",
       "      <td>0.0</td>\n",
       "      <td>1017.0</td>\n",
       "      <td>1280.0</td>\n",
       "      <td>1280</td>\n",
       "      <td>0</td>\n",
       "      <td>0</td>\n",
       "      <td>...</td>\n",
       "      <td>0</td>\n",
       "      <td>2.0</td>\n",
       "      <td>506.0</td>\n",
       "      <td>0</td>\n",
       "      <td>82</td>\n",
       "      <td>0</td>\n",
       "      <td>0</td>\n",
       "      <td>144</td>\n",
       "      <td>0</td>\n",
       "      <td>0</td>\n",
       "    </tr>\n",
       "  </tbody>\n",
       "</table>\n",
       "<p>5 rows × 28 columns</p>\n",
       "</div>"
      ],
      "text/plain": [
       "   MSSubClass  OverallQual  OverallCond  BsmtFinSF1  BsmtFinSF2  BsmtUnfSF  \\\n",
       "0          20            5            6       468.0       144.0      270.0   \n",
       "1          20            6            6       923.0         0.0      406.0   \n",
       "2          60            5            5       791.0         0.0      137.0   \n",
       "3          60            6            6       602.0         0.0      324.0   \n",
       "4         120            8            5       263.0         0.0     1017.0   \n",
       "\n",
       "   TotalBsmtSF  1stFlrSF  2ndFlrSF  LowQualFinSF  ...  Fireplaces  GarageCars  \\\n",
       "0        882.0       896         0             0  ...           0         1.0   \n",
       "1       1329.0      1329         0             0  ...           0         1.0   \n",
       "2        928.0       928       701             0  ...           1         2.0   \n",
       "3        926.0       926       678             0  ...           1         2.0   \n",
       "4       1280.0      1280         0             0  ...           0         2.0   \n",
       "\n",
       "   GarageArea  WoodDeckSF  OpenPorchSF  EnclosedPorch  3SsnPorch  ScreenPorch  \\\n",
       "0       730.0         140            0              0          0          120   \n",
       "1       312.0         393           36              0          0            0   \n",
       "2       482.0         212           34              0          0            0   \n",
       "3       470.0         360           36              0          0            0   \n",
       "4       506.0           0           82              0          0          144   \n",
       "\n",
       "   PoolArea  MiscVal  \n",
       "0         0        0  \n",
       "1         0    12500  \n",
       "2         0        0  \n",
       "3         0        0  \n",
       "4         0        0  \n",
       "\n",
       "[5 rows x 28 columns]"
      ]
     },
     "execution_count": 95,
     "metadata": {},
     "output_type": "execute_result"
    }
   ],
   "source": [
    "df_pred.head()"
   ]
  },
  {
   "cell_type": "code",
   "execution_count": 98,
   "metadata": {},
   "outputs": [
    {
     "data": {
      "text/plain": [
       "(1459, 28)"
      ]
     },
     "execution_count": 98,
     "metadata": {},
     "output_type": "execute_result"
    }
   ],
   "source": [
    "x_pred = np.array(df_pred.iloc[:, :])\n",
    "x_pred.reshape(-1, 1)\n",
    "\n",
    "x_pred.shape"
   ]
  },
  {
   "cell_type": "code",
   "execution_count": 99,
   "metadata": {},
   "outputs": [],
   "source": [
    "from sklearn.impute import SimpleImputer\n",
    "\n",
    "imputer = SimpleImputer(strategy='mean')\n",
    "x_pred_imputed = imputer.fit_transform(x_pred)"
   ]
  },
  {
   "cell_type": "code",
   "execution_count": 100,
   "metadata": {},
   "outputs": [],
   "source": [
    "# Add polynomial features\n",
    "degree = int(optimal_degree)\n",
    "poly = PolynomialFeatures(degree, include_bias=False)\n",
    "X_pred_mapped = poly.fit_transform(x_pred_imputed)"
   ]
  },
  {
   "cell_type": "code",
   "execution_count": 105,
   "metadata": {},
   "outputs": [],
   "source": [
    "# Fit the StandardScaler\n",
    "scaler.fit(X_pred_mapped)\n",
    "\n",
    "# Transform the data\n",
    "X_pred_mapped_scaled = scaler.transform(X_pred_mapped)"
   ]
  },
  {
   "cell_type": "code",
   "execution_count": 106,
   "metadata": {},
   "outputs": [],
   "source": [
    "y_nn_pred = model.predict(X_pred_mapped_scaled)"
   ]
  },
  {
   "cell_type": "code",
   "execution_count": 107,
   "metadata": {},
   "outputs": [
    {
     "data": {
      "text/plain": [
       "array([120490.57, 210045.54, 163711.66, ..., 141803.93,  98978.62,\n",
       "       237375.64])"
      ]
     },
     "execution_count": 107,
     "metadata": {},
     "output_type": "execute_result"
    }
   ],
   "source": [
    "y_nn_pred"
   ]
  },
  {
   "cell_type": "code",
   "execution_count": 108,
   "metadata": {},
   "outputs": [],
   "source": [
    "# Convert the numpy array to a DataFrame\n",
    "df_predicted = pd.DataFrame(y_nn_pred, columns=['Prediction'])\n",
    "\n",
    "# Save the DataFrame to a CSV file\n",
    "df_predicted.to_csv('df_pred.csv', index=False)"
   ]
  },
  {
   "cell_type": "code",
   "execution_count": 111,
   "metadata": {},
   "outputs": [
    {
     "name": "stdout",
     "output_type": "stream",
     "text": [
      "Epoch 1/5\n",
      "\u001b[1m28/28\u001b[0m \u001b[32m━━━━━━━━━━━━━━━━━━━━\u001b[0m\u001b[37m\u001b[0m \u001b[1m3s\u001b[0m 3ms/step - loss: 39576633344.0000\n",
      "Epoch 2/5\n",
      "\u001b[1m28/28\u001b[0m \u001b[32m━━━━━━━━━━━━━━━━━━━━\u001b[0m\u001b[37m\u001b[0m \u001b[1m0s\u001b[0m 3ms/step - loss: 39574409216.0000\n",
      "Epoch 3/5\n",
      "\u001b[1m28/28\u001b[0m \u001b[32m━━━━━━━━━━━━━━━━━━━━\u001b[0m\u001b[37m\u001b[0m \u001b[1m0s\u001b[0m 3ms/step - loss: 39558045696.0000\n",
      "Epoch 4/5\n",
      "\u001b[1m28/28\u001b[0m \u001b[32m━━━━━━━━━━━━━━━━━━━━\u001b[0m\u001b[37m\u001b[0m \u001b[1m0s\u001b[0m 3ms/step - loss: 39486959616.0000\n",
      "Epoch 5/5\n",
      "\u001b[1m28/28\u001b[0m \u001b[32m━━━━━━━━━━━━━━━━━━━━\u001b[0m\u001b[37m\u001b[0m \u001b[1m0s\u001b[0m 3ms/step - loss: 39247122432.0000\n",
      "\u001b[1m46/46\u001b[0m \u001b[32m━━━━━━━━━━━━━━━━━━━━\u001b[0m\u001b[37m\u001b[0m \u001b[1m0s\u001b[0m 4ms/step\n"
     ]
    }
   ],
   "source": [
    "from sklearn.metrics import mean_absolute_error, mean_squared_error, r2_score\n",
    "from tensorflow.keras.models import Sequential\n",
    "from tensorflow.keras.layers import Dense\n",
    "model_num = 2\n",
    "\n",
    "tf.random.set_seed(1234) # for consistent results\n",
    "model = Sequential(\n",
    "    [               \n",
    "        Dense(20, activation = 'relu', kernel_regularizer=tf.keras.regularizers.l2(lambda_)),\n",
    "        Dense(12, activation = 'relu', kernel_regularizer=tf.keras.regularizers.l2(lambda_)),\n",
    "        Dense(12, activation = 'relu', kernel_regularizer=tf.keras.regularizers.l2(lambda_)),\n",
    "        Dense(20, activation = 'relu', kernel_regularizer=tf.keras.regularizers.l2(lambda_)),\n",
    "        Dense(1, activation = 'linear') \n",
    "    ], name = \"my_model\" \n",
    ")\n",
    "\n",
    "model.compile(\n",
    "    loss='mse',\n",
    "    optimizer=tf.keras.optimizers.Adam(learning_rate=0.001),\n",
    ")\n",
    "\n",
    "model.fit(X_train_mapped_scaled, y_train, epochs=5)\n",
    "\n",
    "\n",
    "# Make predictions\n",
    "y_pred = model.predict(X_pred_mapped_scaled)"
   ]
  },
  {
   "cell_type": "code",
   "execution_count": 112,
   "metadata": {},
   "outputs": [
    {
     "data": {
      "text/plain": [
       "array([[1193.29],\n",
       "       [ 266.62],\n",
       "       [ 654.18],\n",
       "       ...,\n",
       "       [ 673.96],\n",
       "       [1455.67],\n",
       "       [2882.92]], dtype=float32)"
      ]
     },
     "execution_count": 112,
     "metadata": {},
     "output_type": "execute_result"
    }
   ],
   "source": [
    "y_pred"
   ]
  },
  {
   "cell_type": "code",
   "execution_count": null,
   "metadata": {},
   "outputs": [],
   "source": []
  }
 ],
 "metadata": {
  "colab": {
   "collapsed_sections": [],
   "provenance": []
  },
  "kernelspec": {
   "display_name": "Python 3",
   "language": "python",
   "name": "python3"
  },
  "language_info": {
   "codemirror_mode": {
    "name": "ipython",
    "version": 3
   },
   "file_extension": ".py",
   "mimetype": "text/x-python",
   "name": "python",
   "nbconvert_exporter": "python",
   "pygments_lexer": "ipython3",
   "version": "3.11.7"
  }
 },
 "nbformat": 4,
 "nbformat_minor": 1
}
