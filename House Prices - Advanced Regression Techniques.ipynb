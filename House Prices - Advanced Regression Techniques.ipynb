{
 "cells": [
  {
   "cell_type": "markdown",
   "metadata": {
    "id": "FvYDy9apGRlt"
   },
   "source": [
    "# House Prices - Advanced Regression Techniques\n",
    "\n",
    "Description\n",
    "Start here if...\n",
    "You have some experience with R or Python and machine learning basics. This is a perfect competition for data science students who have completed an online course in machine learning and are looking to expand their skill set before trying a featured competition. \n",
    "\n",
    "💡Getting Started Notebook\n",
    "To get started quickly, feel free to take advantage of this starter notebook.\n",
    "\n",
    "### Competition Description\n",
    "\n",
    "\n",
    "Ask a home buyer to describe their dream house, and they probably won't begin with the height of the basement ceiling or the proximity to an east-west railroad. But this playground competition's dataset proves that much more influences price negotiations than the number of bedrooms or a white-picket fence.\n",
    "\n",
    "With 79 explanatory variables describing (almost) every aspect of residential homes in Ames, Iowa, this competition challenges you to predict the final price of each home.\n",
    "\n",
    "Practice Skills\n",
    "Creative feature engineering \n",
    "Advanced regression techniques like random forest and gradient boosting\n",
    "Acknowledgments\n",
    "The Ames Housing dataset was compiled by Dean De Cock for use in data science education. It's an incredible alternative for data scientists looking for a modernized and expanded version of the often cited Boston Housing dataset. \n",
    "\n",
    "Photo by Tom Thain on Unsplash."
   ]
  },
  {
   "cell_type": "markdown",
   "metadata": {
    "id": "jj1P1kTmGRlv"
   },
   "source": [
    "## Imports and Lab Setup\n",
    "\n"
   ]
  },
  {
   "cell_type": "code",
   "execution_count": 113,
   "metadata": {
    "id": "xuHD2EOxGRlv"
   },
   "outputs": [],
   "source": [
    "# for array computations and loading data\n",
    "import numpy as np\n",
    "import pandas as pd\n",
    "# for building linear regression models and preparing data\n",
    "from sklearn.linear_model import LinearRegression\n",
    "from sklearn.preprocessing import StandardScaler, PolynomialFeatures\n",
    "from sklearn.model_selection import train_test_split\n",
    "from sklearn.metrics import mean_squared_error\n",
    "\n",
    "# for building and training neural networks\n",
    "import tensorflow as tf\n",
    "\n",
    "# reduce display precision on numpy arrays\n",
    "np.set_printoptions(precision=2)\n",
    "\n",
    "# suppress warnings\n",
    "tf.get_logger().setLevel('ERROR')\n",
    "tf.autograph.set_verbosity(0)\n",
    "\n",
    "%matplotlib widget\n",
    "import matplotlib.pyplot as plt\n",
    "\n",
    "\n",
    "from sklearn.linear_model import Ridge"
   ]
  },
  {
   "cell_type": "markdown",
   "metadata": {},
   "source": [
    "# Data Input"
   ]
  },
  {
   "cell_type": "code",
   "execution_count": 45,
   "metadata": {},
   "outputs": [],
   "source": [
    "df=pd.read_csv('data/train.csv')"
   ]
  },
  {
   "cell_type": "code",
   "execution_count": 46,
   "metadata": {},
   "outputs": [
    {
     "data": {
      "text/html": [
       "<div>\n",
       "<style scoped>\n",
       "    .dataframe tbody tr th:only-of-type {\n",
       "        vertical-align: middle;\n",
       "    }\n",
       "\n",
       "    .dataframe tbody tr th {\n",
       "        vertical-align: top;\n",
       "    }\n",
       "\n",
       "    .dataframe thead th {\n",
       "        text-align: right;\n",
       "    }\n",
       "</style>\n",
       "<table border=\"1\" class=\"dataframe\">\n",
       "  <thead>\n",
       "    <tr style=\"text-align: right;\">\n",
       "      <th></th>\n",
       "      <th>Id</th>\n",
       "      <th>MSSubClass</th>\n",
       "      <th>MSZoning</th>\n",
       "      <th>LotFrontage</th>\n",
       "      <th>LotArea</th>\n",
       "      <th>Street</th>\n",
       "      <th>Alley</th>\n",
       "      <th>LotShape</th>\n",
       "      <th>LandContour</th>\n",
       "      <th>Utilities</th>\n",
       "      <th>...</th>\n",
       "      <th>PoolArea</th>\n",
       "      <th>PoolQC</th>\n",
       "      <th>Fence</th>\n",
       "      <th>MiscFeature</th>\n",
       "      <th>MiscVal</th>\n",
       "      <th>MoSold</th>\n",
       "      <th>YrSold</th>\n",
       "      <th>SaleType</th>\n",
       "      <th>SaleCondition</th>\n",
       "      <th>SalePrice</th>\n",
       "    </tr>\n",
       "  </thead>\n",
       "  <tbody>\n",
       "    <tr>\n",
       "      <th>0</th>\n",
       "      <td>1</td>\n",
       "      <td>60</td>\n",
       "      <td>RL</td>\n",
       "      <td>65.0</td>\n",
       "      <td>8450</td>\n",
       "      <td>Pave</td>\n",
       "      <td>NaN</td>\n",
       "      <td>Reg</td>\n",
       "      <td>Lvl</td>\n",
       "      <td>AllPub</td>\n",
       "      <td>...</td>\n",
       "      <td>0</td>\n",
       "      <td>NaN</td>\n",
       "      <td>NaN</td>\n",
       "      <td>NaN</td>\n",
       "      <td>0</td>\n",
       "      <td>2</td>\n",
       "      <td>2008</td>\n",
       "      <td>WD</td>\n",
       "      <td>Normal</td>\n",
       "      <td>208500</td>\n",
       "    </tr>\n",
       "    <tr>\n",
       "      <th>1</th>\n",
       "      <td>2</td>\n",
       "      <td>20</td>\n",
       "      <td>RL</td>\n",
       "      <td>80.0</td>\n",
       "      <td>9600</td>\n",
       "      <td>Pave</td>\n",
       "      <td>NaN</td>\n",
       "      <td>Reg</td>\n",
       "      <td>Lvl</td>\n",
       "      <td>AllPub</td>\n",
       "      <td>...</td>\n",
       "      <td>0</td>\n",
       "      <td>NaN</td>\n",
       "      <td>NaN</td>\n",
       "      <td>NaN</td>\n",
       "      <td>0</td>\n",
       "      <td>5</td>\n",
       "      <td>2007</td>\n",
       "      <td>WD</td>\n",
       "      <td>Normal</td>\n",
       "      <td>181500</td>\n",
       "    </tr>\n",
       "    <tr>\n",
       "      <th>2</th>\n",
       "      <td>3</td>\n",
       "      <td>60</td>\n",
       "      <td>RL</td>\n",
       "      <td>68.0</td>\n",
       "      <td>11250</td>\n",
       "      <td>Pave</td>\n",
       "      <td>NaN</td>\n",
       "      <td>IR1</td>\n",
       "      <td>Lvl</td>\n",
       "      <td>AllPub</td>\n",
       "      <td>...</td>\n",
       "      <td>0</td>\n",
       "      <td>NaN</td>\n",
       "      <td>NaN</td>\n",
       "      <td>NaN</td>\n",
       "      <td>0</td>\n",
       "      <td>9</td>\n",
       "      <td>2008</td>\n",
       "      <td>WD</td>\n",
       "      <td>Normal</td>\n",
       "      <td>223500</td>\n",
       "    </tr>\n",
       "    <tr>\n",
       "      <th>3</th>\n",
       "      <td>4</td>\n",
       "      <td>70</td>\n",
       "      <td>RL</td>\n",
       "      <td>60.0</td>\n",
       "      <td>9550</td>\n",
       "      <td>Pave</td>\n",
       "      <td>NaN</td>\n",
       "      <td>IR1</td>\n",
       "      <td>Lvl</td>\n",
       "      <td>AllPub</td>\n",
       "      <td>...</td>\n",
       "      <td>0</td>\n",
       "      <td>NaN</td>\n",
       "      <td>NaN</td>\n",
       "      <td>NaN</td>\n",
       "      <td>0</td>\n",
       "      <td>2</td>\n",
       "      <td>2006</td>\n",
       "      <td>WD</td>\n",
       "      <td>Abnorml</td>\n",
       "      <td>140000</td>\n",
       "    </tr>\n",
       "    <tr>\n",
       "      <th>4</th>\n",
       "      <td>5</td>\n",
       "      <td>60</td>\n",
       "      <td>RL</td>\n",
       "      <td>84.0</td>\n",
       "      <td>14260</td>\n",
       "      <td>Pave</td>\n",
       "      <td>NaN</td>\n",
       "      <td>IR1</td>\n",
       "      <td>Lvl</td>\n",
       "      <td>AllPub</td>\n",
       "      <td>...</td>\n",
       "      <td>0</td>\n",
       "      <td>NaN</td>\n",
       "      <td>NaN</td>\n",
       "      <td>NaN</td>\n",
       "      <td>0</td>\n",
       "      <td>12</td>\n",
       "      <td>2008</td>\n",
       "      <td>WD</td>\n",
       "      <td>Normal</td>\n",
       "      <td>250000</td>\n",
       "    </tr>\n",
       "  </tbody>\n",
       "</table>\n",
       "<p>5 rows × 81 columns</p>\n",
       "</div>"
      ],
      "text/plain": [
       "   Id  MSSubClass MSZoning  LotFrontage  LotArea Street Alley LotShape  \\\n",
       "0   1          60       RL         65.0     8450   Pave   NaN      Reg   \n",
       "1   2          20       RL         80.0     9600   Pave   NaN      Reg   \n",
       "2   3          60       RL         68.0    11250   Pave   NaN      IR1   \n",
       "3   4          70       RL         60.0     9550   Pave   NaN      IR1   \n",
       "4   5          60       RL         84.0    14260   Pave   NaN      IR1   \n",
       "\n",
       "  LandContour Utilities  ... PoolArea PoolQC Fence MiscFeature MiscVal MoSold  \\\n",
       "0         Lvl    AllPub  ...        0    NaN   NaN         NaN       0      2   \n",
       "1         Lvl    AllPub  ...        0    NaN   NaN         NaN       0      5   \n",
       "2         Lvl    AllPub  ...        0    NaN   NaN         NaN       0      9   \n",
       "3         Lvl    AllPub  ...        0    NaN   NaN         NaN       0      2   \n",
       "4         Lvl    AllPub  ...        0    NaN   NaN         NaN       0     12   \n",
       "\n",
       "  YrSold  SaleType  SaleCondition  SalePrice  \n",
       "0   2008        WD         Normal     208500  \n",
       "1   2007        WD         Normal     181500  \n",
       "2   2008        WD         Normal     223500  \n",
       "3   2006        WD        Abnorml     140000  \n",
       "4   2008        WD         Normal     250000  \n",
       "\n",
       "[5 rows x 81 columns]"
      ]
     },
     "execution_count": 46,
     "metadata": {},
     "output_type": "execute_result"
    }
   ],
   "source": [
    "df.head()"
   ]
  },
  {
   "cell_type": "code",
   "execution_count": 47,
   "metadata": {},
   "outputs": [
    {
     "name": "stdout",
     "output_type": "stream",
     "text": [
      "<class 'pandas.core.frame.DataFrame'>\n",
      "RangeIndex: 1460 entries, 0 to 1459\n",
      "Data columns (total 81 columns):\n",
      " #   Column         Non-Null Count  Dtype  \n",
      "---  ------         --------------  -----  \n",
      " 0   Id             1460 non-null   int64  \n",
      " 1   MSSubClass     1460 non-null   int64  \n",
      " 2   MSZoning       1460 non-null   object \n",
      " 3   LotFrontage    1201 non-null   float64\n",
      " 4   LotArea        1460 non-null   int64  \n",
      " 5   Street         1460 non-null   object \n",
      " 6   Alley          91 non-null     object \n",
      " 7   LotShape       1460 non-null   object \n",
      " 8   LandContour    1460 non-null   object \n",
      " 9   Utilities      1460 non-null   object \n",
      " 10  LotConfig      1460 non-null   object \n",
      " 11  LandSlope      1460 non-null   object \n",
      " 12  Neighborhood   1460 non-null   object \n",
      " 13  Condition1     1460 non-null   object \n",
      " 14  Condition2     1460 non-null   object \n",
      " 15  BldgType       1460 non-null   object \n",
      " 16  HouseStyle     1460 non-null   object \n",
      " 17  OverallQual    1460 non-null   int64  \n",
      " 18  OverallCond    1460 non-null   int64  \n",
      " 19  YearBuilt      1460 non-null   int64  \n",
      " 20  YearRemodAdd   1460 non-null   int64  \n",
      " 21  RoofStyle      1460 non-null   object \n",
      " 22  RoofMatl       1460 non-null   object \n",
      " 23  Exterior1st    1460 non-null   object \n",
      " 24  Exterior2nd    1460 non-null   object \n",
      " 25  MasVnrType     588 non-null    object \n",
      " 26  MasVnrArea     1452 non-null   float64\n",
      " 27  ExterQual      1460 non-null   object \n",
      " 28  ExterCond      1460 non-null   object \n",
      " 29  Foundation     1460 non-null   object \n",
      " 30  BsmtQual       1423 non-null   object \n",
      " 31  BsmtCond       1423 non-null   object \n",
      " 32  BsmtExposure   1422 non-null   object \n",
      " 33  BsmtFinType1   1423 non-null   object \n",
      " 34  BsmtFinSF1     1460 non-null   int64  \n",
      " 35  BsmtFinType2   1422 non-null   object \n",
      " 36  BsmtFinSF2     1460 non-null   int64  \n",
      " 37  BsmtUnfSF      1460 non-null   int64  \n",
      " 38  TotalBsmtSF    1460 non-null   int64  \n",
      " 39  Heating        1460 non-null   object \n",
      " 40  HeatingQC      1460 non-null   object \n",
      " 41  CentralAir     1460 non-null   object \n",
      " 42  Electrical     1459 non-null   object \n",
      " 43  1stFlrSF       1460 non-null   int64  \n",
      " 44  2ndFlrSF       1460 non-null   int64  \n",
      " 45  LowQualFinSF   1460 non-null   int64  \n",
      " 46  GrLivArea      1460 non-null   int64  \n",
      " 47  BsmtFullBath   1460 non-null   int64  \n",
      " 48  BsmtHalfBath   1460 non-null   int64  \n",
      " 49  FullBath       1460 non-null   int64  \n",
      " 50  HalfBath       1460 non-null   int64  \n",
      " 51  BedroomAbvGr   1460 non-null   int64  \n",
      " 52  KitchenAbvGr   1460 non-null   int64  \n",
      " 53  KitchenQual    1460 non-null   object \n",
      " 54  TotRmsAbvGrd   1460 non-null   int64  \n",
      " 55  Functional     1460 non-null   object \n",
      " 56  Fireplaces     1460 non-null   int64  \n",
      " 57  FireplaceQu    770 non-null    object \n",
      " 58  GarageType     1379 non-null   object \n",
      " 59  GarageYrBlt    1379 non-null   float64\n",
      " 60  GarageFinish   1379 non-null   object \n",
      " 61  GarageCars     1460 non-null   int64  \n",
      " 62  GarageArea     1460 non-null   int64  \n",
      " 63  GarageQual     1379 non-null   object \n",
      " 64  GarageCond     1379 non-null   object \n",
      " 65  PavedDrive     1460 non-null   object \n",
      " 66  WoodDeckSF     1460 non-null   int64  \n",
      " 67  OpenPorchSF    1460 non-null   int64  \n",
      " 68  EnclosedPorch  1460 non-null   int64  \n",
      " 69  3SsnPorch      1460 non-null   int64  \n",
      " 70  ScreenPorch    1460 non-null   int64  \n",
      " 71  PoolArea       1460 non-null   int64  \n",
      " 72  PoolQC         7 non-null      object \n",
      " 73  Fence          281 non-null    object \n",
      " 74  MiscFeature    54 non-null     object \n",
      " 75  MiscVal        1460 non-null   int64  \n",
      " 76  MoSold         1460 non-null   int64  \n",
      " 77  YrSold         1460 non-null   int64  \n",
      " 78  SaleType       1460 non-null   object \n",
      " 79  SaleCondition  1460 non-null   object \n",
      " 80  SalePrice      1460 non-null   int64  \n",
      "dtypes: float64(3), int64(35), object(43)\n",
      "memory usage: 924.0+ KB\n"
     ]
    }
   ],
   "source": [
    "df.info()"
   ]
  },
  {
   "cell_type": "code",
   "execution_count": 48,
   "metadata": {},
   "outputs": [
    {
     "data": {
      "text/html": [
       "<div>\n",
       "<style scoped>\n",
       "    .dataframe tbody tr th:only-of-type {\n",
       "        vertical-align: middle;\n",
       "    }\n",
       "\n",
       "    .dataframe tbody tr th {\n",
       "        vertical-align: top;\n",
       "    }\n",
       "\n",
       "    .dataframe thead th {\n",
       "        text-align: right;\n",
       "    }\n",
       "</style>\n",
       "<table border=\"1\" class=\"dataframe\">\n",
       "  <thead>\n",
       "    <tr style=\"text-align: right;\">\n",
       "      <th></th>\n",
       "      <th>Id</th>\n",
       "      <th>MSSubClass</th>\n",
       "      <th>LotFrontage</th>\n",
       "      <th>LotArea</th>\n",
       "      <th>OverallQual</th>\n",
       "      <th>OverallCond</th>\n",
       "      <th>YearBuilt</th>\n",
       "      <th>YearRemodAdd</th>\n",
       "      <th>MasVnrArea</th>\n",
       "      <th>BsmtFinSF1</th>\n",
       "      <th>...</th>\n",
       "      <th>WoodDeckSF</th>\n",
       "      <th>OpenPorchSF</th>\n",
       "      <th>EnclosedPorch</th>\n",
       "      <th>3SsnPorch</th>\n",
       "      <th>ScreenPorch</th>\n",
       "      <th>PoolArea</th>\n",
       "      <th>MiscVal</th>\n",
       "      <th>MoSold</th>\n",
       "      <th>YrSold</th>\n",
       "      <th>SalePrice</th>\n",
       "    </tr>\n",
       "  </thead>\n",
       "  <tbody>\n",
       "    <tr>\n",
       "      <th>0</th>\n",
       "      <td>1</td>\n",
       "      <td>60</td>\n",
       "      <td>65.0</td>\n",
       "      <td>8450</td>\n",
       "      <td>7</td>\n",
       "      <td>5</td>\n",
       "      <td>2003</td>\n",
       "      <td>2003</td>\n",
       "      <td>196.0</td>\n",
       "      <td>706</td>\n",
       "      <td>...</td>\n",
       "      <td>0</td>\n",
       "      <td>61</td>\n",
       "      <td>0</td>\n",
       "      <td>0</td>\n",
       "      <td>0</td>\n",
       "      <td>0</td>\n",
       "      <td>0</td>\n",
       "      <td>2</td>\n",
       "      <td>2008</td>\n",
       "      <td>208500</td>\n",
       "    </tr>\n",
       "    <tr>\n",
       "      <th>1</th>\n",
       "      <td>2</td>\n",
       "      <td>20</td>\n",
       "      <td>80.0</td>\n",
       "      <td>9600</td>\n",
       "      <td>6</td>\n",
       "      <td>8</td>\n",
       "      <td>1976</td>\n",
       "      <td>1976</td>\n",
       "      <td>0.0</td>\n",
       "      <td>978</td>\n",
       "      <td>...</td>\n",
       "      <td>298</td>\n",
       "      <td>0</td>\n",
       "      <td>0</td>\n",
       "      <td>0</td>\n",
       "      <td>0</td>\n",
       "      <td>0</td>\n",
       "      <td>0</td>\n",
       "      <td>5</td>\n",
       "      <td>2007</td>\n",
       "      <td>181500</td>\n",
       "    </tr>\n",
       "    <tr>\n",
       "      <th>2</th>\n",
       "      <td>3</td>\n",
       "      <td>60</td>\n",
       "      <td>68.0</td>\n",
       "      <td>11250</td>\n",
       "      <td>7</td>\n",
       "      <td>5</td>\n",
       "      <td>2001</td>\n",
       "      <td>2002</td>\n",
       "      <td>162.0</td>\n",
       "      <td>486</td>\n",
       "      <td>...</td>\n",
       "      <td>0</td>\n",
       "      <td>42</td>\n",
       "      <td>0</td>\n",
       "      <td>0</td>\n",
       "      <td>0</td>\n",
       "      <td>0</td>\n",
       "      <td>0</td>\n",
       "      <td>9</td>\n",
       "      <td>2008</td>\n",
       "      <td>223500</td>\n",
       "    </tr>\n",
       "    <tr>\n",
       "      <th>3</th>\n",
       "      <td>4</td>\n",
       "      <td>70</td>\n",
       "      <td>60.0</td>\n",
       "      <td>9550</td>\n",
       "      <td>7</td>\n",
       "      <td>5</td>\n",
       "      <td>1915</td>\n",
       "      <td>1970</td>\n",
       "      <td>0.0</td>\n",
       "      <td>216</td>\n",
       "      <td>...</td>\n",
       "      <td>0</td>\n",
       "      <td>35</td>\n",
       "      <td>272</td>\n",
       "      <td>0</td>\n",
       "      <td>0</td>\n",
       "      <td>0</td>\n",
       "      <td>0</td>\n",
       "      <td>2</td>\n",
       "      <td>2006</td>\n",
       "      <td>140000</td>\n",
       "    </tr>\n",
       "    <tr>\n",
       "      <th>4</th>\n",
       "      <td>5</td>\n",
       "      <td>60</td>\n",
       "      <td>84.0</td>\n",
       "      <td>14260</td>\n",
       "      <td>8</td>\n",
       "      <td>5</td>\n",
       "      <td>2000</td>\n",
       "      <td>2000</td>\n",
       "      <td>350.0</td>\n",
       "      <td>655</td>\n",
       "      <td>...</td>\n",
       "      <td>192</td>\n",
       "      <td>84</td>\n",
       "      <td>0</td>\n",
       "      <td>0</td>\n",
       "      <td>0</td>\n",
       "      <td>0</td>\n",
       "      <td>0</td>\n",
       "      <td>12</td>\n",
       "      <td>2008</td>\n",
       "      <td>250000</td>\n",
       "    </tr>\n",
       "  </tbody>\n",
       "</table>\n",
       "<p>5 rows × 38 columns</p>\n",
       "</div>"
      ],
      "text/plain": [
       "   Id  MSSubClass  LotFrontage  LotArea  OverallQual  OverallCond  YearBuilt  \\\n",
       "0   1          60         65.0     8450            7            5       2003   \n",
       "1   2          20         80.0     9600            6            8       1976   \n",
       "2   3          60         68.0    11250            7            5       2001   \n",
       "3   4          70         60.0     9550            7            5       1915   \n",
       "4   5          60         84.0    14260            8            5       2000   \n",
       "\n",
       "   YearRemodAdd  MasVnrArea  BsmtFinSF1  ...  WoodDeckSF  OpenPorchSF  \\\n",
       "0          2003       196.0         706  ...           0           61   \n",
       "1          1976         0.0         978  ...         298            0   \n",
       "2          2002       162.0         486  ...           0           42   \n",
       "3          1970         0.0         216  ...           0           35   \n",
       "4          2000       350.0         655  ...         192           84   \n",
       "\n",
       "   EnclosedPorch  3SsnPorch  ScreenPorch  PoolArea  MiscVal  MoSold  YrSold  \\\n",
       "0              0          0            0         0        0       2    2008   \n",
       "1              0          0            0         0        0       5    2007   \n",
       "2              0          0            0         0        0       9    2008   \n",
       "3            272          0            0         0        0       2    2006   \n",
       "4              0          0            0         0        0      12    2008   \n",
       "\n",
       "   SalePrice  \n",
       "0     208500  \n",
       "1     181500  \n",
       "2     223500  \n",
       "3     140000  \n",
       "4     250000  \n",
       "\n",
       "[5 rows x 38 columns]"
      ]
     },
     "execution_count": 48,
     "metadata": {},
     "output_type": "execute_result"
    }
   ],
   "source": [
    "df_num = df.select_dtypes(include = ['float64', 'int64'])\n",
    "df_num.head()"
   ]
  },
  {
   "cell_type": "code",
   "execution_count": 49,
   "metadata": {},
   "outputs": [
    {
     "name": "stdout",
     "output_type": "stream",
     "text": [
      "Total number of NaN values in the DataFrame: 348\n"
     ]
    }
   ],
   "source": [
    "# Count the number of NaN values in the entire DataFrame\n",
    "num_nan_in_df = df_num.isna().sum().sum()\n",
    "print(f'Total number of NaN values in the DataFrame: {num_nan_in_df}')"
   ]
  },
  {
   "cell_type": "code",
   "execution_count": 7,
   "metadata": {},
   "outputs": [],
   "source": [
    "# Replace NaNs with the mean of the column:\n",
    "#df_num_filled = df_num.fillna(df_num.mean())"
   ]
  },
  {
   "cell_type": "code",
   "execution_count": 50,
   "metadata": {},
   "outputs": [],
   "source": [
    "# Remove cloumn with NaN values\n",
    "\n",
    "df_num_removed = df_num.dropna(axis=1)"
   ]
  },
  {
   "cell_type": "code",
   "execution_count": 51,
   "metadata": {},
   "outputs": [
    {
     "name": "stdout",
     "output_type": "stream",
     "text": [
      "Total number of NaN values in the DataFrame: 0\n"
     ]
    }
   ],
   "source": [
    "# Count the number of NaN values in the entire DataFrame\n",
    "num_nan_in_df = df_num_removed.isna().sum().sum()\n",
    "print(f'Total number of NaN values in the DataFrame: {num_nan_in_df}')"
   ]
  },
  {
   "cell_type": "code",
   "execution_count": 52,
   "metadata": {},
   "outputs": [
    {
     "name": "stdout",
     "output_type": "stream",
     "text": [
      "<class 'pandas.core.frame.DataFrame'>\n",
      "RangeIndex: 1460 entries, 0 to 1459\n",
      "Data columns (total 35 columns):\n",
      " #   Column         Non-Null Count  Dtype\n",
      "---  ------         --------------  -----\n",
      " 0   Id             1460 non-null   int64\n",
      " 1   MSSubClass     1460 non-null   int64\n",
      " 2   LotArea        1460 non-null   int64\n",
      " 3   OverallQual    1460 non-null   int64\n",
      " 4   OverallCond    1460 non-null   int64\n",
      " 5   YearBuilt      1460 non-null   int64\n",
      " 6   YearRemodAdd   1460 non-null   int64\n",
      " 7   BsmtFinSF1     1460 non-null   int64\n",
      " 8   BsmtFinSF2     1460 non-null   int64\n",
      " 9   BsmtUnfSF      1460 non-null   int64\n",
      " 10  TotalBsmtSF    1460 non-null   int64\n",
      " 11  1stFlrSF       1460 non-null   int64\n",
      " 12  2ndFlrSF       1460 non-null   int64\n",
      " 13  LowQualFinSF   1460 non-null   int64\n",
      " 14  GrLivArea      1460 non-null   int64\n",
      " 15  BsmtFullBath   1460 non-null   int64\n",
      " 16  BsmtHalfBath   1460 non-null   int64\n",
      " 17  FullBath       1460 non-null   int64\n",
      " 18  HalfBath       1460 non-null   int64\n",
      " 19  BedroomAbvGr   1460 non-null   int64\n",
      " 20  KitchenAbvGr   1460 non-null   int64\n",
      " 21  TotRmsAbvGrd   1460 non-null   int64\n",
      " 22  Fireplaces     1460 non-null   int64\n",
      " 23  GarageCars     1460 non-null   int64\n",
      " 24  GarageArea     1460 non-null   int64\n",
      " 25  WoodDeckSF     1460 non-null   int64\n",
      " 26  OpenPorchSF    1460 non-null   int64\n",
      " 27  EnclosedPorch  1460 non-null   int64\n",
      " 28  3SsnPorch      1460 non-null   int64\n",
      " 29  ScreenPorch    1460 non-null   int64\n",
      " 30  PoolArea       1460 non-null   int64\n",
      " 31  MiscVal        1460 non-null   int64\n",
      " 32  MoSold         1460 non-null   int64\n",
      " 33  YrSold         1460 non-null   int64\n",
      " 34  SalePrice      1460 non-null   int64\n",
      "dtypes: int64(35)\n",
      "memory usage: 399.3 KB\n"
     ]
    }
   ],
   "source": [
    "df_num_removed.info()"
   ]
  },
  {
   "cell_type": "code",
   "execution_count": 101,
   "metadata": {},
   "outputs": [],
   "source": [
    "df_num_removed.to_csv('df_num_removed.csv', index=False)"
   ]
  },
  {
   "cell_type": "code",
   "execution_count": 77,
   "metadata": {},
   "outputs": [],
   "source": [
    "x = np.array(df_num_removed.iloc[:, :-2])\n",
    "y = np.array(df_num_removed['SalePrice'])\t\n"
   ]
  },
  {
   "cell_type": "code",
   "execution_count": 78,
   "metadata": {},
   "outputs": [
    {
     "data": {
      "text/plain": [
       "(1460, 33)"
      ]
     },
     "execution_count": 78,
     "metadata": {},
     "output_type": "execute_result"
    }
   ],
   "source": [
    "x.shape"
   ]
  },
  {
   "cell_type": "code",
   "execution_count": 79,
   "metadata": {},
   "outputs": [
    {
     "data": {
      "text/plain": [
       "(1460,)"
      ]
     },
     "execution_count": 79,
     "metadata": {},
     "output_type": "execute_result"
    }
   ],
   "source": [
    "y.shape"
   ]
  },
  {
   "cell_type": "code",
   "execution_count": 80,
   "metadata": {},
   "outputs": [
    {
     "name": "stdout",
     "output_type": "stream",
     "text": [
      "[[    1    60  8450     7     5  2003  2003   706     0   150   856   856\n",
      "    854     0  1710     1     0     2     1     3     1     8     0     2\n",
      "    548     0    61     0     0     0     0     0     2]\n",
      " [    2    20  9600     6     8  1976  1976   978     0   284  1262  1262\n",
      "      0     0  1262     0     1     2     0     3     1     6     1     2\n",
      "    460   298     0     0     0     0     0     0     5]\n",
      " [    3    60 11250     7     5  2001  2002   486     0   434   920   920\n",
      "    866     0  1786     1     0     2     1     3     1     6     1     2\n",
      "    608     0    42     0     0     0     0     0     9]\n",
      " [    4    70  9550     7     5  1915  1970   216     0   540   756   961\n",
      "    756     0  1717     1     0     1     0     3     1     7     1     3\n",
      "    642     0    35   272     0     0     0     0     2]\n",
      " [    5    60 14260     8     5  2000  2000   655     0   490  1145  1145\n",
      "   1053     0  2198     1     0     2     1     4     1     9     1     3\n",
      "    836   192    84     0     0     0     0     0    12]]\n",
      "[208500 181500 223500 140000 250000]\n"
     ]
    }
   ],
   "source": [
    "print(x[:5])\n",
    "print(y[:5])"
   ]
  },
  {
   "cell_type": "code",
   "execution_count": 81,
   "metadata": {},
   "outputs": [
    {
     "data": {
      "text/plain": [
       "array([[208500],\n",
       "       [181500],\n",
       "       [223500],\n",
       "       ...,\n",
       "       [266500],\n",
       "       [142125],\n",
       "       [147500]], dtype=int64)"
      ]
     },
     "execution_count": 81,
     "metadata": {},
     "output_type": "execute_result"
    }
   ],
   "source": [
    "x.reshape(-1, 1)\n",
    "y.reshape(-1, 1)"
   ]
  },
  {
   "cell_type": "code",
   "execution_count": 106,
   "metadata": {},
   "outputs": [
    {
     "name": "stdout",
     "output_type": "stream",
     "text": [
      "1460\n",
      "1460\n"
     ]
    }
   ],
   "source": [
    "print(len(x))\n",
    "print(len(y))"
   ]
  },
  {
   "cell_type": "markdown",
   "metadata": {
    "id": "WbZdSoJHGRly"
   },
   "source": [
    "## Split the dataset into training, cross validation, and test sets\n",
    "\n",
    "\n",
    "\n",
    "\n"
   ]
  },
  {
   "cell_type": "code",
   "execution_count": 82,
   "metadata": {
    "colab": {
     "base_uri": "https://localhost:8080/"
    },
    "id": "22JKPjmjGRly",
    "outputId": "6f02748d-e8ef-4243-d7ff-a206be7e66f5"
   },
   "outputs": [
    {
     "name": "stdout",
     "output_type": "stream",
     "text": [
      "the shape of the training set (input) is: (876, 33)\n",
      "the shape of the training set (target) is: (876,)\n",
      "\n",
      "the shape of the cross validation set (input) is: (292, 33)\n",
      "the shape of the cross validation set (target) is: (292,)\n",
      "\n",
      "the shape of the test set (input) is: (292, 33)\n",
      "the shape of the test set (target) is: (292,)\n"
     ]
    }
   ],
   "source": [
    "# Get 60% of the dataset as the training set. Put the remaining 40% in temporary variables: x_ and y_.\n",
    "x_train, x_, y_train, y_ = train_test_split(x, y, test_size=0.40, random_state=1)\n",
    "\n",
    "# Split the 40% subset above into two: one half for cross validation and the other for the test set\n",
    "x_cv, x_test, y_cv, y_test = train_test_split(x_, y_, test_size=0.50, random_state=1)\n",
    "\n",
    "# Delete temporary variables\n",
    "del x_, y_\n",
    "\n",
    "print(f\"the shape of the training set (input) is: {x_train.shape}\")\n",
    "print(f\"the shape of the training set (target) is: {y_train.shape}\\n\")\n",
    "print(f\"the shape of the cross validation set (input) is: {x_cv.shape}\")\n",
    "print(f\"the shape of the cross validation set (target) is: {y_cv.shape}\\n\")\n",
    "print(f\"the shape of the test set (input) is: {x_test.shape}\")\n",
    "print(f\"the shape of the test set (target) is: {y_test.shape}\")"
   ]
  },
  {
   "cell_type": "markdown",
   "metadata": {},
   "source": [
    "## Plotting data"
   ]
  },
  {
   "cell_type": "code",
   "execution_count": 110,
   "metadata": {},
   "outputs": [
    {
     "data": {
      "text/plain": [
       "'\"\\nfrom sklearn import dummy, metrics\\n\\n# Assume y is your target variable\\ny_mean = np.mean(y)\\n\\n# Create a dummy regressor that will always predict the mean\\ndummy_regr = dummy.DummyRegressor(strategy=\"mean\")\\ndummy_regr.fit(x, y)\\n\\n# Now you can use dummy_regr.predict(X) to get the baseline predictions\\ny_pred_baseline = dummy_regr.predict(x)\\n\\n# And you can calculate the baseline error, for example using Mean Squared Error\\nmse_baseline = metrics.mean_squared_error(y, y_pred_baseline)\\n\\n'"
      ]
     },
     "execution_count": 110,
     "metadata": {},
     "output_type": "execute_result"
    }
   ],
   "source": [
    "\"\"\"\"\n",
    "from sklearn import dummy, metrics\n",
    "\n",
    "# Assume y is your target variable\n",
    "y_mean = np.mean(y)\n",
    "\n",
    "# Create a dummy regressor that will always predict the mean\n",
    "dummy_regr = dummy.DummyRegressor(strategy=\"mean\")\n",
    "dummy_regr.fit(x, y)\n",
    "\n",
    "# Now you can use dummy_regr.predict(X) to get the baseline predictions\n",
    "y_pred_baseline = dummy_regr.predict(x)\n",
    "\n",
    "# And you can calculate the baseline error, for example using Mean Squared Error\n",
    "mse_baseline = metrics.mean_squared_error(y, y_pred_baseline)\n",
    "\n",
    "\"\"\""
   ]
  },
  {
   "cell_type": "code",
   "execution_count": 111,
   "metadata": {},
   "outputs": [
    {
     "data": {
      "text/plain": [
       "'\\nfig, ax = plt.subplots(1,1,figsize=(4,4))\\nax.plot(x, y_pred_baseline, \"--\", color = \"orangered\", label=\"y_ideal\", lw=1)\\nax.set_title(\"Training, CV, Test\",fontsize = 14)\\nax.set_xlabel(\"x\")\\nax.set_ylabel(\"y\")\\n\\nax.scatter(x_train, y_train, color = \"red\",           label=\"train\")\\nax.scatter(x_cv, y_cv,       color = dlc[\"dlorange\"], label=\"cv\")\\nax.scatter(x_test, y_test,   color = dlc[\"dlblue\"],   label=\"test\")\\nax.legend(loc=\\'upper left\\')\\nplt.show()\\n\\n'"
      ]
     },
     "execution_count": 111,
     "metadata": {},
     "output_type": "execute_result"
    }
   ],
   "source": [
    "\n",
    "\"\"\"\n",
    "fig, ax = plt.subplots(1,1,figsize=(4,4))\n",
    "ax.plot(x, y_pred_baseline, \"--\", color = \"orangered\", label=\"y_ideal\", lw=1)\n",
    "ax.set_title(\"Training, CV, Test\",fontsize = 14)\n",
    "ax.set_xlabel(\"x\")\n",
    "ax.set_ylabel(\"y\")\n",
    "\n",
    "ax.scatter(x_train, y_train, color = \"red\",           label=\"train\")\n",
    "ax.scatter(x_cv, y_cv,       color = dlc[\"dlorange\"], label=\"cv\")\n",
    "ax.scatter(x_test, y_test,   color = dlc[\"dlblue\"],   label=\"test\")\n",
    "ax.legend(loc='upper left')\n",
    "plt.show()\n",
    "\n",
    "\"\"\""
   ]
  },
  {
   "cell_type": "markdown",
   "metadata": {
    "id": "Ayr22PeEGRly"
   },
   "source": [
    "## Fit a linear model\n"
   ]
  },
  {
   "cell_type": "code",
   "execution_count": 84,
   "metadata": {
    "colab": {
     "base_uri": "https://localhost:8080/",
     "height": 295
    },
    "id": "QlJ7eQ0TGRlz",
    "outputId": "ed899629-4c5e-468d-d5c8-a4b3349bd62a"
   },
   "outputs": [],
   "source": [
    "# Initialize the class\n",
    "scaler_linear = StandardScaler()\n",
    "\n",
    "# Compute the mean and standard deviation of the training set then transform it\n",
    "X_train_scaled = scaler_linear.fit_transform(x_train)\n",
    "X_cv_scaled = scaler_linear.fit_transform(x_cv)\n",
    "X_test_scaled = scaler_linear.fit_transform(x_test)\n"
   ]
  },
  {
   "cell_type": "markdown",
   "metadata": {
    "id": "vzDw7PcJGRlz"
   },
   "source": [
    "### Train the model\n",
    "\n"
   ]
  },
  {
   "cell_type": "code",
   "execution_count": 85,
   "metadata": {
    "colab": {
     "base_uri": "https://localhost:8080/"
    },
    "id": "DIol3uTkGRlz",
    "outputId": "283e5e1c-9aff-41bb-c2d3-6977861d63bd"
   },
   "outputs": [
    {
     "data": {
      "text/html": [
       "<style>#sk-container-id-3 {color: black;background-color: white;}#sk-container-id-3 pre{padding: 0;}#sk-container-id-3 div.sk-toggleable {background-color: white;}#sk-container-id-3 label.sk-toggleable__label {cursor: pointer;display: block;width: 100%;margin-bottom: 0;padding: 0.3em;box-sizing: border-box;text-align: center;}#sk-container-id-3 label.sk-toggleable__label-arrow:before {content: \"▸\";float: left;margin-right: 0.25em;color: #696969;}#sk-container-id-3 label.sk-toggleable__label-arrow:hover:before {color: black;}#sk-container-id-3 div.sk-estimator:hover label.sk-toggleable__label-arrow:before {color: black;}#sk-container-id-3 div.sk-toggleable__content {max-height: 0;max-width: 0;overflow: hidden;text-align: left;background-color: #f0f8ff;}#sk-container-id-3 div.sk-toggleable__content pre {margin: 0.2em;color: black;border-radius: 0.25em;background-color: #f0f8ff;}#sk-container-id-3 input.sk-toggleable__control:checked~div.sk-toggleable__content {max-height: 200px;max-width: 100%;overflow: auto;}#sk-container-id-3 input.sk-toggleable__control:checked~label.sk-toggleable__label-arrow:before {content: \"▾\";}#sk-container-id-3 div.sk-estimator input.sk-toggleable__control:checked~label.sk-toggleable__label {background-color: #d4ebff;}#sk-container-id-3 div.sk-label input.sk-toggleable__control:checked~label.sk-toggleable__label {background-color: #d4ebff;}#sk-container-id-3 input.sk-hidden--visually {border: 0;clip: rect(1px 1px 1px 1px);clip: rect(1px, 1px, 1px, 1px);height: 1px;margin: -1px;overflow: hidden;padding: 0;position: absolute;width: 1px;}#sk-container-id-3 div.sk-estimator {font-family: monospace;background-color: #f0f8ff;border: 1px dotted black;border-radius: 0.25em;box-sizing: border-box;margin-bottom: 0.5em;}#sk-container-id-3 div.sk-estimator:hover {background-color: #d4ebff;}#sk-container-id-3 div.sk-parallel-item::after {content: \"\";width: 100%;border-bottom: 1px solid gray;flex-grow: 1;}#sk-container-id-3 div.sk-label:hover label.sk-toggleable__label {background-color: #d4ebff;}#sk-container-id-3 div.sk-serial::before {content: \"\";position: absolute;border-left: 1px solid gray;box-sizing: border-box;top: 0;bottom: 0;left: 50%;z-index: 0;}#sk-container-id-3 div.sk-serial {display: flex;flex-direction: column;align-items: center;background-color: white;padding-right: 0.2em;padding-left: 0.2em;position: relative;}#sk-container-id-3 div.sk-item {position: relative;z-index: 1;}#sk-container-id-3 div.sk-parallel {display: flex;align-items: stretch;justify-content: center;background-color: white;position: relative;}#sk-container-id-3 div.sk-item::before, #sk-container-id-3 div.sk-parallel-item::before {content: \"\";position: absolute;border-left: 1px solid gray;box-sizing: border-box;top: 0;bottom: 0;left: 50%;z-index: -1;}#sk-container-id-3 div.sk-parallel-item {display: flex;flex-direction: column;z-index: 1;position: relative;background-color: white;}#sk-container-id-3 div.sk-parallel-item:first-child::after {align-self: flex-end;width: 50%;}#sk-container-id-3 div.sk-parallel-item:last-child::after {align-self: flex-start;width: 50%;}#sk-container-id-3 div.sk-parallel-item:only-child::after {width: 0;}#sk-container-id-3 div.sk-dashed-wrapped {border: 1px dashed gray;margin: 0 0.4em 0.5em 0.4em;box-sizing: border-box;padding-bottom: 0.4em;background-color: white;}#sk-container-id-3 div.sk-label label {font-family: monospace;font-weight: bold;display: inline-block;line-height: 1.2em;}#sk-container-id-3 div.sk-label-container {text-align: center;}#sk-container-id-3 div.sk-container {/* jupyter's `normalize.less` sets `[hidden] { display: none; }` but bootstrap.min.css set `[hidden] { display: none !important; }` so we also need the `!important` here to be able to override the default hidden behavior on the sphinx rendered scikit-learn.org. See: https://github.com/scikit-learn/scikit-learn/issues/21755 */display: inline-block !important;position: relative;}#sk-container-id-3 div.sk-text-repr-fallback {display: none;}</style><div id=\"sk-container-id-3\" class=\"sk-top-container\"><div class=\"sk-text-repr-fallback\"><pre>LinearRegression()</pre><b>In a Jupyter environment, please rerun this cell to show the HTML representation or trust the notebook. <br />On GitHub, the HTML representation is unable to render, please try loading this page with nbviewer.org.</b></div><div class=\"sk-container\" hidden><div class=\"sk-item\"><div class=\"sk-estimator sk-toggleable\"><input class=\"sk-toggleable__control sk-hidden--visually\" id=\"sk-estimator-id-3\" type=\"checkbox\" checked><label for=\"sk-estimator-id-3\" class=\"sk-toggleable__label sk-toggleable__label-arrow\">LinearRegression</label><div class=\"sk-toggleable__content\"><pre>LinearRegression()</pre></div></div></div></div></div>"
      ],
      "text/plain": [
       "LinearRegression()"
      ]
     },
     "execution_count": 85,
     "metadata": {},
     "output_type": "execute_result"
    }
   ],
   "source": [
    "# Initialize the class\n",
    "linear_model = LinearRegression()\n",
    "\n",
    "# Train the model\n",
    "linear_model.fit(X_train_scaled, y_train )"
   ]
  },
  {
   "cell_type": "code",
   "execution_count": 86,
   "metadata": {},
   "outputs": [
    {
     "data": {
      "text/plain": [
       "array([[ 0.69, -0.88,  0.44, ..., -0.06, -0.09, -0.48],\n",
       "       [-0.65, -0.88,  3.89, ..., -0.06, -0.09, -1.23],\n",
       "       [-1.32, -0.88,  0.17, ..., -0.06, -0.09, -0.1 ],\n",
       "       ...,\n",
       "       [ 0.86,  0.31, -0.35, ..., -0.06, -0.09, -1.23],\n",
       "       [-1.17,  2.45, -0.82, ..., -0.06, -0.09,  0.65],\n",
       "       [ 0.78, -0.64,  0.67, ..., -0.06,  0.81,  0.65]])"
      ]
     },
     "execution_count": 86,
     "metadata": {},
     "output_type": "execute_result"
    }
   ],
   "source": [
    "X_train_scaled"
   ]
  },
  {
   "cell_type": "code",
   "execution_count": 87,
   "metadata": {},
   "outputs": [
    {
     "data": {
      "text/plain": [
       "array([[ 0.37,  0.05, -0.31, ..., -0.08, -0.17,  1.34],\n",
       "       [-0.93,  1.43, -0.48, ..., -0.08, -0.17,  2.07],\n",
       "       [-0.43,  1.43, -0.67, ..., -0.08, -0.17,  1.34],\n",
       "       ...,\n",
       "       [-1.  ,  0.05,  0.17, ..., -0.08, -0.17, -0.11],\n",
       "       [ 0.37,  0.74, -0.31, ..., -0.08, -0.17, -0.11],\n",
       "       [ 0.57, -0.63, -0.42, ..., -0.08, -0.17,  0.61]])"
      ]
     },
     "execution_count": 87,
     "metadata": {},
     "output_type": "execute_result"
    }
   ],
   "source": [
    "X_cv_scaled"
   ]
  },
  {
   "cell_type": "markdown",
   "metadata": {
    "id": "x8LW5leOGRlz"
   },
   "source": [
    "### Evaluate the Model\n"
   ]
  },
  {
   "cell_type": "code",
   "execution_count": 88,
   "metadata": {
    "colab": {
     "base_uri": "https://localhost:8080/"
    },
    "id": "xmuskcDhfy8z",
    "outputId": "10bb7e65-1723-4ab6-8bbf-f800e8777474"
   },
   "outputs": [
    {
     "name": "stdout",
     "output_type": "stream",
     "text": [
      "training MSE (using sklearn function): 542485067.6431811\n"
     ]
    }
   ],
   "source": [
    "# Feed the scaled training set and get the predictions\n",
    "yhat = linear_model.predict(X_train_scaled)\n",
    "\n",
    "# Use scikit-learn's utility function and divide by 2\n",
    "print(f\"training MSE (using sklearn function): {mean_squared_error(y_train, yhat) / 2}\")\n",
    "\n",
    "# for-loop implementation\n",
    "total_squared_error = 0\n"
   ]
  },
  {
   "cell_type": "code",
   "execution_count": 89,
   "metadata": {
    "colab": {
     "base_uri": "https://localhost:8080/"
    },
    "id": "JJQbmq70GRl0",
    "outputId": "7b75d664-7cf0-4a27-c79c-3236857f444b"
   },
   "outputs": [
    {
     "name": "stdout",
     "output_type": "stream",
     "text": [
      "Cross validation MSE: 9.38039044298737e+30\n"
     ]
    }
   ],
   "source": [
    "\n",
    "# Feed the scaled cross validation set\n",
    "yhat = linear_model.predict(X_cv_scaled)\n",
    "\n",
    "# Use scikit-learn's utility function and divide by 2\n",
    "print(f\"Cross validation MSE: {mean_squared_error(y_cv, yhat) / 2}\")\n"
   ]
  },
  {
   "cell_type": "markdown",
   "metadata": {
    "id": "BZtb_blcGRl0"
   },
   "source": [
    "## Adding Polynomial Features"
   ]
  },
  {
   "cell_type": "markdown",
   "metadata": {},
   "source": [
    "### Create the additional features"
   ]
  },
  {
   "cell_type": "code",
   "execution_count": 97,
   "metadata": {},
   "outputs": [],
   "source": [
    "# Initialize lists to save the errors, models, and feature transforms\n",
    "train_mses = []\n",
    "cv_mses = []\n",
    "models = []\n",
    "polys = []\n",
    "scalers = []\n",
    "maxdegree = 4\n",
    "# Loop over 10 times. Each adding one more degree of polynomial higher than the last.\n",
    "for degree in range(1,maxdegree+1):\n",
    "    \n",
    "    # Add polynomial features to the training set\n",
    "    poly = PolynomialFeatures(degree, include_bias=False)\n",
    "    X_train_mapped = poly.fit_transform(x_train)\n",
    "    polys.append(poly)\n",
    "    \n",
    "    # Scale the training set\n",
    "    scaler_poly = StandardScaler()\n",
    "    X_train_mapped_scaled = scaler_poly.fit_transform(X_train_mapped)\n",
    "    scalers.append(scaler_poly)\n",
    "    \n",
    "    # Create and train the model\n",
    "    model = LinearRegression()\n",
    "    model.fit(X_train_mapped_scaled, y_train )\n",
    "    models.append(model)\n",
    "    \n",
    "    # Compute the training MSE\n",
    "    yhat = model.predict(X_train_mapped_scaled)\n",
    "    train_mse = mean_squared_error(y_train, yhat) / 2\n",
    "    train_mses.append(train_mse)\n",
    "    \n",
    "    # Add polynomial features and scale the cross validation set\n",
    "    X_cv_mapped = poly.transform(x_cv)\n",
    "    X_cv_mapped_scaled = scaler_poly.transform(X_cv_mapped)\n",
    "    \n",
    "    # Compute the cross validation MSE\n",
    "    yhat = model.predict(X_cv_mapped_scaled)\n",
    "    cv_mse = mean_squared_error(y_cv, yhat) / 2\n",
    "    cv_mses.append(cv_mse)\n",
    "    "
   ]
  },
  {
   "cell_type": "code",
   "execution_count": 98,
   "metadata": {},
   "outputs": [],
   "source": [
    "# Plot the results\n",
    "degrees=range(1,maxdegree+1)\n",
    "import matplotlib.pyplot as plt\n",
    "import numpy as np\n",
    "from sklearn.metrics import mean_squared_error\n",
    "\n",
    "def plot_train_cv_mses(degrees, train_mses, cv_mses, title):\n",
    "    plt.figure(figsize=(10, 5))\n",
    "    plt.plot(degrees, train_mses, label='Train MSE')\n",
    "    plt.plot(degrees, cv_mses, label='CV MSE')\n",
    "    plt.legend()\n",
    "    plt.xlabel('Degree of Polynomial')\n",
    "    plt.ylabel('MSE')\n",
    "    plt.title(title)\n",
    "    plt.show()"
   ]
  },
  {
   "cell_type": "code",
   "execution_count": 99,
   "metadata": {},
   "outputs": [
    {
     "data": {
      "image/png": "[encoded data removed]",
      "text/plain": [
       "<Figure size 1000x500 with 1 Axes>"
      ]
     },
     "metadata": {},
     "output_type": "display_data"
    }
   ],
   "source": [
    "plot_train_cv_mses(degrees, train_mses, cv_mses, 'Training and Cross Validation Errors')"
   ]
  },
  {
   "cell_type": "markdown",
   "metadata": {
    "id": "R83nSGpXGRl2"
   },
   "source": [
    "### Choosing the best degree\n"
   ]
  },
  {
   "cell_type": "code",
   "execution_count": 100,
   "metadata": {},
   "outputs": [
    {
     "name": "stdout",
     "output_type": "stream",
     "text": [
      "Minimum cross validation MSE: 1146081103.9282892\n",
      "Degree of polynomial with the minimum cross validation MSE: 1\n",
      "Training MSE at the degree of polynomial with the minimum cross validation MSE: 542485067.6431811\n"
     ]
    }
   ],
   "source": [
    "# Get the model with the lowest CV MSE (add 1 because list indices start at 0)\n",
    "# This also corresponds to the degree of the polynomial added\n",
    "print(f\"Minimum cross validation MSE: {min(cv_mses)}\")\n",
    "print(f\"Degree of polynomial with the minimum cross validation MSE: {cv_mses.index(min(cv_mses)) + 1}\")\n",
    "print(f\"Training MSE at the degree of polynomial with the minimum cross validation MSE: {train_mses[cv_mses.index(min(cv_mses))]}\")"
   ]
  },
  {
   "cell_type": "markdown",
   "metadata": {},
   "source": [
    "### Tuning Regularization"
   ]
  },
  {
   "cell_type": "code",
   "execution_count": 132,
   "metadata": {},
   "outputs": [
    {
     "name": "stderr",
     "output_type": "stream",
     "text": [
      "c:\\Users\\sasin\\anaconda3\\Lib\\site-packages\\sklearn\\linear_model\\_ridge.py:253: LinAlgWarning: Ill-conditioned matrix (rcond=5.52188e-18): result may not be accurate.\n",
      "  dual_coef = linalg.solve(K, y, assume_a=\"pos\", overwrite_a=False)\n"
     ]
    },
    {
     "name": "stdout",
     "output_type": "stream",
     "text": [
      "The optimal lambda for regularization is: 1000.0\n",
      "The minimum cross validation MSE is: 1271873316.471755\n"
     ]
    }
   ],
   "source": [
    "# Initialize lists to save the errors, models, and feature transforms\n",
    "lambda_range = np.array([0.0, 1e-6, 1e-5, 1e-4,1e-3,1e-2, 1e-1,1,10,100,1000,10000,100000,1000000])\n",
    "train_mses = []\n",
    "cv_mses = []\n",
    "models = []\n",
    "polys = []\n",
    "scalers = []\n",
    "num_steps = len(lambda_range)\n",
    "\n",
    "optimal_degree = 4\n",
    "\n",
    "# Loop over 10 times. Each adding one more degree of polynomial higher than the last.\n",
    "for i in range(num_steps):\n",
    "    \n",
    "    lambda_ = lambda_range[i]\n",
    "\n",
    "    # Add polynomial features to the training set\n",
    "    poly = PolynomialFeatures(optimal_degree, include_bias=False)\n",
    "    X_train_mapped = poly.fit_transform(x_train)\n",
    "    polys.append(poly)\n",
    "    \n",
    "    # Scale the training set\n",
    "    scaler_poly = StandardScaler()\n",
    "    X_train_mapped_scaled = scaler_poly.fit_transform(X_train_mapped)\n",
    "    scalers.append(scaler_poly)\n",
    "    \n",
    "    # Create and train the model\n",
    "    model = Ridge(alpha=lambda_)\n",
    "    model.fit(X_train_mapped_scaled, y_train )\n",
    "    models.append(model)\n",
    "    \n",
    "    # Compute the training MSE\n",
    "    yhat = model.predict(X_train_mapped_scaled)\n",
    "    train_mse = mean_squared_error(y_train, yhat) / 2\n",
    "    train_mses.append(train_mse)\n",
    "    \n",
    "    # Add polynomial features and scale the cross validation set\n",
    "    X_cv_mapped = poly.transform(x_cv)\n",
    "    X_cv_mapped_scaled = scaler_poly.transform(X_cv_mapped)\n",
    "    \n",
    "    # Compute the cross validation MSE\n",
    "    yhat = model.predict(X_cv_mapped_scaled)\n",
    "    cv_mse = mean_squared_error(y_cv, yhat) / 2\n",
    "    cv_mses.append(cv_mse)\n",
    "\n",
    "# Find the index of the smallest cross-validation MSE\n",
    "optimal_lambda_index = np.argmin(cv_mses)\n",
    "\n",
    "# Find the optimal lambda using the index\n",
    "optimal_lambda = lambda_range[optimal_lambda_index]\n",
    "\n",
    "print(f\"The optimal lambda for regularization is: {optimal_lambda}\")\n",
    "print(f\"The minimum cross validation MSE is: {cv_mses[optimal_lambda_index]}\")"
   ]
  },
  {
   "cell_type": "code",
   "execution_count": 160,
   "metadata": {},
   "outputs": [
    {
     "name": "stdout",
     "output_type": "stream",
     "text": [
      "The optimal lambda for degree value 1 regularization is: 0.0\n",
      "The minimum cross validation MSE for degree value 1 is: 1094971381.5457566\n",
      "The optimal lambda for degree value 2 regularization is: 1.0\n",
      "The minimum cross validation MSE for degree value 2 is: 503948818.8143474\n"
     ]
    },
    {
     "name": "stderr",
     "output_type": "stream",
     "text": [
      "c:\\Users\\sasin\\anaconda3\\Lib\\site-packages\\sklearn\\linear_model\\_ridge.py:253: LinAlgWarning: Ill-conditioned matrix (rcond=2.80864e-18): result may not be accurate.\n",
      "  dual_coef = linalg.solve(K, y, assume_a=\"pos\", overwrite_a=False)\n"
     ]
    },
    {
     "name": "stdout",
     "output_type": "stream",
     "text": [
      "The optimal lambda for degree value 3 regularization is: 100.0\n",
      "The minimum cross validation MSE for degree value 3 is: 778042745.8997878\n"
     ]
    },
    {
     "name": "stderr",
     "output_type": "stream",
     "text": [
      "c:\\Users\\sasin\\anaconda3\\Lib\\site-packages\\sklearn\\linear_model\\_ridge.py:253: LinAlgWarning: Ill-conditioned matrix (rcond=5.52188e-18): result may not be accurate.\n",
      "  dual_coef = linalg.solve(K, y, assume_a=\"pos\", overwrite_a=False)\n"
     ]
    },
    {
     "name": "stdout",
     "output_type": "stream",
     "text": [
      "The optimal lambda for degree value 4 regularization is: 1000.0\n",
      "The minimum cross validation MSE for degree value 4 is: 1271873316.471755\n"
     ]
    },
    {
     "name": "stderr",
     "output_type": "stream",
     "text": [
      "c:\\Users\\sasin\\anaconda3\\Lib\\site-packages\\sklearn\\linear_model\\_ridge.py:253: LinAlgWarning: Ill-conditioned matrix (rcond=7.68803e-18): result may not be accurate.\n",
      "  dual_coef = linalg.solve(K, y, assume_a=\"pos\", overwrite_a=False)\n"
     ]
    },
    {
     "name": "stdout",
     "output_type": "stream",
     "text": [
      "The optimal lambda for degree value 5 regularization is: 10000.0\n",
      "The minimum cross validation MSE for degree value 5 is: 1067982720.662736\n",
      "The optimal degree for regularization is: 2.0\n"
     ]
    }
   ],
   "source": [
    "# Initialize lists to save the errors, models, and feature transforms\n",
    "lambda_range = np.array([0.0, 1e-6, 1e-5, 1e-4,1e-3,1e-2, 1e-1,1,10,100,1000,10000,100000,1000000])\n",
    "train_mses_mses = []\n",
    "cv_mses_mses = []\n",
    "num_steps = len(lambda_range)\n",
    "optimal_lambdas = []\n",
    "degrees = []\n",
    "maxdegree = 4\n",
    "\n",
    "# Loop over 10 times. Each adding one more degree of polynomial higher than the last.\n",
    "for degree in range(1,maxdegree+1):\n",
    "\n",
    "    train_mses = []\n",
    "    cv_mses = []\n",
    "    models = []\n",
    "    polys = []\n",
    "    scalers = []\n",
    "    optimal_degree = degree\n",
    "    for i in range(num_steps):\n",
    "    \n",
    "        lambda_ = lambda_range[i]\n",
    "\n",
    "        # Add polynomial features to the training set\n",
    "        poly = PolynomialFeatures(optimal_degree, include_bias=False)\n",
    "        X_train_mapped = poly.fit_transform(x_train)\n",
    "    \n",
    "        # Scale the training set\n",
    "        scaler_poly = StandardScaler()\n",
    "        X_train_mapped_scaled = scaler_poly.fit_transform(X_train_mapped)\n",
    "    \n",
    "        # Create and train the model\n",
    "        model = Ridge(alpha=lambda_)\n",
    "        model.fit(X_train_mapped_scaled, y_train )\n",
    "    \n",
    "        # Compute the training MSE\n",
    "        yhat = model.predict(X_train_mapped_scaled)\n",
    "        train_mse = mean_squared_error(y_train, yhat) / 2\n",
    "        train_mses.append(train_mse)\n",
    "    \n",
    "        # Add polynomial features and scale the cross validation set\n",
    "        X_cv_mapped = poly.transform(x_cv)\n",
    "        X_cv_mapped_scaled = scaler_poly.transform(X_cv_mapped)\n",
    "    \n",
    "        # Compute the cross validation MSE\n",
    "        yhat = model.predict(X_cv_mapped_scaled)\n",
    "        cv_mse = mean_squared_error(y_cv, yhat) / 2\n",
    "        cv_mses.append(cv_mse)\n",
    "\n",
    "    # Find the index of the smallest cross-validation MSE\n",
    "    optimal_lambda_index_for_degree = np.argmin(cv_mses)\n",
    "\n",
    "    # Find the optimal lambda using the index\n",
    "    optimal_lambda_for_degree = lambda_range[optimal_lambda_index_for_degree]\n",
    "\n",
    "    print(f\"The optimal lambda for degree value {degree} regularization is: {optimal_lambda_for_degree}\")\n",
    "    print(f\"The minimum cross validation MSE for degree value {degree} is: {cv_mses[optimal_lambda_index_for_degree]}\")\n",
    "\n",
    "    cv_mses_mses.append(cv_mses[optimal_lambda_index_for_degree])\n",
    "    train_mses_mses.append(train_mses[optimal_lambda_index_for_degree]) \n",
    "    optimal_lambdas.append(optimal_lambda_for_degree)\n",
    "    degrees.append(degree)\n",
    "    \n",
    "optimal_degree_index = np.argmin(cv_mses_mses)\n",
    "optimal_degree = optimal_lambdas[optimal_degree_index]\n",
    "\n",
    "print(f\"The optimal degree for regularization is: {optimal_degree + 1}\")\n"
   ]
  },
  {
   "cell_type": "code",
   "execution_count": 157,
   "metadata": {},
   "outputs": [],
   "source": [
    "def plot_train_cv_mses(range, train_mses_mses, cv_mses_mses, title):\n",
    "    plt.figure(figsize=(10, 5))\n",
    "    plt.plot(range, train_mses_mses, label='Train MSE')\n",
    "    plt.plot(range, cv_mses_mses, label='CV MSE')\n",
    "    plt.legend()\n",
    "    plt.xlabel('Degree of Polynomial')\n",
    "    plt.ylabel('MSE')\n",
    "    plt.xscale('log')  # This is to make the lambda range more readable\n",
    "    plt.title(title)\n",
    "    plt.show()"
   ]
  },
  {
   "cell_type": "code",
   "execution_count": 161,
   "metadata": {},
   "outputs": [
    {
     "data": {
      "application/vnd.jupyter.widget-view+json": {
       "model_id": "e02ac885185c40d2af93f4f59a0eccf3",
       "version_major": 2,
       "version_minor": 0
      },
      "image/png": "[encoded data removed]",
      "text/html": [
       "\n",
       "            <div style=\"display: inline-block;\">\n",
       "                <div class=\"jupyter-widgets widget-label\" style=\"text-align: center;\">\n",
       "                    Figure\n",
       "                </div>\n",
       "                <img src='data:image/png;base64,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' width=1000.0/>\n",
       "            </div>\n",
       "        "
      ],
      "text/plain": [
       "Canvas(toolbar=Toolbar(toolitems=[('Home', 'Reset original view', 'home', 'home'), ('Back', 'Back to previous …"
      ]
     },
     "metadata": {},
     "output_type": "display_data"
    }
   ],
   "source": [
    "\n",
    "plot_train_cv_mses(degrees, train_mses_mses, cv_mses_mses, 'Training and Cross Validation Errors')"
   ]
  },
  {
   "cell_type": "code",
   "execution_count": 159,
   "metadata": {},
   "outputs": [],
   "source": [
    "lambda_ =1\n",
    "optimal_degree = 2"
   ]
  },
  {
   "cell_type": "markdown",
   "metadata": {
    "id": "m5uStJF3GRl2"
   },
   "source": [
    "## Neural Networks\n",
    "\n",
    "The same model selection process can also be used when choosing between different neural network architectures. In this section, you will create the models shown below and apply it to the same regression task above.\n",
    "\n",
    "<img src='images/C2_W3_NN_Arch.png' width=40%>"
   ]
  },
  {
   "cell_type": "markdown",
   "metadata": {},
   "source": [
    "### Prepare the Data\n",
    "\n",
    "You will use the same training, cross validation, and test sets you generated in the previous section. From earlier lectures in this course, you may have known that neural networks can learn non-linear relationships so you can opt to skip adding polynomial features. The code is still included below in case you want to try later and see what effect it will have on your results. The default `degree` is set to `1` to indicate that it will just use `x_train`, `x_cv`, and `x_test` as is (i.e. without any additional polynomial features)."
   ]
  },
  {
   "cell_type": "code",
   "execution_count": 16,
   "metadata": {
    "id": "-armALWpGRl2"
   },
   "outputs": [],
   "source": [
    "# Add polynomial features\n",
    "degree = 1\n",
    "poly = PolynomialFeatures(degree, include_bias=False)\n",
    "X_train_mapped = poly.fit_transform(x_train)\n",
    "X_cv_mapped = poly.transform(x_cv)\n",
    "X_test_mapped = poly.transform(x_test)"
   ]
  },
  {
   "cell_type": "markdown",
   "metadata": {},
   "source": [
    "Next, you will scale the input features to help gradient descent converge faster. Again, notice that you are using the mean and standard deviation computed from the training set by just using `transform()` in the cross validation and test sets instead of `fit_transform()`."
   ]
  },
  {
   "cell_type": "code",
   "execution_count": 17,
   "metadata": {
    "id": "hBn-0m0IGRl2"
   },
   "outputs": [],
   "source": [
    "# Scale the features using the z-score\n",
    "scaler = StandardScaler()\n",
    "X_train_mapped_scaled = scaler.fit_transform(X_train_mapped)\n",
    "X_cv_mapped_scaled = scaler.transform(X_cv_mapped)\n",
    "X_test_mapped_scaled = scaler.transform(X_test_mapped)"
   ]
  },
  {
   "cell_type": "markdown",
   "metadata": {},
   "source": [
    "### Build and train the models\n",
    "\n",
    "You will then create the neural network architectures shown earlier. The code is provided in the `build_models()` function in the `utils.py` file in case you want to inspect or modify it. You will use that in the loop below then proceed to train the models. For each model, you will also record the training and cross validation errors."
   ]
  },
  {
   "cell_type": "code",
   "execution_count": 18,
   "metadata": {},
   "outputs": [
    {
     "name": "stdout",
     "output_type": "stream",
     "text": [
      "Training model_1...\n",
      "Done!\n",
      "\n",
      "\u001b[1m1/1\u001b[0m \u001b[32m━━━━━━━━━━━━━━━━━━━━\u001b[0m\u001b[37m\u001b[0m \u001b[1m0s\u001b[0m 90ms/step\n",
      "\u001b[1m1/1\u001b[0m \u001b[32m━━━━━━━━━━━━━━━━━━━━\u001b[0m\u001b[37m\u001b[0m \u001b[1m0s\u001b[0m 98ms/step\n",
      "Training model_2...\n",
      "Done!\n",
      "\n",
      "\u001b[1m1/1\u001b[0m \u001b[32m━━━━━━━━━━━━━━━━━━━━\u001b[0m\u001b[37m\u001b[0m \u001b[1m0s\u001b[0m 149ms/step\n",
      "\u001b[1m1/1\u001b[0m \u001b[32m━━━━━━━━━━━━━━━━━━━━\u001b[0m\u001b[37m\u001b[0m \u001b[1m0s\u001b[0m 153ms/step\n",
      "Training model_3...\n",
      "Done!\n",
      "\n",
      "\u001b[1m1/1\u001b[0m \u001b[32m━━━━━━━━━━━━━━━━━━━━\u001b[0m\u001b[37m\u001b[0m \u001b[1m0s\u001b[0m 149ms/step\n",
      "\u001b[1m1/1\u001b[0m \u001b[32m━━━━━━━━━━━━━━━━━━━━\u001b[0m\u001b[37m\u001b[0m \u001b[1m0s\u001b[0m 199ms/step\n",
      "RESULTS:\n",
      "Model 1: Training MSE: 406.19, CV MSE: 551.78\n",
      "Model 2: Training MSE: 73.40, CV MSE: 112.34\n",
      "Model 3: Training MSE: 73.40, CV MSE: 112.27\n"
     ]
    }
   ],
   "source": [
    "# Initialize lists that will contain the errors for each model\n",
    "nn_train_mses = []\n",
    "nn_cv_mses = []\n",
    "\n",
    "# Build the models\n",
    "nn_models = utils.build_models()\n",
    "\n",
    "# Loop over the the models\n",
    "for model in nn_models:\n",
    "    \n",
    "    # Setup the loss and optimizer\n",
    "    model.compile(\n",
    "    loss='mse',\n",
    "    optimizer=tf.keras.optimizers.Adam(learning_rate=0.1),\n",
    "    )\n",
    "\n",
    "    print(f\"Training {model.name}...\")\n",
    "    \n",
    "    # Train the model\n",
    "    model.fit(\n",
    "        X_train_mapped_scaled, y_train,\n",
    "        epochs=300,\n",
    "        verbose=0\n",
    "    )\n",
    "    \n",
    "    print(\"Done!\\n\")\n",
    "\n",
    "    \n",
    "    # Record the training MSEs\n",
    "    yhat = model.predict(X_train_mapped_scaled)\n",
    "    train_mse = mean_squared_error(y_train, yhat) / 2\n",
    "    nn_train_mses.append(train_mse)\n",
    "    \n",
    "    # Record the cross validation MSEs \n",
    "    yhat = model.predict(X_cv_mapped_scaled)\n",
    "    cv_mse = mean_squared_error(y_cv, yhat) / 2\n",
    "    nn_cv_mses.append(cv_mse)\n",
    "\n",
    "    \n",
    "# print results\n",
    "print(\"RESULTS:\")\n",
    "for model_num in range(len(nn_train_mses)):\n",
    "    print(\n",
    "        f\"Model {model_num+1}: Training MSE: {nn_train_mses[model_num]:.2f}, \" +\n",
    "        f\"CV MSE: {nn_cv_mses[model_num]:.2f}\"\n",
    "        )"
   ]
  },
  {
   "cell_type": "markdown",
   "metadata": {},
   "source": [
    "From the recorded errors, you can decide which is the best model for your application. Look at the results above and see if you agree with the selected `model_num` below. Finally, you will compute the test error to estimate how well it generalizes to new examples."
   ]
  },
  {
   "cell_type": "code",
   "execution_count": 19,
   "metadata": {},
   "outputs": [
    {
     "name": "stdout",
     "output_type": "stream",
     "text": [
      "\u001b[1m1/1\u001b[0m \u001b[32m━━━━━━━━━━━━━━━━━━━━\u001b[0m\u001b[37m\u001b[0m \u001b[1m0s\u001b[0m 37ms/step\n",
      "Selected Model: 3\n",
      "Training MSE: 73.40\n",
      "Cross Validation MSE: 112.27\n",
      "Test MSE: 131.56\n"
     ]
    }
   ],
   "source": [
    "# Select the model with the lowest CV MSE\n",
    "model_num = 3\n",
    "\n",
    "# Compute the test MSE\n",
    "yhat = nn_models[model_num-1].predict(X_test_mapped_scaled)\n",
    "test_mse = mean_squared_error(y_test, yhat) / 2\n",
    "\n",
    "print(f\"Selected Model: {model_num}\")\n",
    "print(f\"Training MSE: {nn_train_mses[model_num-1]:.2f}\")\n",
    "print(f\"Cross Validation MSE: {nn_cv_mses[model_num-1]:.2f}\")\n",
    "print(f\"Test MSE: {test_mse:.2f}\")"
   ]
  },
  {
   "cell_type": "markdown",
   "metadata": {},
   "source": [
    "## Classification\n",
    "\n",
    "In this last part of the lab, you will practice model evaluation and selection on a classification task. The process will be similar, with the main difference being the computation of the errors. You will see that in the following sections."
   ]
  },
  {
   "cell_type": "markdown",
   "metadata": {},
   "source": [
    "### Load the Dataset\n",
    "\n",
    "First, you will load a dataset for a binary classification task. It has 200 examples of two input features (`x1` and `x2`), and a target `y` of either `0` or `1`."
   ]
  },
  {
   "cell_type": "code",
   "execution_count": 20,
   "metadata": {},
   "outputs": [
    {
     "name": "stdout",
     "output_type": "stream",
     "text": [
      "the shape of the inputs x is: (200, 2)\n",
      "the shape of the targets y is: (200, 1)\n"
     ]
    }
   ],
   "source": [
    "# Load the dataset from a text file\n",
    "data = np.loadtxt('./data/data_w3_ex2.csv', delimiter=',')\n",
    "\n",
    "# Split the inputs and outputs into separate arrays\n",
    "x_bc = data[:,:-1]\n",
    "y_bc = data[:,-1]\n",
    "\n",
    "# Convert y into 2-D because the commands later will require it (x is already 2-D)\n",
    "y_bc = np.expand_dims(y_bc, axis=1)\n",
    "\n",
    "print(f\"the shape of the inputs x is: {x_bc.shape}\")\n",
    "print(f\"the shape of the targets y is: {y_bc.shape}\")"
   ]
  },
  {
   "cell_type": "markdown",
   "metadata": {},
   "source": [
    "You can plot the dataset to examine how the examples are separated."
   ]
  },
  {
   "cell_type": "code",
   "execution_count": 21,
   "metadata": {},
   "outputs": [
    {
     "data": {
      "image/png": "[encoded data removed]",
      "text/plain": [
       "<Figure size 1200x800 with 1 Axes>"
      ]
     },
     "metadata": {},
     "output_type": "display_data"
    }
   ],
   "source": [
    "utils.plot_bc_dataset(x=x_bc, y=y_bc, title=\"x1 vs. x2\")"
   ]
  },
  {
   "cell_type": "markdown",
   "metadata": {},
   "source": [
    "### Split and prepare the dataset\n",
    "\n",
    "Next, you will generate the training, cross validation, and test sets. You will use the same 60/20/20 proportions as before. You will also scale the features as you did in the previous section."
   ]
  },
  {
   "cell_type": "code",
   "execution_count": 22,
   "metadata": {},
   "outputs": [
    {
     "name": "stdout",
     "output_type": "stream",
     "text": [
      "the shape of the training set (input) is: (120, 2)\n",
      "the shape of the training set (target) is: (120, 1)\n",
      "\n",
      "the shape of the cross validation set (input) is: (40, 2)\n",
      "the shape of the cross validation set (target) is: (40, 1)\n",
      "\n",
      "the shape of the test set (input) is: (40, 2)\n",
      "the shape of the test set (target) is: (40, 1)\n"
     ]
    }
   ],
   "source": [
    "from sklearn.model_selection import train_test_split\n",
    "\n",
    "# Get 60% of the dataset as the training set. Put the remaining 40% in temporary variables.\n",
    "x_bc_train, x_, y_bc_train, y_ = train_test_split(x_bc, y_bc, test_size=0.40, random_state=1)\n",
    "\n",
    "# Split the 40% subset above into two: one half for cross validation and the other for the test set\n",
    "x_bc_cv, x_bc_test, y_bc_cv, y_bc_test = train_test_split(x_, y_, test_size=0.50, random_state=1)\n",
    "\n",
    "# Delete temporary variables\n",
    "del x_, y_\n",
    "\n",
    "print(f\"the shape of the training set (input) is: {x_bc_train.shape}\")\n",
    "print(f\"the shape of the training set (target) is: {y_bc_train.shape}\\n\")\n",
    "print(f\"the shape of the cross validation set (input) is: {x_bc_cv.shape}\")\n",
    "print(f\"the shape of the cross validation set (target) is: {y_bc_cv.shape}\\n\")\n",
    "print(f\"the shape of the test set (input) is: {x_bc_test.shape}\")\n",
    "print(f\"the shape of the test set (target) is: {y_bc_test.shape}\")"
   ]
  },
  {
   "cell_type": "code",
   "execution_count": 23,
   "metadata": {},
   "outputs": [],
   "source": [
    "# Scale the features\n",
    "\n",
    "# Initialize the class\n",
    "scaler_linear = StandardScaler()\n",
    "\n",
    "# Compute the mean and standard deviation of the training set then transform it\n",
    "x_bc_train_scaled = scaler_linear.fit_transform(x_bc_train)\n",
    "x_bc_cv_scaled = scaler_linear.transform(x_bc_cv)\n",
    "x_bc_test_scaled = scaler_linear.transform(x_bc_test)"
   ]
  },
  {
   "cell_type": "markdown",
   "metadata": {},
   "source": [
    "### Evaluating the error for classification models\n",
    "\n",
    "In the previous sections on regression models, you used the mean squared error to measure how well your model is doing. For classification, you can get a similar metric by getting the fraction of the data that the model has misclassified. For example, if your model made wrong predictions for 2 samples out of 5, then you will report an error of `40%` or `0.4`. The code below demonstrates this using a for-loop and also with Numpy's [`mean()`](https://numpy.org/doc/stable/reference/generated/numpy.mean.html) function. "
   ]
  },
  {
   "cell_type": "code",
   "execution_count": 24,
   "metadata": {},
   "outputs": [
    {
     "name": "stdout",
     "output_type": "stream",
     "text": [
      "probabilities: [0.2 0.6 0.7 0.3 0.8]\n",
      "predictions with threshold=0.5: [0 1 1 0 1]\n",
      "targets: [1 1 1 1 1]\n",
      "fraction of misclassified data (for-loop): 0.4\n",
      "fraction of misclassified data (with np.mean()): 0.4\n"
     ]
    }
   ],
   "source": [
    "# Sample model output\n",
    "probabilities = np.array([0.2, 0.6, 0.7, 0.3, 0.8])\n",
    "\n",
    "# Apply a threshold to the model output. If greater than 0.5, set to 1. Else 0.\n",
    "predictions = np.where(probabilities >= 0.5, 1, 0)\n",
    "\n",
    "# Ground truth labels\n",
    "ground_truth = np.array([1, 1, 1, 1, 1])\n",
    "\n",
    "# Initialize counter for misclassified data\n",
    "misclassified = 0\n",
    "\n",
    "# Get number of predictions\n",
    "num_predictions = len(predictions)\n",
    "\n",
    "# Loop over each prediction\n",
    "for i in range(num_predictions):\n",
    "    \n",
    "    # Check if it matches the ground truth\n",
    "    if predictions[i] != ground_truth[i]:\n",
    "        \n",
    "        # Add one to the counter if the prediction is wrong\n",
    "        misclassified += 1\n",
    "\n",
    "# Compute the fraction of the data that the model misclassified\n",
    "fraction_error = misclassified/num_predictions\n",
    "\n",
    "print(f\"probabilities: {probabilities}\")\n",
    "print(f\"predictions with threshold=0.5: {predictions}\")\n",
    "print(f\"targets: {ground_truth}\")\n",
    "print(f\"fraction of misclassified data (for-loop): {fraction_error}\")\n",
    "print(f\"fraction of misclassified data (with np.mean()): {np.mean(predictions != ground_truth)}\")"
   ]
  },
  {
   "cell_type": "markdown",
   "metadata": {},
   "source": [
    "### Build and train the model\n",
    "\n",
    "You will use the same neural network architectures in the previous section so you can call the `build_models()` function again to create new instances of these models. \n",
    "\n",
    "You will follow the recommended approach mentioned last week where you use a `linear` activation for the output layer (instead of `sigmoid`) then set `from_logits=True` when declaring the loss function of the model. You will use the [binary crossentropy loss](https://www.tensorflow.org/api_docs/python/tf/keras/losses/BinaryCrossentropy) because this is a binary classification problem.\n",
    "\n",
    "After training, you will use a [sigmoid function](https://www.tensorflow.org/api_docs/python/tf/math/sigmoid) to convert the model outputs into probabilities. From there, you can set a threshold and get the fraction of misclassified examples from the training and cross validation sets.\n",
    "\n",
    "You can see all these in the code cell below."
   ]
  },
  {
   "cell_type": "code",
   "execution_count": 25,
   "metadata": {},
   "outputs": [
    {
     "name": "stdout",
     "output_type": "stream",
     "text": [
      "Training model_1...\n",
      "Done!\n",
      "\n",
      "\u001b[1m4/4\u001b[0m \u001b[32m━━━━━━━━━━━━━━━━━━━━\u001b[0m\u001b[37m\u001b[0m \u001b[1m0s\u001b[0m 31ms/step\n",
      "\u001b[1m2/2\u001b[0m \u001b[32m━━━━━━━━━━━━━━━━━━━━\u001b[0m\u001b[37m\u001b[0m \u001b[1m0s\u001b[0m 2ms/step \n",
      "Training model_2...\n",
      "Done!\n",
      "\n",
      "\u001b[1m4/4\u001b[0m \u001b[32m━━━━━━━━━━━━━━━━━━━━\u001b[0m\u001b[37m\u001b[0m \u001b[1m0s\u001b[0m 78ms/step\n",
      "\u001b[1m2/2\u001b[0m \u001b[32m━━━━━━━━━━━━━━━━━━━━\u001b[0m\u001b[37m\u001b[0m \u001b[1m0s\u001b[0m 7ms/step \n",
      "Training model_3...\n",
      "Done!\n",
      "\n",
      "\u001b[1m4/4\u001b[0m \u001b[32m━━━━━━━━━━━━━━━━━━━━\u001b[0m\u001b[37m\u001b[0m \u001b[1m0s\u001b[0m 58ms/step\n",
      "\u001b[1m2/2\u001b[0m \u001b[32m━━━━━━━━━━━━━━━━━━━━\u001b[0m\u001b[37m\u001b[0m \u001b[1m0s\u001b[0m 6ms/step \n",
      "Model 1: Training Set Classification Error: 0.05000, CV Set Classification Error: 0.10000\n",
      "Model 2: Training Set Classification Error: 0.05000, CV Set Classification Error: 0.15000\n",
      "Model 3: Training Set Classification Error: 0.06667, CV Set Classification Error: 0.10000\n"
     ]
    }
   ],
   "source": [
    "# Initialize lists that will contain the errors for each model\n",
    "nn_train_error = []\n",
    "nn_cv_error = []\n",
    "\n",
    "# Build the models\n",
    "models_bc = utils.build_models()\n",
    "\n",
    "# Loop over each model\n",
    "for model in models_bc:\n",
    "    \n",
    "    # Setup the loss and optimizer\n",
    "    model.compile(\n",
    "    loss=tf.keras.losses.BinaryCrossentropy(from_logits=True),\n",
    "    optimizer=tf.keras.optimizers.Adam(learning_rate=0.01),\n",
    "    )\n",
    "\n",
    "    print(f\"Training {model.name}...\")\n",
    "\n",
    "    # Train the model\n",
    "    model.fit(\n",
    "        x_bc_train_scaled, y_bc_train,\n",
    "        epochs=200,\n",
    "        verbose=0\n",
    "    )\n",
    "    \n",
    "    print(\"Done!\\n\")\n",
    "    \n",
    "    # Set the threshold for classification\n",
    "    threshold = 0.5\n",
    "    \n",
    "    # Record the fraction of misclassified examples for the training set\n",
    "    yhat = model.predict(x_bc_train_scaled)\n",
    "    yhat = tf.math.sigmoid(yhat)\n",
    "    yhat = np.where(yhat >= threshold, 1, 0)\n",
    "    train_error = np.mean(yhat != y_bc_train)\n",
    "    nn_train_error.append(train_error)\n",
    "\n",
    "    # Record the fraction of misclassified examples for the cross validation set\n",
    "    yhat = model.predict(x_bc_cv_scaled)\n",
    "    yhat = tf.math.sigmoid(yhat)\n",
    "    yhat = np.where(yhat >= threshold, 1, 0)\n",
    "    cv_error = np.mean(yhat != y_bc_cv)\n",
    "    nn_cv_error.append(cv_error)\n",
    "\n",
    "# Print the result\n",
    "for model_num in range(len(nn_train_error)):\n",
    "    print(\n",
    "        f\"Model {model_num+1}: Training Set Classification Error: {nn_train_error[model_num]:.5f}, \" +\n",
    "        f\"CV Set Classification Error: {nn_cv_error[model_num]:.5f}\"\n",
    "        )"
   ]
  },
  {
   "cell_type": "markdown",
   "metadata": {},
   "source": [
    "From the output above, you can choose which one performed best. If there is a tie on the cross validation set error, then you can add another criteria to break it. For example, you can choose the one with a lower training error. A more common approach is to choose the smaller model because it saves computational resources. In our example, Model 1 is the smallest and Model 3 is the largest.\n",
    "\n",
    "Finally, you can compute the test error to report the model's generalization error."
   ]
  },
  {
   "cell_type": "code",
   "execution_count": 26,
   "metadata": {},
   "outputs": [
    {
     "name": "stdout",
     "output_type": "stream",
     "text": [
      "\u001b[1m2/2\u001b[0m \u001b[32m━━━━━━━━━━━━━━━━━━━━\u001b[0m\u001b[37m\u001b[0m \u001b[1m0s\u001b[0m 8ms/step \n",
      "Selected Model: 3\n",
      "Training Set Classification Error: 0.0667\n",
      "CV Set Classification Error: 0.1000\n",
      "Test Set Classification Error: 0.1750\n"
     ]
    }
   ],
   "source": [
    "# Select the model with the lowest error\n",
    "model_num = 3\n",
    "\n",
    "# Compute the test error\n",
    "yhat = models_bc[model_num-1].predict(x_bc_test_scaled)\n",
    "yhat = tf.math.sigmoid(yhat)\n",
    "yhat = np.where(yhat >= threshold, 1, 0)\n",
    "nn_test_error = np.mean(yhat != y_bc_test)\n",
    "\n",
    "print(f\"Selected Model: {model_num}\")\n",
    "print(f\"Training Set Classification Error: {nn_train_error[model_num-1]:.4f}\")\n",
    "print(f\"CV Set Classification Error: {nn_cv_error[model_num-1]:.4f}\")\n",
    "print(f\"Test Set Classification Error: {nn_test_error:.4f}\")"
   ]
  },
  {
   "cell_type": "markdown",
   "metadata": {},
   "source": [
    "## Wrap Up\n",
    "\n",
    "In this lab, you practiced evaluating a model's performance and choosing between different model configurations. You split your datasets into training, cross validation, and test sets and saw how each of these are used in machine learning applications. In the next section of the course, you will see more tips on how to improve your models by diagnosing bias and variance. Keep it up!"
   ]
  }
 ],
 "metadata": {
  "colab": {
   "collapsed_sections": [],
   "provenance": []
  },
  "kernelspec": {
   "display_name": "Python 3",
   "language": "python",
   "name": "python3"
  },
  "language_info": {
   "codemirror_mode": {
    "name": "ipython",
    "version": 3
   },
   "file_extension": ".py",
   "mimetype": "text/x-python",
   "name": "python",
   "nbconvert_exporter": "python",
   "pygments_lexer": "ipython3",
   "version": "3.11.7"
  }
 },
 "nbformat": 4,
 "nbformat_minor": 1
}
